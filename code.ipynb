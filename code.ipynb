{
  "nbformat": 4,
  "nbformat_minor": 0,
  "metadata": {
    "colab": {
      "name": "CSC2515-2.ipynb",
      "provenance": [],
      "collapsed_sections": []
    },
    "kernelspec": {
      "name": "python3",
      "display_name": "Python 3"
    }
  },
  "cells": [
    {
      "cell_type": "code",
      "metadata": {
        "colab": {
          "base_uri": "https://localhost:8080/"
        },
        "id": "yw743NHaws8f",
        "outputId": "d3578d29-8858-4f83-b0c2-0b92cfe1a183"
      },
      "source": [
        "from google.colab import drive\n",
        "drive.mount('/content/drive')"
      ],
      "execution_count": 1,
      "outputs": [
        {
          "output_type": "stream",
          "text": [
            "Drive already mounted at /content/drive; to attempt to forcibly remount, call drive.mount(\"/content/drive\", force_remount=True).\n"
          ],
          "name": "stdout"
        }
      ]
    },
    {
      "cell_type": "code",
      "metadata": {
        "colab": {
          "base_uri": "https://localhost:8080/"
        },
        "id": "EHTzJEYCw4lW",
        "outputId": "353429f9-e212-4335-c204-04d084cdf909"
      },
      "source": [
        "cd /content/drive/MyDrive/Colab Notebooks"
      ],
      "execution_count": 40,
      "outputs": [
        {
          "output_type": "stream",
          "text": [
            "/content/drive/MyDrive/Colab Notebooks\n"
          ],
          "name": "stdout"
        }
      ]
    },
    {
      "cell_type": "code",
      "metadata": {
        "id": "dJ-NaFhtw7lo"
      },
      "source": [
        "import json\n",
        "import pandas as pd\n",
        "from sklearn.feature_extraction.text import CountVectorizer\n",
        "from sklearn.preprocessing import FunctionTransformer\n",
        "from sklearn.pipeline import FeatureUnion\n",
        "from sklearn.pipeline import Pipeline\n",
        "from sklearn.feature_extraction.text import CountVectorizer\n",
        "from sklearn.linear_model import LinearRegression\n",
        "from sklearn.preprocessing import StandardScaler\n",
        "from sklearn.impute import SimpleImputer\n",
        "\n",
        "from sklearn.model_selection import train_test_split\n",
        "import numpy as np"
      ],
      "execution_count": 41,
      "outputs": []
    },
    {
      "cell_type": "code",
      "metadata": {
        "id": "BjLuHEjR25ge"
      },
      "source": [
        "\n",
        "#reading datasets with pandas\n",
        "kep = pd.read_csv('kepList.csv')\n",
        "epic = pd.read_csv('epicList.csv')"
      ],
      "execution_count": 42,
      "outputs": []
    },
    {
      "cell_type": "code",
      "metadata": {
        "colab": {
          "base_uri": "https://localhost:8080/"
        },
        "id": "WiI2yidqxY3u",
        "outputId": "c85b10a1-aaa0-44d0-9588-7b42942dd6fb"
      },
      "source": [
        "kep.info()"
      ],
      "execution_count": 43,
      "outputs": [
        {
          "output_type": "stream",
          "text": [
            "<class 'pandas.core.frame.DataFrame'>\n",
            "RangeIndex: 9564 entries, 0 to 9563\n",
            "Data columns (total 49 columns):\n",
            " #   Column             Non-Null Count  Dtype  \n",
            "---  ------             --------------  -----  \n",
            " 0   kepid              9564 non-null   int64  \n",
            " 1   kepoi_name         9564 non-null   object \n",
            " 2   kepler_name        2360 non-null   object \n",
            " 3   koi_disposition    9564 non-null   object \n",
            " 4   koi_pdisposition   9564 non-null   object \n",
            " 5   koi_score          8054 non-null   float64\n",
            " 6   koi_fpflag_nt      9564 non-null   int64  \n",
            " 7   koi_fpflag_ss      9564 non-null   int64  \n",
            " 8   koi_fpflag_co      9564 non-null   int64  \n",
            " 9   koi_fpflag_ec      9564 non-null   int64  \n",
            " 10  koi_period         9564 non-null   float64\n",
            " 11  koi_period_err1    9110 non-null   float64\n",
            " 12  koi_period_err2    9110 non-null   float64\n",
            " 13  koi_time0bk        9564 non-null   float64\n",
            " 14  koi_time0bk_err1   9110 non-null   float64\n",
            " 15  koi_time0bk_err2   9110 non-null   float64\n",
            " 16  koi_impact         9201 non-null   float64\n",
            " 17  koi_impact_err1    9110 non-null   float64\n",
            " 18  koi_impact_err2    9110 non-null   float64\n",
            " 19  koi_duration       9564 non-null   float64\n",
            " 20  koi_duration_err1  9110 non-null   float64\n",
            " 21  koi_duration_err2  9110 non-null   float64\n",
            " 22  koi_depth          9201 non-null   float64\n",
            " 23  koi_depth_err1     9110 non-null   float64\n",
            " 24  koi_depth_err2     9110 non-null   float64\n",
            " 25  koi_prad           9201 non-null   float64\n",
            " 26  koi_prad_err1      9201 non-null   float64\n",
            " 27  koi_prad_err2      9201 non-null   float64\n",
            " 28  koi_teq            9201 non-null   float64\n",
            " 29  koi_teq_err1       0 non-null      float64\n",
            " 30  koi_teq_err2       0 non-null      float64\n",
            " 31  koi_insol          9243 non-null   float64\n",
            " 32  koi_insol_err1     9243 non-null   float64\n",
            " 33  koi_insol_err2     9243 non-null   float64\n",
            " 34  koi_model_snr      9201 non-null   float64\n",
            " 35  koi_tce_plnt_num   9218 non-null   float64\n",
            " 36  koi_tce_delivname  9218 non-null   object \n",
            " 37  koi_steff          9201 non-null   float64\n",
            " 38  koi_steff_err1     9096 non-null   float64\n",
            " 39  koi_steff_err2     9081 non-null   float64\n",
            " 40  koi_slogg          9201 non-null   float64\n",
            " 41  koi_slogg_err1     9096 non-null   float64\n",
            " 42  koi_slogg_err2     9096 non-null   float64\n",
            " 43  koi_srad           9201 non-null   float64\n",
            " 44  koi_srad_err1      9096 non-null   float64\n",
            " 45  koi_srad_err2      9096 non-null   float64\n",
            " 46  ra                 9564 non-null   float64\n",
            " 47  dec                9564 non-null   float64\n",
            " 48  koi_kepmag         9563 non-null   float64\n",
            "dtypes: float64(39), int64(5), object(5)\n",
            "memory usage: 3.6+ MB\n"
          ],
          "name": "stdout"
        }
      ]
    },
    {
      "cell_type": "code",
      "metadata": {
        "colab": {
          "base_uri": "https://localhost:8080/"
        },
        "id": "s9vIznuBytJv",
        "outputId": "841915cc-579e-49aa-9dcd-56b9745ffda6"
      },
      "source": [
        "epic.info()"
      ],
      "execution_count": 44,
      "outputs": [
        {
          "output_type": "stream",
          "text": [
            "<class 'pandas.core.frame.DataFrame'>\n",
            "RangeIndex: 2583 entries, 0 to 2582\n",
            "Data columns (total 39 columns):\n",
            " #   Column          Non-Null Count  Dtype  \n",
            "---  ------          --------------  -----  \n",
            " 0   epic_name       2583 non-null   object \n",
            " 1   epic_candname   2583 non-null   object \n",
            " 2   pl_name         1022 non-null   object \n",
            " 3   k2c_refdisp     2583 non-null   object \n",
            " 4   k2c_reflink     2583 non-null   object \n",
            " 5   k2c_disp        2583 non-null   object \n",
            " 6   k2c_note        76 non-null     object \n",
            " 7   k2_campaign     2580 non-null   float64\n",
            " 8   k2c_recentflag  2583 non-null   int64  \n",
            " 9   pl_orbper       2560 non-null   float64\n",
            " 10  pl_orbpererr1   1692 non-null   float64\n",
            " 11  pl_orbpererr2   1692 non-null   float64\n",
            " 12  pl_orbperlim    2560 non-null   float64\n",
            " 13  pl_tranmid      2580 non-null   float64\n",
            " 14  pl_tranmiderr1  1712 non-null   float64\n",
            " 15  pl_tranmiderr2  1712 non-null   float64\n",
            " 16  pl_tranmidlim   2580 non-null   float64\n",
            " 17  pl_ratdor       1324 non-null   float64\n",
            " 18  pl_ratdorerr1   1245 non-null   float64\n",
            " 19  pl_ratdorerr2   1245 non-null   float64\n",
            " 20  pl_ratdorlim    1324 non-null   float64\n",
            " 21  pl_ratror       2080 non-null   float64\n",
            " 22  pl_ratrorerr1   1678 non-null   float64\n",
            " 23  pl_ratrorerr2   1678 non-null   float64\n",
            " 24  pl_ratrorlim    2080 non-null   float64\n",
            " 25  pl_rade         1913 non-null   float64\n",
            " 26  pl_radeerr1     1646 non-null   float64\n",
            " 27  pl_radeerr2     1646 non-null   float64\n",
            " 28  pl_radelim      1913 non-null   float64\n",
            " 29  st_rad          1849 non-null   float64\n",
            " 30  st_raderr1      1452 non-null   float64\n",
            " 31  st_raderr2      1452 non-null   float64\n",
            " 32  st_radlim       1849 non-null   float64\n",
            " 33  st_kep          2580 non-null   float64\n",
            " 34  st_keperr       0 non-null      float64\n",
            " 35  st_keplim       2580 non-null   float64\n",
            " 36  st_k2           2551 non-null   float64\n",
            " 37  st_k2err        2544 non-null   float64\n",
            " 38  st_k2lim        2551 non-null   float64\n",
            "dtypes: float64(31), int64(1), object(7)\n",
            "memory usage: 787.1+ KB\n"
          ],
          "name": "stdout"
        }
      ]
    },
    {
      "cell_type": "code",
      "metadata": {
        "id": "WtXB2YOBy2Up"
      },
      "source": [
        "#After analyzing the data, I have reduced the columns to features that are present in both datasets\n",
        "\n",
        "#kepid - epic_name (drop EPIC from name to have unique ID) -> Planet ID for mission\n",
        "#kepoi_name - epic_candname -> Candidate name\n",
        "#kepler_name - pl_name -> Planet name\n",
        "#koi_pdisposition (CANDIDATE/FALSE POSITIVE) - k2c_refdisp (CONFIRMED/CANDIDATE/FALSE POSITIVE) -> Reference disposition (turn into category 1, 0)\n",
        "#koi_disposition - k2c_disp -> Exoplanet archive disposition (CONFIRMED/CANDIDATE/FALSE POSITIVE) ###THIS IS WHAT WE'RE PREDICTING\n",
        "#koi_period - pl_orbper -> Oribtal Period (days)\n",
        "#koi_period_err1 - pl_orbpererr1 -> Oribtal Period Upper Unc. (days)\n",
        "#koi_period_err2 - pl_orbpererr2 -> Oribtal Period Lower Unc. (days)\n",
        "#koi_duration - pl_tranmid -> Transit duration(half this)/midpoint  (hrs (convert to days)/days)\n",
        "#koi_duration_err1 - pl_tranmiderr1 -> Transit duration(half this)/midpoint Upper Unc. (hrs (convert to days)/days)\n",
        "#koi_duration_err2 - pl_tranmiderr2 -> Transit duration(half this)/midpoint  Lower Unc. (hrs (convert to days)/days)\n",
        "#koi_prad - pl_rade -> Planet Radius (Earth radii)\n",
        "#koi_prad_err1 - pl_radeerr1 -> Planet Radius Upper Unc. (Earth radii)\n",
        "#koi_prad_err2 - pl_radeerr2 -> Planet Radius Lower Unc. (Earth radii)\n",
        "#koi_srad - st_rad -> Stellar Radius (Solar radii)\n",
        "#koi_srad_err1 - st_raderr1 -> Stellar Radius Upper Unc. (Solar radii)\n",
        "#koi_srad_err2 - st_raderr2 -> Stellar Radius Lower Unc. (Solar radii)\n",
        "#koi_kepmag - st_kep -> Kepler Band (mag)\n"
      ],
      "execution_count": 45,
      "outputs": []
    },
    {
      "cell_type": "code",
      "metadata": {
        "id": "LIQJaCSLeyuj"
      },
      "source": [
        "#drop irrelevant columns\n",
        "\n",
        "kep = kep[['kepid', 'kepoi_name', 'kepler_name', 'koi_pdisposition', 'koi_disposition', 'koi_period', 'koi_period_err1', 'koi_period_err2', 'koi_duration', 'koi_duration_err1', 'koi_duration_err2', 'koi_prad', 'koi_prad_err1', 'koi_prad_err2', 'koi_srad', 'koi_srad_err1', 'koi_srad_err2', 'koi_kepmag']]\n",
        "\n",
        "\n",
        "epic = epic[['epic_name', 'epic_candname', 'pl_name', 'k2c_refdisp', 'k2c_disp', 'pl_orbper', 'pl_orbpererr1', 'pl_orbpererr2', 'pl_tranmid', 'pl_tranmiderr1', 'pl_tranmiderr2', 'pl_rade', 'pl_radeerr1', 'pl_radeerr2', 'st_rad', 'st_raderr1', 'st_raderr2', 'st_kep']]\n"
      ],
      "execution_count": 46,
      "outputs": []
    },
    {
      "cell_type": "code",
      "metadata": {
        "colab": {
          "base_uri": "https://localhost:8080/"
        },
        "id": "sYIT_WYmiXbM",
        "outputId": "f78e270b-9bbf-4033-b23f-80e2c22e6462"
      },
      "source": [
        "kep.info()"
      ],
      "execution_count": 47,
      "outputs": [
        {
          "output_type": "stream",
          "text": [
            "<class 'pandas.core.frame.DataFrame'>\n",
            "RangeIndex: 9564 entries, 0 to 9563\n",
            "Data columns (total 18 columns):\n",
            " #   Column             Non-Null Count  Dtype  \n",
            "---  ------             --------------  -----  \n",
            " 0   kepid              9564 non-null   int64  \n",
            " 1   kepoi_name         9564 non-null   object \n",
            " 2   kepler_name        2360 non-null   object \n",
            " 3   koi_pdisposition   9564 non-null   object \n",
            " 4   koi_disposition    9564 non-null   object \n",
            " 5   koi_period         9564 non-null   float64\n",
            " 6   koi_period_err1    9110 non-null   float64\n",
            " 7   koi_period_err2    9110 non-null   float64\n",
            " 8   koi_duration       9564 non-null   float64\n",
            " 9   koi_duration_err1  9110 non-null   float64\n",
            " 10  koi_duration_err2  9110 non-null   float64\n",
            " 11  koi_prad           9201 non-null   float64\n",
            " 12  koi_prad_err1      9201 non-null   float64\n",
            " 13  koi_prad_err2      9201 non-null   float64\n",
            " 14  koi_srad           9201 non-null   float64\n",
            " 15  koi_srad_err1      9096 non-null   float64\n",
            " 16  koi_srad_err2      9096 non-null   float64\n",
            " 17  koi_kepmag         9563 non-null   float64\n",
            "dtypes: float64(13), int64(1), object(4)\n",
            "memory usage: 1.3+ MB\n"
          ],
          "name": "stdout"
        }
      ]
    },
    {
      "cell_type": "code",
      "metadata": {
        "colab": {
          "base_uri": "https://localhost:8080/"
        },
        "id": "ewrJbbi2iZlw",
        "outputId": "0b8e3b23-55fa-40f5-cc85-4bc9a8bfd529"
      },
      "source": [
        "epic.info()"
      ],
      "execution_count": 48,
      "outputs": [
        {
          "output_type": "stream",
          "text": [
            "<class 'pandas.core.frame.DataFrame'>\n",
            "RangeIndex: 2583 entries, 0 to 2582\n",
            "Data columns (total 18 columns):\n",
            " #   Column          Non-Null Count  Dtype  \n",
            "---  ------          --------------  -----  \n",
            " 0   epic_name       2583 non-null   object \n",
            " 1   epic_candname   2583 non-null   object \n",
            " 2   pl_name         1022 non-null   object \n",
            " 3   k2c_refdisp     2583 non-null   object \n",
            " 4   k2c_disp        2583 non-null   object \n",
            " 5   pl_orbper       2560 non-null   float64\n",
            " 6   pl_orbpererr1   1692 non-null   float64\n",
            " 7   pl_orbpererr2   1692 non-null   float64\n",
            " 8   pl_tranmid      2580 non-null   float64\n",
            " 9   pl_tranmiderr1  1712 non-null   float64\n",
            " 10  pl_tranmiderr2  1712 non-null   float64\n",
            " 11  pl_rade         1913 non-null   float64\n",
            " 12  pl_radeerr1     1646 non-null   float64\n",
            " 13  pl_radeerr2     1646 non-null   float64\n",
            " 14  st_rad          1849 non-null   float64\n",
            " 15  st_raderr1      1452 non-null   float64\n",
            " 16  st_raderr2      1452 non-null   float64\n",
            " 17  st_kep          2580 non-null   float64\n",
            "dtypes: float64(13), object(5)\n",
            "memory usage: 363.4+ KB\n"
          ],
          "name": "stdout"
        }
      ]
    },
    {
      "cell_type": "code",
      "metadata": {
        "id": "h41EMzlV6Raz"
      },
      "source": [
        "#Convert columns that need converting, check unique ids"
      ],
      "execution_count": 49,
      "outputs": []
    },
    {
      "cell_type": "code",
      "metadata": {
        "id": "lZ44a61umFOC"
      },
      "source": [
        "#convert hours to days, duration to midpoint\n",
        "kep['koi_duration'] = kep['koi_duration']/48\n",
        "kep['koi_duration_err1'] = kep['koi_duration_err1']/48\n",
        "kep['koi_duration_err2'] = kep['koi_duration_err2']/48"
      ],
      "execution_count": 50,
      "outputs": []
    },
    {
      "cell_type": "code",
      "metadata": {
        "id": "2gmHeMb26Yoh"
      },
      "source": [
        "#rename columns to mutual names and merge"
      ],
      "execution_count": 51,
      "outputs": []
    },
    {
      "cell_type": "code",
      "metadata": {
        "id": "RH31abQGv8CT"
      },
      "source": [
        "kep['id'] = kep['kepid']\n",
        "kep.drop('kepid',axis = 'columns',inplace = True) \n",
        "epic['id'] = epic['epic_name']\n",
        "epic.drop('epic_name',axis = 'columns',inplace = True) \n",
        "\n",
        "kep['can_name'] = kep['kepoi_name']\n",
        "kep.drop('kepoi_name',axis = 'columns',inplace = True) \n",
        "epic['can_name'] = epic['epic_candname']\n",
        "epic.drop('epic_candname',axis = 'columns',inplace = True) \n",
        "\n",
        "kep['pl_name'] = kep['kepler_name']\n",
        "kep.drop('kepler_name',axis = 'columns',inplace = True) \n",
        "\n",
        "kep['ref_disp'] = kep['koi_pdisposition']\n",
        "kep.drop('koi_pdisposition',axis = 'columns',inplace = True) \n",
        "epic['ref_disp'] = epic['k2c_refdisp']\n",
        "epic.drop('k2c_refdisp',axis = 'columns',inplace = True) \n",
        "\n",
        "kep['disp'] = kep['koi_disposition']\n",
        "kep.drop('koi_disposition',axis = 'columns',inplace = True) \n",
        "epic['disp'] = epic['k2c_disp']\n",
        "epic.drop('k2c_disp',axis = 'columns',inplace = True) \n",
        "\n",
        "kep['pl_orbper'] = kep['koi_period']\n",
        "kep.drop('koi_period',axis = 'columns',inplace = True) \n",
        "kep['pl_orbpererr1'] = kep['koi_period_err1']\n",
        "kep.drop('koi_period_err1',axis = 'columns',inplace = True) \n",
        "kep['pl_orbpererr2'] = kep['koi_period_err2']\n",
        "kep.drop('koi_period_err2',axis = 'columns',inplace = True) \n",
        "\n",
        "kep['pl_tranmid'] = kep['koi_duration']\n",
        "kep.drop('koi_duration',axis = 'columns',inplace = True) \n",
        "kep['pl_tranmiderr1'] = kep['koi_duration_err1']\n",
        "kep.drop('koi_duration_err1',axis = 'columns',inplace = True) \n",
        "kep['pl_tranmiderr2'] = kep['koi_duration_err2']\n",
        "kep.drop('koi_duration_err2',axis = 'columns',inplace = True) \n",
        "\n",
        "kep['pl_rade'] = kep['koi_prad']\n",
        "kep.drop('koi_prad',axis = 'columns',inplace = True) \n",
        "kep['pl_radeerr1'] = kep['koi_prad_err1']\n",
        "kep.drop('koi_prad_err1',axis = 'columns',inplace = True) \n",
        "kep['pl_radeerr2'] = kep['koi_prad_err2']\n",
        "kep.drop('koi_prad_err2',axis = 'columns',inplace = True) \n",
        "\n",
        "kep['st_rad'] = kep['koi_srad']\n",
        "kep.drop('koi_srad',axis = 'columns',inplace = True) \n",
        "kep['st_raderr1'] = kep['koi_srad_err1']\n",
        "kep.drop('koi_srad_err1',axis = 'columns',inplace = True) \n",
        "kep['st_raderr2'] = kep['koi_srad_err2']\n",
        "kep.drop('koi_srad_err2',axis = 'columns',inplace = True) \n",
        "\n",
        "kep['kep_mag'] = kep['koi_kepmag']\n",
        "kep.drop('koi_kepmag',axis = 'columns',inplace = True) \n",
        "epic['kep_mag'] = epic['st_kep']\n",
        "epic.drop('st_kep',axis = 'columns',inplace = True) "
      ],
      "execution_count": 52,
      "outputs": []
    },
    {
      "cell_type": "code",
      "metadata": {
        "colab": {
          "base_uri": "https://localhost:8080/"
        },
        "id": "bp_-Zw37zO9t",
        "outputId": "36d4fb91-493f-484b-f6df-24baba5656cb"
      },
      "source": [
        "kep.info()"
      ],
      "execution_count": 53,
      "outputs": [
        {
          "output_type": "stream",
          "text": [
            "<class 'pandas.core.frame.DataFrame'>\n",
            "RangeIndex: 9564 entries, 0 to 9563\n",
            "Data columns (total 18 columns):\n",
            " #   Column          Non-Null Count  Dtype  \n",
            "---  ------          --------------  -----  \n",
            " 0   id              9564 non-null   int64  \n",
            " 1   can_name        9564 non-null   object \n",
            " 2   pl_name         2360 non-null   object \n",
            " 3   ref_disp        9564 non-null   object \n",
            " 4   disp            9564 non-null   object \n",
            " 5   pl_orbper       9564 non-null   float64\n",
            " 6   pl_orbpererr1   9110 non-null   float64\n",
            " 7   pl_orbpererr2   9110 non-null   float64\n",
            " 8   pl_tranmid      9564 non-null   float64\n",
            " 9   pl_tranmiderr1  9110 non-null   float64\n",
            " 10  pl_tranmiderr2  9110 non-null   float64\n",
            " 11  pl_rade         9201 non-null   float64\n",
            " 12  pl_radeerr1     9201 non-null   float64\n",
            " 13  pl_radeerr2     9201 non-null   float64\n",
            " 14  st_rad          9201 non-null   float64\n",
            " 15  st_raderr1      9096 non-null   float64\n",
            " 16  st_raderr2      9096 non-null   float64\n",
            " 17  kep_mag         9563 non-null   float64\n",
            "dtypes: float64(13), int64(1), object(4)\n",
            "memory usage: 1.3+ MB\n"
          ],
          "name": "stdout"
        }
      ]
    },
    {
      "cell_type": "code",
      "metadata": {
        "colab": {
          "base_uri": "https://localhost:8080/"
        },
        "id": "kc3zq7FnzSQH",
        "outputId": "44eafd93-63e1-4ab6-fd78-704026659404"
      },
      "source": [
        "epic.info()"
      ],
      "execution_count": 54,
      "outputs": [
        {
          "output_type": "stream",
          "text": [
            "<class 'pandas.core.frame.DataFrame'>\n",
            "RangeIndex: 2583 entries, 0 to 2582\n",
            "Data columns (total 18 columns):\n",
            " #   Column          Non-Null Count  Dtype  \n",
            "---  ------          --------------  -----  \n",
            " 0   pl_name         1022 non-null   object \n",
            " 1   pl_orbper       2560 non-null   float64\n",
            " 2   pl_orbpererr1   1692 non-null   float64\n",
            " 3   pl_orbpererr2   1692 non-null   float64\n",
            " 4   pl_tranmid      2580 non-null   float64\n",
            " 5   pl_tranmiderr1  1712 non-null   float64\n",
            " 6   pl_tranmiderr2  1712 non-null   float64\n",
            " 7   pl_rade         1913 non-null   float64\n",
            " 8   pl_radeerr1     1646 non-null   float64\n",
            " 9   pl_radeerr2     1646 non-null   float64\n",
            " 10  st_rad          1849 non-null   float64\n",
            " 11  st_raderr1      1452 non-null   float64\n",
            " 12  st_raderr2      1452 non-null   float64\n",
            " 13  id              2583 non-null   object \n",
            " 14  can_name        2583 non-null   object \n",
            " 15  ref_disp        2583 non-null   object \n",
            " 16  disp            2583 non-null   object \n",
            " 17  kep_mag         2580 non-null   float64\n",
            "dtypes: float64(13), object(5)\n",
            "memory usage: 363.4+ KB\n"
          ],
          "name": "stdout"
        }
      ]
    },
    {
      "cell_type": "code",
      "metadata": {
        "id": "MbFlc585zTIi"
      },
      "source": [
        "#rearrange\n",
        "epic = epic[['id', 'can_name', 'pl_name', 'ref_disp', 'disp', 'pl_orbper', 'pl_orbpererr1', 'pl_orbpererr2', 'pl_tranmid', 'pl_tranmiderr1', 'pl_tranmiderr2', 'pl_rade', 'pl_radeerr1', 'pl_radeerr2', 'st_rad', 'st_raderr1', 'st_raderr2', 'kep_mag']]"
      ],
      "execution_count": 55,
      "outputs": []
    },
    {
      "cell_type": "code",
      "metadata": {
        "colab": {
          "base_uri": "https://localhost:8080/"
        },
        "id": "0tADat2k1Oll",
        "outputId": "28a38f7a-a307-4b93-9ae8-bcbf1faa5636"
      },
      "source": [
        "epic.info()"
      ],
      "execution_count": 56,
      "outputs": [
        {
          "output_type": "stream",
          "text": [
            "<class 'pandas.core.frame.DataFrame'>\n",
            "RangeIndex: 2583 entries, 0 to 2582\n",
            "Data columns (total 18 columns):\n",
            " #   Column          Non-Null Count  Dtype  \n",
            "---  ------          --------------  -----  \n",
            " 0   id              2583 non-null   object \n",
            " 1   can_name        2583 non-null   object \n",
            " 2   pl_name         1022 non-null   object \n",
            " 3   ref_disp        2583 non-null   object \n",
            " 4   disp            2583 non-null   object \n",
            " 5   pl_orbper       2560 non-null   float64\n",
            " 6   pl_orbpererr1   1692 non-null   float64\n",
            " 7   pl_orbpererr2   1692 non-null   float64\n",
            " 8   pl_tranmid      2580 non-null   float64\n",
            " 9   pl_tranmiderr1  1712 non-null   float64\n",
            " 10  pl_tranmiderr2  1712 non-null   float64\n",
            " 11  pl_rade         1913 non-null   float64\n",
            " 12  pl_radeerr1     1646 non-null   float64\n",
            " 13  pl_radeerr2     1646 non-null   float64\n",
            " 14  st_rad          1849 non-null   float64\n",
            " 15  st_raderr1      1452 non-null   float64\n",
            " 16  st_raderr2      1452 non-null   float64\n",
            " 17  kep_mag         2580 non-null   float64\n",
            "dtypes: float64(13), object(5)\n",
            "memory usage: 363.4+ KB\n"
          ],
          "name": "stdout"
        }
      ]
    },
    {
      "cell_type": "code",
      "metadata": {
        "id": "viJClDjB1PZJ"
      },
      "source": [
        "#join the dataframes\n",
        "import pandas as pd\n",
        "final_df = pd.concat([kep,epic])"
      ],
      "execution_count": 57,
      "outputs": []
    },
    {
      "cell_type": "code",
      "metadata": {
        "colab": {
          "base_uri": "https://localhost:8080/",
          "height": 592
        },
        "id": "I8ABM5W51hUR",
        "outputId": "29c81d3c-a6e6-4308-8578-f4af3e08a522"
      },
      "source": [
        "final_df"
      ],
      "execution_count": 58,
      "outputs": [
        {
          "output_type": "execute_result",
          "data": {
            "text/html": [
              "<div>\n",
              "<style scoped>\n",
              "    .dataframe tbody tr th:only-of-type {\n",
              "        vertical-align: middle;\n",
              "    }\n",
              "\n",
              "    .dataframe tbody tr th {\n",
              "        vertical-align: top;\n",
              "    }\n",
              "\n",
              "    .dataframe thead th {\n",
              "        text-align: right;\n",
              "    }\n",
              "</style>\n",
              "<table border=\"1\" class=\"dataframe\">\n",
              "  <thead>\n",
              "    <tr style=\"text-align: right;\">\n",
              "      <th></th>\n",
              "      <th>id</th>\n",
              "      <th>can_name</th>\n",
              "      <th>pl_name</th>\n",
              "      <th>ref_disp</th>\n",
              "      <th>disp</th>\n",
              "      <th>pl_orbper</th>\n",
              "      <th>pl_orbpererr1</th>\n",
              "      <th>pl_orbpererr2</th>\n",
              "      <th>pl_tranmid</th>\n",
              "      <th>pl_tranmiderr1</th>\n",
              "      <th>pl_tranmiderr2</th>\n",
              "      <th>pl_rade</th>\n",
              "      <th>pl_radeerr1</th>\n",
              "      <th>pl_radeerr2</th>\n",
              "      <th>st_rad</th>\n",
              "      <th>st_raderr1</th>\n",
              "      <th>st_raderr2</th>\n",
              "      <th>kep_mag</th>\n",
              "    </tr>\n",
              "  </thead>\n",
              "  <tbody>\n",
              "    <tr>\n",
              "      <th>0</th>\n",
              "      <td>10797460</td>\n",
              "      <td>K00752.01</td>\n",
              "      <td>Kepler-227 b</td>\n",
              "      <td>CANDIDATE</td>\n",
              "      <td>CONFIRMED</td>\n",
              "      <td>9.488036</td>\n",
              "      <td>2.780000e-05</td>\n",
              "      <td>-2.780000e-05</td>\n",
              "      <td>6.161458e-02</td>\n",
              "      <td>0.001706</td>\n",
              "      <td>-0.001706</td>\n",
              "      <td>2.26</td>\n",
              "      <td>0.26</td>\n",
              "      <td>-0.15</td>\n",
              "      <td>0.927</td>\n",
              "      <td>0.105</td>\n",
              "      <td>-0.061</td>\n",
              "      <td>15.347</td>\n",
              "    </tr>\n",
              "    <tr>\n",
              "      <th>1</th>\n",
              "      <td>10797460</td>\n",
              "      <td>K00752.02</td>\n",
              "      <td>Kepler-227 c</td>\n",
              "      <td>CANDIDATE</td>\n",
              "      <td>CONFIRMED</td>\n",
              "      <td>54.418383</td>\n",
              "      <td>2.480000e-04</td>\n",
              "      <td>-2.480000e-04</td>\n",
              "      <td>9.389583e-02</td>\n",
              "      <td>0.002417</td>\n",
              "      <td>-0.002417</td>\n",
              "      <td>2.83</td>\n",
              "      <td>0.32</td>\n",
              "      <td>-0.19</td>\n",
              "      <td>0.927</td>\n",
              "      <td>0.105</td>\n",
              "      <td>-0.061</td>\n",
              "      <td>15.347</td>\n",
              "    </tr>\n",
              "    <tr>\n",
              "      <th>2</th>\n",
              "      <td>10811496</td>\n",
              "      <td>K00753.01</td>\n",
              "      <td>NaN</td>\n",
              "      <td>CANDIDATE</td>\n",
              "      <td>CANDIDATE</td>\n",
              "      <td>19.899140</td>\n",
              "      <td>1.490000e-05</td>\n",
              "      <td>-1.490000e-05</td>\n",
              "      <td>3.712917e-02</td>\n",
              "      <td>0.000710</td>\n",
              "      <td>-0.000710</td>\n",
              "      <td>14.60</td>\n",
              "      <td>3.92</td>\n",
              "      <td>-1.31</td>\n",
              "      <td>0.868</td>\n",
              "      <td>0.233</td>\n",
              "      <td>-0.078</td>\n",
              "      <td>15.436</td>\n",
              "    </tr>\n",
              "    <tr>\n",
              "      <th>3</th>\n",
              "      <td>10848459</td>\n",
              "      <td>K00754.01</td>\n",
              "      <td>NaN</td>\n",
              "      <td>FALSE POSITIVE</td>\n",
              "      <td>FALSE POSITIVE</td>\n",
              "      <td>1.736952</td>\n",
              "      <td>2.630000e-07</td>\n",
              "      <td>-2.630000e-07</td>\n",
              "      <td>5.013354e-02</td>\n",
              "      <td>0.000112</td>\n",
              "      <td>-0.000112</td>\n",
              "      <td>33.46</td>\n",
              "      <td>8.50</td>\n",
              "      <td>-2.83</td>\n",
              "      <td>0.791</td>\n",
              "      <td>0.201</td>\n",
              "      <td>-0.067</td>\n",
              "      <td>15.597</td>\n",
              "    </tr>\n",
              "    <tr>\n",
              "      <th>4</th>\n",
              "      <td>10854555</td>\n",
              "      <td>K00755.01</td>\n",
              "      <td>Kepler-664 b</td>\n",
              "      <td>CANDIDATE</td>\n",
              "      <td>CONFIRMED</td>\n",
              "      <td>2.525592</td>\n",
              "      <td>3.760000e-06</td>\n",
              "      <td>-3.760000e-06</td>\n",
              "      <td>3.446875e-02</td>\n",
              "      <td>0.000875</td>\n",
              "      <td>-0.000875</td>\n",
              "      <td>2.75</td>\n",
              "      <td>0.88</td>\n",
              "      <td>-0.35</td>\n",
              "      <td>1.046</td>\n",
              "      <td>0.334</td>\n",
              "      <td>-0.133</td>\n",
              "      <td>15.509</td>\n",
              "    </tr>\n",
              "    <tr>\n",
              "      <th>...</th>\n",
              "      <td>...</td>\n",
              "      <td>...</td>\n",
              "      <td>...</td>\n",
              "      <td>...</td>\n",
              "      <td>...</td>\n",
              "      <td>...</td>\n",
              "      <td>...</td>\n",
              "      <td>...</td>\n",
              "      <td>...</td>\n",
              "      <td>...</td>\n",
              "      <td>...</td>\n",
              "      <td>...</td>\n",
              "      <td>...</td>\n",
              "      <td>...</td>\n",
              "      <td>...</td>\n",
              "      <td>...</td>\n",
              "      <td>...</td>\n",
              "      <td>...</td>\n",
              "    </tr>\n",
              "    <tr>\n",
              "      <th>2578</th>\n",
              "      <td>EPIC 251394139</td>\n",
              "      <td>EPIC 251394139.01</td>\n",
              "      <td>NaN</td>\n",
              "      <td>FALSE POSITIVE</td>\n",
              "      <td>FALSE POSITIVE</td>\n",
              "      <td>26.286249</td>\n",
              "      <td>NaN</td>\n",
              "      <td>NaN</td>\n",
              "      <td>2.458110e+06</td>\n",
              "      <td>NaN</td>\n",
              "      <td>NaN</td>\n",
              "      <td>NaN</td>\n",
              "      <td>NaN</td>\n",
              "      <td>NaN</td>\n",
              "      <td>NaN</td>\n",
              "      <td>NaN</td>\n",
              "      <td>NaN</td>\n",
              "      <td>11.763</td>\n",
              "    </tr>\n",
              "    <tr>\n",
              "      <th>2579</th>\n",
              "      <td>EPIC 251404897</td>\n",
              "      <td>EPIC 251404897.01</td>\n",
              "      <td>NaN</td>\n",
              "      <td>FALSE POSITIVE</td>\n",
              "      <td>FALSE POSITIVE</td>\n",
              "      <td>0.660085</td>\n",
              "      <td>NaN</td>\n",
              "      <td>NaN</td>\n",
              "      <td>2.458096e+06</td>\n",
              "      <td>NaN</td>\n",
              "      <td>NaN</td>\n",
              "      <td>NaN</td>\n",
              "      <td>NaN</td>\n",
              "      <td>NaN</td>\n",
              "      <td>NaN</td>\n",
              "      <td>NaN</td>\n",
              "      <td>NaN</td>\n",
              "      <td>16.029</td>\n",
              "    </tr>\n",
              "    <tr>\n",
              "      <th>2580</th>\n",
              "      <td>EPIC 251411166</td>\n",
              "      <td>EPIC 251411166.01</td>\n",
              "      <td>NaN</td>\n",
              "      <td>FALSE POSITIVE</td>\n",
              "      <td>FALSE POSITIVE</td>\n",
              "      <td>3.374330</td>\n",
              "      <td>NaN</td>\n",
              "      <td>NaN</td>\n",
              "      <td>2.458096e+06</td>\n",
              "      <td>NaN</td>\n",
              "      <td>NaN</td>\n",
              "      <td>NaN</td>\n",
              "      <td>NaN</td>\n",
              "      <td>NaN</td>\n",
              "      <td>NaN</td>\n",
              "      <td>NaN</td>\n",
              "      <td>NaN</td>\n",
              "      <td>14.179</td>\n",
              "    </tr>\n",
              "    <tr>\n",
              "      <th>2581</th>\n",
              "      <td>EPIC 251809286</td>\n",
              "      <td>EPIC 251809286.01</td>\n",
              "      <td>NaN</td>\n",
              "      <td>FALSE POSITIVE</td>\n",
              "      <td>FALSE POSITIVE</td>\n",
              "      <td>9.485826</td>\n",
              "      <td>NaN</td>\n",
              "      <td>NaN</td>\n",
              "      <td>2.458098e+06</td>\n",
              "      <td>NaN</td>\n",
              "      <td>NaN</td>\n",
              "      <td>NaN</td>\n",
              "      <td>NaN</td>\n",
              "      <td>NaN</td>\n",
              "      <td>NaN</td>\n",
              "      <td>NaN</td>\n",
              "      <td>NaN</td>\n",
              "      <td>NaN</td>\n",
              "    </tr>\n",
              "    <tr>\n",
              "      <th>2582</th>\n",
              "      <td>EPIC 251809628</td>\n",
              "      <td>EPIC 251809628.01</td>\n",
              "      <td>NaN</td>\n",
              "      <td>FALSE POSITIVE</td>\n",
              "      <td>FALSE POSITIVE</td>\n",
              "      <td>7.220585</td>\n",
              "      <td>NaN</td>\n",
              "      <td>NaN</td>\n",
              "      <td>2.458100e+06</td>\n",
              "      <td>NaN</td>\n",
              "      <td>NaN</td>\n",
              "      <td>NaN</td>\n",
              "      <td>NaN</td>\n",
              "      <td>NaN</td>\n",
              "      <td>NaN</td>\n",
              "      <td>NaN</td>\n",
              "      <td>NaN</td>\n",
              "      <td>NaN</td>\n",
              "    </tr>\n",
              "  </tbody>\n",
              "</table>\n",
              "<p>12147 rows × 18 columns</p>\n",
              "</div>"
            ],
            "text/plain": [
              "                  id           can_name  ... st_raderr2 kep_mag\n",
              "0           10797460          K00752.01  ...     -0.061  15.347\n",
              "1           10797460          K00752.02  ...     -0.061  15.347\n",
              "2           10811496          K00753.01  ...     -0.078  15.436\n",
              "3           10848459          K00754.01  ...     -0.067  15.597\n",
              "4           10854555          K00755.01  ...     -0.133  15.509\n",
              "...              ...                ...  ...        ...     ...\n",
              "2578  EPIC 251394139  EPIC 251394139.01  ...        NaN  11.763\n",
              "2579  EPIC 251404897  EPIC 251404897.01  ...        NaN  16.029\n",
              "2580  EPIC 251411166  EPIC 251411166.01  ...        NaN  14.179\n",
              "2581  EPIC 251809286  EPIC 251809286.01  ...        NaN     NaN\n",
              "2582  EPIC 251809628  EPIC 251809628.01  ...        NaN     NaN\n",
              "\n",
              "[12147 rows x 18 columns]"
            ]
          },
          "metadata": {
            "tags": []
          },
          "execution_count": 58
        }
      ]
    },
    {
      "cell_type": "code",
      "metadata": {
        "colab": {
          "base_uri": "https://localhost:8080/"
        },
        "id": "PxCLdc5B1iW1",
        "outputId": "6f700a78-e1a0-40c8-9987-773c146199c7"
      },
      "source": [
        "final_df.info()"
      ],
      "execution_count": 59,
      "outputs": [
        {
          "output_type": "stream",
          "text": [
            "<class 'pandas.core.frame.DataFrame'>\n",
            "Int64Index: 12147 entries, 0 to 2582\n",
            "Data columns (total 18 columns):\n",
            " #   Column          Non-Null Count  Dtype  \n",
            "---  ------          --------------  -----  \n",
            " 0   id              12147 non-null  object \n",
            " 1   can_name        12147 non-null  object \n",
            " 2   pl_name         3382 non-null   object \n",
            " 3   ref_disp        12147 non-null  object \n",
            " 4   disp            12147 non-null  object \n",
            " 5   pl_orbper       12124 non-null  float64\n",
            " 6   pl_orbpererr1   10802 non-null  float64\n",
            " 7   pl_orbpererr2   10802 non-null  float64\n",
            " 8   pl_tranmid      12144 non-null  float64\n",
            " 9   pl_tranmiderr1  10822 non-null  float64\n",
            " 10  pl_tranmiderr2  10822 non-null  float64\n",
            " 11  pl_rade         11114 non-null  float64\n",
            " 12  pl_radeerr1     10847 non-null  float64\n",
            " 13  pl_radeerr2     10847 non-null  float64\n",
            " 14  st_rad          11050 non-null  float64\n",
            " 15  st_raderr1      10548 non-null  float64\n",
            " 16  st_raderr2      10548 non-null  float64\n",
            " 17  kep_mag         12143 non-null  float64\n",
            "dtypes: float64(13), object(5)\n",
            "memory usage: 1.8+ MB\n"
          ],
          "name": "stdout"
        }
      ]
    },
    {
      "cell_type": "code",
      "metadata": {
        "id": "-SAV7ZYz1q7d"
      },
      "source": [
        "#encode ref_disp categories into columns\n",
        "df = pd.get_dummies(final_df['ref_disp'], drop_first=True)\n",
        "\n",
        "final_df = pd.concat([final_df, df],axis = 'columns')"
      ],
      "execution_count": 60,
      "outputs": []
    },
    {
      "cell_type": "code",
      "metadata": {
        "id": "nnMRa3572Rug"
      },
      "source": [
        "final_df.drop('ref_disp',axis = 'columns',inplace = True) "
      ],
      "execution_count": 61,
      "outputs": []
    },
    {
      "cell_type": "code",
      "metadata": {
        "colab": {
          "base_uri": "https://localhost:8080/"
        },
        "id": "KuhBS8NN2SkU",
        "outputId": "3d74461c-5b5c-42d6-d63d-257c5ebd47ab"
      },
      "source": [
        "final_df.can_name.describe()"
      ],
      "execution_count": 62,
      "outputs": [
        {
          "output_type": "execute_result",
          "data": {
            "text/plain": [
              "count                 12147\n",
              "unique                11016\n",
              "top       EPIC 211969807.01\n",
              "freq                      7\n",
              "Name: can_name, dtype: object"
            ]
          },
          "metadata": {
            "tags": []
          },
          "execution_count": 62
        }
      ]
    },
    {
      "cell_type": "code",
      "metadata": {
        "colab": {
          "base_uri": "https://localhost:8080/"
        },
        "id": "clE930Rx5lmt",
        "outputId": "19b43b8c-4fc9-4d8f-92a8-2e1d246a00ae"
      },
      "source": [
        "final_df.id.describe()"
      ],
      "execution_count": 63,
      "outputs": [
        {
          "output_type": "execute_result",
          "data": {
            "text/plain": [
              "count              12147\n",
              "unique              9510\n",
              "top       EPIC 201505350\n",
              "freq                  14\n",
              "Name: id, dtype: object"
            ]
          },
          "metadata": {
            "tags": []
          },
          "execution_count": 63
        }
      ]
    },
    {
      "cell_type": "code",
      "metadata": {
        "colab": {
          "base_uri": "https://localhost:8080/"
        },
        "id": "LQKCjVMB7wvy",
        "outputId": "89881a3c-b98c-4c0b-cfc9-109123358ba5"
      },
      "source": [
        "final_df.info()"
      ],
      "execution_count": 64,
      "outputs": [
        {
          "output_type": "stream",
          "text": [
            "<class 'pandas.core.frame.DataFrame'>\n",
            "Int64Index: 12147 entries, 0 to 2582\n",
            "Data columns (total 19 columns):\n",
            " #   Column          Non-Null Count  Dtype  \n",
            "---  ------          --------------  -----  \n",
            " 0   id              12147 non-null  object \n",
            " 1   can_name        12147 non-null  object \n",
            " 2   pl_name         3382 non-null   object \n",
            " 3   disp            12147 non-null  object \n",
            " 4   pl_orbper       12124 non-null  float64\n",
            " 5   pl_orbpererr1   10802 non-null  float64\n",
            " 6   pl_orbpererr2   10802 non-null  float64\n",
            " 7   pl_tranmid      12144 non-null  float64\n",
            " 8   pl_tranmiderr1  10822 non-null  float64\n",
            " 9   pl_tranmiderr2  10822 non-null  float64\n",
            " 10  pl_rade         11114 non-null  float64\n",
            " 11  pl_radeerr1     10847 non-null  float64\n",
            " 12  pl_radeerr2     10847 non-null  float64\n",
            " 13  st_rad          11050 non-null  float64\n",
            " 14  st_raderr1      10548 non-null  float64\n",
            " 15  st_raderr2      10548 non-null  float64\n",
            " 16  kep_mag         12143 non-null  float64\n",
            " 17  CONFIRMED       12147 non-null  uint8  \n",
            " 18  FALSE POSITIVE  12147 non-null  uint8  \n",
            "dtypes: float64(13), object(4), uint8(2)\n",
            "memory usage: 1.7+ MB\n"
          ],
          "name": "stdout"
        }
      ]
    },
    {
      "cell_type": "code",
      "metadata": {
        "id": "jZke_AoyAeuT"
      },
      "source": [
        "#get obj feature from last two characters in can_name\n",
        "final_df['obj'] = final_df['can_name'].str.split('\\.').str[-1].str.strip()\n",
        "\n",
        "final_df['obj'] = final_df['obj'].apply(int)"
      ],
      "execution_count": 65,
      "outputs": []
    },
    {
      "cell_type": "code",
      "metadata": {
        "colab": {
          "base_uri": "https://localhost:8080/",
          "height": 609
        },
        "id": "T2i4zDY9BAev",
        "outputId": "e85e0ce2-a69a-4a74-ade9-134cac55f564"
      },
      "source": [
        "final_df"
      ],
      "execution_count": 66,
      "outputs": [
        {
          "output_type": "execute_result",
          "data": {
            "text/html": [
              "<div>\n",
              "<style scoped>\n",
              "    .dataframe tbody tr th:only-of-type {\n",
              "        vertical-align: middle;\n",
              "    }\n",
              "\n",
              "    .dataframe tbody tr th {\n",
              "        vertical-align: top;\n",
              "    }\n",
              "\n",
              "    .dataframe thead th {\n",
              "        text-align: right;\n",
              "    }\n",
              "</style>\n",
              "<table border=\"1\" class=\"dataframe\">\n",
              "  <thead>\n",
              "    <tr style=\"text-align: right;\">\n",
              "      <th></th>\n",
              "      <th>id</th>\n",
              "      <th>can_name</th>\n",
              "      <th>pl_name</th>\n",
              "      <th>disp</th>\n",
              "      <th>pl_orbper</th>\n",
              "      <th>pl_orbpererr1</th>\n",
              "      <th>pl_orbpererr2</th>\n",
              "      <th>pl_tranmid</th>\n",
              "      <th>pl_tranmiderr1</th>\n",
              "      <th>pl_tranmiderr2</th>\n",
              "      <th>pl_rade</th>\n",
              "      <th>pl_radeerr1</th>\n",
              "      <th>pl_radeerr2</th>\n",
              "      <th>st_rad</th>\n",
              "      <th>st_raderr1</th>\n",
              "      <th>st_raderr2</th>\n",
              "      <th>kep_mag</th>\n",
              "      <th>CONFIRMED</th>\n",
              "      <th>FALSE POSITIVE</th>\n",
              "      <th>obj</th>\n",
              "    </tr>\n",
              "  </thead>\n",
              "  <tbody>\n",
              "    <tr>\n",
              "      <th>0</th>\n",
              "      <td>10797460</td>\n",
              "      <td>K00752.01</td>\n",
              "      <td>Kepler-227 b</td>\n",
              "      <td>CONFIRMED</td>\n",
              "      <td>9.488036</td>\n",
              "      <td>2.780000e-05</td>\n",
              "      <td>-2.780000e-05</td>\n",
              "      <td>6.161458e-02</td>\n",
              "      <td>0.001706</td>\n",
              "      <td>-0.001706</td>\n",
              "      <td>2.26</td>\n",
              "      <td>0.26</td>\n",
              "      <td>-0.15</td>\n",
              "      <td>0.927</td>\n",
              "      <td>0.105</td>\n",
              "      <td>-0.061</td>\n",
              "      <td>15.347</td>\n",
              "      <td>0</td>\n",
              "      <td>0</td>\n",
              "      <td>1</td>\n",
              "    </tr>\n",
              "    <tr>\n",
              "      <th>1</th>\n",
              "      <td>10797460</td>\n",
              "      <td>K00752.02</td>\n",
              "      <td>Kepler-227 c</td>\n",
              "      <td>CONFIRMED</td>\n",
              "      <td>54.418383</td>\n",
              "      <td>2.480000e-04</td>\n",
              "      <td>-2.480000e-04</td>\n",
              "      <td>9.389583e-02</td>\n",
              "      <td>0.002417</td>\n",
              "      <td>-0.002417</td>\n",
              "      <td>2.83</td>\n",
              "      <td>0.32</td>\n",
              "      <td>-0.19</td>\n",
              "      <td>0.927</td>\n",
              "      <td>0.105</td>\n",
              "      <td>-0.061</td>\n",
              "      <td>15.347</td>\n",
              "      <td>0</td>\n",
              "      <td>0</td>\n",
              "      <td>2</td>\n",
              "    </tr>\n",
              "    <tr>\n",
              "      <th>2</th>\n",
              "      <td>10811496</td>\n",
              "      <td>K00753.01</td>\n",
              "      <td>NaN</td>\n",
              "      <td>CANDIDATE</td>\n",
              "      <td>19.899140</td>\n",
              "      <td>1.490000e-05</td>\n",
              "      <td>-1.490000e-05</td>\n",
              "      <td>3.712917e-02</td>\n",
              "      <td>0.000710</td>\n",
              "      <td>-0.000710</td>\n",
              "      <td>14.60</td>\n",
              "      <td>3.92</td>\n",
              "      <td>-1.31</td>\n",
              "      <td>0.868</td>\n",
              "      <td>0.233</td>\n",
              "      <td>-0.078</td>\n",
              "      <td>15.436</td>\n",
              "      <td>0</td>\n",
              "      <td>0</td>\n",
              "      <td>1</td>\n",
              "    </tr>\n",
              "    <tr>\n",
              "      <th>3</th>\n",
              "      <td>10848459</td>\n",
              "      <td>K00754.01</td>\n",
              "      <td>NaN</td>\n",
              "      <td>FALSE POSITIVE</td>\n",
              "      <td>1.736952</td>\n",
              "      <td>2.630000e-07</td>\n",
              "      <td>-2.630000e-07</td>\n",
              "      <td>5.013354e-02</td>\n",
              "      <td>0.000112</td>\n",
              "      <td>-0.000112</td>\n",
              "      <td>33.46</td>\n",
              "      <td>8.50</td>\n",
              "      <td>-2.83</td>\n",
              "      <td>0.791</td>\n",
              "      <td>0.201</td>\n",
              "      <td>-0.067</td>\n",
              "      <td>15.597</td>\n",
              "      <td>0</td>\n",
              "      <td>1</td>\n",
              "      <td>1</td>\n",
              "    </tr>\n",
              "    <tr>\n",
              "      <th>4</th>\n",
              "      <td>10854555</td>\n",
              "      <td>K00755.01</td>\n",
              "      <td>Kepler-664 b</td>\n",
              "      <td>CONFIRMED</td>\n",
              "      <td>2.525592</td>\n",
              "      <td>3.760000e-06</td>\n",
              "      <td>-3.760000e-06</td>\n",
              "      <td>3.446875e-02</td>\n",
              "      <td>0.000875</td>\n",
              "      <td>-0.000875</td>\n",
              "      <td>2.75</td>\n",
              "      <td>0.88</td>\n",
              "      <td>-0.35</td>\n",
              "      <td>1.046</td>\n",
              "      <td>0.334</td>\n",
              "      <td>-0.133</td>\n",
              "      <td>15.509</td>\n",
              "      <td>0</td>\n",
              "      <td>0</td>\n",
              "      <td>1</td>\n",
              "    </tr>\n",
              "    <tr>\n",
              "      <th>...</th>\n",
              "      <td>...</td>\n",
              "      <td>...</td>\n",
              "      <td>...</td>\n",
              "      <td>...</td>\n",
              "      <td>...</td>\n",
              "      <td>...</td>\n",
              "      <td>...</td>\n",
              "      <td>...</td>\n",
              "      <td>...</td>\n",
              "      <td>...</td>\n",
              "      <td>...</td>\n",
              "      <td>...</td>\n",
              "      <td>...</td>\n",
              "      <td>...</td>\n",
              "      <td>...</td>\n",
              "      <td>...</td>\n",
              "      <td>...</td>\n",
              "      <td>...</td>\n",
              "      <td>...</td>\n",
              "      <td>...</td>\n",
              "    </tr>\n",
              "    <tr>\n",
              "      <th>2578</th>\n",
              "      <td>EPIC 251394139</td>\n",
              "      <td>EPIC 251394139.01</td>\n",
              "      <td>NaN</td>\n",
              "      <td>FALSE POSITIVE</td>\n",
              "      <td>26.286249</td>\n",
              "      <td>NaN</td>\n",
              "      <td>NaN</td>\n",
              "      <td>2.458110e+06</td>\n",
              "      <td>NaN</td>\n",
              "      <td>NaN</td>\n",
              "      <td>NaN</td>\n",
              "      <td>NaN</td>\n",
              "      <td>NaN</td>\n",
              "      <td>NaN</td>\n",
              "      <td>NaN</td>\n",
              "      <td>NaN</td>\n",
              "      <td>11.763</td>\n",
              "      <td>0</td>\n",
              "      <td>1</td>\n",
              "      <td>1</td>\n",
              "    </tr>\n",
              "    <tr>\n",
              "      <th>2579</th>\n",
              "      <td>EPIC 251404897</td>\n",
              "      <td>EPIC 251404897.01</td>\n",
              "      <td>NaN</td>\n",
              "      <td>FALSE POSITIVE</td>\n",
              "      <td>0.660085</td>\n",
              "      <td>NaN</td>\n",
              "      <td>NaN</td>\n",
              "      <td>2.458096e+06</td>\n",
              "      <td>NaN</td>\n",
              "      <td>NaN</td>\n",
              "      <td>NaN</td>\n",
              "      <td>NaN</td>\n",
              "      <td>NaN</td>\n",
              "      <td>NaN</td>\n",
              "      <td>NaN</td>\n",
              "      <td>NaN</td>\n",
              "      <td>16.029</td>\n",
              "      <td>0</td>\n",
              "      <td>1</td>\n",
              "      <td>1</td>\n",
              "    </tr>\n",
              "    <tr>\n",
              "      <th>2580</th>\n",
              "      <td>EPIC 251411166</td>\n",
              "      <td>EPIC 251411166.01</td>\n",
              "      <td>NaN</td>\n",
              "      <td>FALSE POSITIVE</td>\n",
              "      <td>3.374330</td>\n",
              "      <td>NaN</td>\n",
              "      <td>NaN</td>\n",
              "      <td>2.458096e+06</td>\n",
              "      <td>NaN</td>\n",
              "      <td>NaN</td>\n",
              "      <td>NaN</td>\n",
              "      <td>NaN</td>\n",
              "      <td>NaN</td>\n",
              "      <td>NaN</td>\n",
              "      <td>NaN</td>\n",
              "      <td>NaN</td>\n",
              "      <td>14.179</td>\n",
              "      <td>0</td>\n",
              "      <td>1</td>\n",
              "      <td>1</td>\n",
              "    </tr>\n",
              "    <tr>\n",
              "      <th>2581</th>\n",
              "      <td>EPIC 251809286</td>\n",
              "      <td>EPIC 251809286.01</td>\n",
              "      <td>NaN</td>\n",
              "      <td>FALSE POSITIVE</td>\n",
              "      <td>9.485826</td>\n",
              "      <td>NaN</td>\n",
              "      <td>NaN</td>\n",
              "      <td>2.458098e+06</td>\n",
              "      <td>NaN</td>\n",
              "      <td>NaN</td>\n",
              "      <td>NaN</td>\n",
              "      <td>NaN</td>\n",
              "      <td>NaN</td>\n",
              "      <td>NaN</td>\n",
              "      <td>NaN</td>\n",
              "      <td>NaN</td>\n",
              "      <td>NaN</td>\n",
              "      <td>0</td>\n",
              "      <td>1</td>\n",
              "      <td>1</td>\n",
              "    </tr>\n",
              "    <tr>\n",
              "      <th>2582</th>\n",
              "      <td>EPIC 251809628</td>\n",
              "      <td>EPIC 251809628.01</td>\n",
              "      <td>NaN</td>\n",
              "      <td>FALSE POSITIVE</td>\n",
              "      <td>7.220585</td>\n",
              "      <td>NaN</td>\n",
              "      <td>NaN</td>\n",
              "      <td>2.458100e+06</td>\n",
              "      <td>NaN</td>\n",
              "      <td>NaN</td>\n",
              "      <td>NaN</td>\n",
              "      <td>NaN</td>\n",
              "      <td>NaN</td>\n",
              "      <td>NaN</td>\n",
              "      <td>NaN</td>\n",
              "      <td>NaN</td>\n",
              "      <td>NaN</td>\n",
              "      <td>0</td>\n",
              "      <td>1</td>\n",
              "      <td>1</td>\n",
              "    </tr>\n",
              "  </tbody>\n",
              "</table>\n",
              "<p>12147 rows × 20 columns</p>\n",
              "</div>"
            ],
            "text/plain": [
              "                  id           can_name  ... FALSE POSITIVE obj\n",
              "0           10797460          K00752.01  ...              0   1\n",
              "1           10797460          K00752.02  ...              0   2\n",
              "2           10811496          K00753.01  ...              0   1\n",
              "3           10848459          K00754.01  ...              1   1\n",
              "4           10854555          K00755.01  ...              0   1\n",
              "...              ...                ...  ...            ...  ..\n",
              "2578  EPIC 251394139  EPIC 251394139.01  ...              1   1\n",
              "2579  EPIC 251404897  EPIC 251404897.01  ...              1   1\n",
              "2580  EPIC 251411166  EPIC 251411166.01  ...              1   1\n",
              "2581  EPIC 251809286  EPIC 251809286.01  ...              1   1\n",
              "2582  EPIC 251809628  EPIC 251809628.01  ...              1   1\n",
              "\n",
              "[12147 rows x 20 columns]"
            ]
          },
          "metadata": {
            "tags": []
          },
          "execution_count": 66
        }
      ]
    },
    {
      "cell_type": "code",
      "metadata": {
        "colab": {
          "base_uri": "https://localhost:8080/"
        },
        "id": "Dt-M6fQSBFqv",
        "outputId": "76d982ea-293a-4327-a68e-7176eb6083f7"
      },
      "source": [
        "final_df.info()"
      ],
      "execution_count": 67,
      "outputs": [
        {
          "output_type": "stream",
          "text": [
            "<class 'pandas.core.frame.DataFrame'>\n",
            "Int64Index: 12147 entries, 0 to 2582\n",
            "Data columns (total 20 columns):\n",
            " #   Column          Non-Null Count  Dtype  \n",
            "---  ------          --------------  -----  \n",
            " 0   id              12147 non-null  object \n",
            " 1   can_name        12147 non-null  object \n",
            " 2   pl_name         3382 non-null   object \n",
            " 3   disp            12147 non-null  object \n",
            " 4   pl_orbper       12124 non-null  float64\n",
            " 5   pl_orbpererr1   10802 non-null  float64\n",
            " 6   pl_orbpererr2   10802 non-null  float64\n",
            " 7   pl_tranmid      12144 non-null  float64\n",
            " 8   pl_tranmiderr1  10822 non-null  float64\n",
            " 9   pl_tranmiderr2  10822 non-null  float64\n",
            " 10  pl_rade         11114 non-null  float64\n",
            " 11  pl_radeerr1     10847 non-null  float64\n",
            " 12  pl_radeerr2     10847 non-null  float64\n",
            " 13  st_rad          11050 non-null  float64\n",
            " 14  st_raderr1      10548 non-null  float64\n",
            " 15  st_raderr2      10548 non-null  float64\n",
            " 16  kep_mag         12143 non-null  float64\n",
            " 17  CONFIRMED       12147 non-null  uint8  \n",
            " 18  FALSE POSITIVE  12147 non-null  uint8  \n",
            " 19  obj             12147 non-null  int64  \n",
            "dtypes: float64(13), int64(1), object(4), uint8(2)\n",
            "memory usage: 1.8+ MB\n"
          ],
          "name": "stdout"
        }
      ]
    },
    {
      "cell_type": "code",
      "metadata": {
        "id": "Y4DYLpfO5TKG"
      },
      "source": [
        "#forward fill nulls\n",
        "final_df.fillna(method='ffill',inplace =True)"
      ],
      "execution_count": 68,
      "outputs": []
    },
    {
      "cell_type": "code",
      "metadata": {
        "colab": {
          "base_uri": "https://localhost:8080/"
        },
        "id": "6Ii4MqfC8DHI",
        "outputId": "f1fe1cc7-ba4f-4b36-dcae-905fcdddf1cf"
      },
      "source": [
        "final_df.info()"
      ],
      "execution_count": 69,
      "outputs": [
        {
          "output_type": "stream",
          "text": [
            "<class 'pandas.core.frame.DataFrame'>\n",
            "Int64Index: 12147 entries, 0 to 2582\n",
            "Data columns (total 20 columns):\n",
            " #   Column          Non-Null Count  Dtype  \n",
            "---  ------          --------------  -----  \n",
            " 0   id              12147 non-null  object \n",
            " 1   can_name        12147 non-null  object \n",
            " 2   pl_name         12147 non-null  object \n",
            " 3   disp            12147 non-null  object \n",
            " 4   pl_orbper       12147 non-null  float64\n",
            " 5   pl_orbpererr1   12147 non-null  float64\n",
            " 6   pl_orbpererr2   12147 non-null  float64\n",
            " 7   pl_tranmid      12147 non-null  float64\n",
            " 8   pl_tranmiderr1  12147 non-null  float64\n",
            " 9   pl_tranmiderr2  12147 non-null  float64\n",
            " 10  pl_rade         12147 non-null  float64\n",
            " 11  pl_radeerr1     12147 non-null  float64\n",
            " 12  pl_radeerr2     12147 non-null  float64\n",
            " 13  st_rad          12147 non-null  float64\n",
            " 14  st_raderr1      12147 non-null  float64\n",
            " 15  st_raderr2      12147 non-null  float64\n",
            " 16  kep_mag         12147 non-null  float64\n",
            " 17  CONFIRMED       12147 non-null  uint8  \n",
            " 18  FALSE POSITIVE  12147 non-null  uint8  \n",
            " 19  obj             12147 non-null  int64  \n",
            "dtypes: float64(13), int64(1), object(4), uint8(2)\n",
            "memory usage: 1.8+ MB\n"
          ],
          "name": "stdout"
        }
      ]
    },
    {
      "cell_type": "code",
      "metadata": {
        "id": "pGKmJwJXMZhY"
      },
      "source": [
        "#label encode the target variable to classify\n",
        "from sklearn import preprocessing\n",
        "le = preprocessing.LabelEncoder()\n",
        "final_df['disp'] = le.fit_transform(final_df['disp'])"
      ],
      "execution_count": 70,
      "outputs": []
    },
    {
      "cell_type": "code",
      "metadata": {
        "colab": {
          "base_uri": "https://localhost:8080/",
          "height": 626
        },
        "id": "hUjMnekEKGK0",
        "outputId": "a366a554-0806-4d34-ea97-777af039b47a"
      },
      "source": [
        "final_df \n",
        "\n",
        "#confirmed - 1\n",
        "#candidate - 0\n",
        "#false positive - 2"
      ],
      "execution_count": 71,
      "outputs": [
        {
          "output_type": "execute_result",
          "data": {
            "text/html": [
              "<div>\n",
              "<style scoped>\n",
              "    .dataframe tbody tr th:only-of-type {\n",
              "        vertical-align: middle;\n",
              "    }\n",
              "\n",
              "    .dataframe tbody tr th {\n",
              "        vertical-align: top;\n",
              "    }\n",
              "\n",
              "    .dataframe thead th {\n",
              "        text-align: right;\n",
              "    }\n",
              "</style>\n",
              "<table border=\"1\" class=\"dataframe\">\n",
              "  <thead>\n",
              "    <tr style=\"text-align: right;\">\n",
              "      <th></th>\n",
              "      <th>id</th>\n",
              "      <th>can_name</th>\n",
              "      <th>pl_name</th>\n",
              "      <th>disp</th>\n",
              "      <th>pl_orbper</th>\n",
              "      <th>pl_orbpererr1</th>\n",
              "      <th>pl_orbpererr2</th>\n",
              "      <th>pl_tranmid</th>\n",
              "      <th>pl_tranmiderr1</th>\n",
              "      <th>pl_tranmiderr2</th>\n",
              "      <th>pl_rade</th>\n",
              "      <th>pl_radeerr1</th>\n",
              "      <th>pl_radeerr2</th>\n",
              "      <th>st_rad</th>\n",
              "      <th>st_raderr1</th>\n",
              "      <th>st_raderr2</th>\n",
              "      <th>kep_mag</th>\n",
              "      <th>CONFIRMED</th>\n",
              "      <th>FALSE POSITIVE</th>\n",
              "      <th>obj</th>\n",
              "    </tr>\n",
              "  </thead>\n",
              "  <tbody>\n",
              "    <tr>\n",
              "      <th>0</th>\n",
              "      <td>10797460</td>\n",
              "      <td>K00752.01</td>\n",
              "      <td>Kepler-227 b</td>\n",
              "      <td>1</td>\n",
              "      <td>9.488036</td>\n",
              "      <td>2.780000e-05</td>\n",
              "      <td>-2.780000e-05</td>\n",
              "      <td>6.161458e-02</td>\n",
              "      <td>0.001706</td>\n",
              "      <td>-0.001706</td>\n",
              "      <td>2.26</td>\n",
              "      <td>0.26</td>\n",
              "      <td>-0.15</td>\n",
              "      <td>0.927</td>\n",
              "      <td>0.105</td>\n",
              "      <td>-0.061</td>\n",
              "      <td>15.347</td>\n",
              "      <td>0</td>\n",
              "      <td>0</td>\n",
              "      <td>1</td>\n",
              "    </tr>\n",
              "    <tr>\n",
              "      <th>1</th>\n",
              "      <td>10797460</td>\n",
              "      <td>K00752.02</td>\n",
              "      <td>Kepler-227 c</td>\n",
              "      <td>1</td>\n",
              "      <td>54.418383</td>\n",
              "      <td>2.480000e-04</td>\n",
              "      <td>-2.480000e-04</td>\n",
              "      <td>9.389583e-02</td>\n",
              "      <td>0.002417</td>\n",
              "      <td>-0.002417</td>\n",
              "      <td>2.83</td>\n",
              "      <td>0.32</td>\n",
              "      <td>-0.19</td>\n",
              "      <td>0.927</td>\n",
              "      <td>0.105</td>\n",
              "      <td>-0.061</td>\n",
              "      <td>15.347</td>\n",
              "      <td>0</td>\n",
              "      <td>0</td>\n",
              "      <td>2</td>\n",
              "    </tr>\n",
              "    <tr>\n",
              "      <th>2</th>\n",
              "      <td>10811496</td>\n",
              "      <td>K00753.01</td>\n",
              "      <td>Kepler-227 c</td>\n",
              "      <td>0</td>\n",
              "      <td>19.899140</td>\n",
              "      <td>1.490000e-05</td>\n",
              "      <td>-1.490000e-05</td>\n",
              "      <td>3.712917e-02</td>\n",
              "      <td>0.000710</td>\n",
              "      <td>-0.000710</td>\n",
              "      <td>14.60</td>\n",
              "      <td>3.92</td>\n",
              "      <td>-1.31</td>\n",
              "      <td>0.868</td>\n",
              "      <td>0.233</td>\n",
              "      <td>-0.078</td>\n",
              "      <td>15.436</td>\n",
              "      <td>0</td>\n",
              "      <td>0</td>\n",
              "      <td>1</td>\n",
              "    </tr>\n",
              "    <tr>\n",
              "      <th>3</th>\n",
              "      <td>10848459</td>\n",
              "      <td>K00754.01</td>\n",
              "      <td>Kepler-227 c</td>\n",
              "      <td>2</td>\n",
              "      <td>1.736952</td>\n",
              "      <td>2.630000e-07</td>\n",
              "      <td>-2.630000e-07</td>\n",
              "      <td>5.013354e-02</td>\n",
              "      <td>0.000112</td>\n",
              "      <td>-0.000112</td>\n",
              "      <td>33.46</td>\n",
              "      <td>8.50</td>\n",
              "      <td>-2.83</td>\n",
              "      <td>0.791</td>\n",
              "      <td>0.201</td>\n",
              "      <td>-0.067</td>\n",
              "      <td>15.597</td>\n",
              "      <td>0</td>\n",
              "      <td>1</td>\n",
              "      <td>1</td>\n",
              "    </tr>\n",
              "    <tr>\n",
              "      <th>4</th>\n",
              "      <td>10854555</td>\n",
              "      <td>K00755.01</td>\n",
              "      <td>Kepler-664 b</td>\n",
              "      <td>1</td>\n",
              "      <td>2.525592</td>\n",
              "      <td>3.760000e-06</td>\n",
              "      <td>-3.760000e-06</td>\n",
              "      <td>3.446875e-02</td>\n",
              "      <td>0.000875</td>\n",
              "      <td>-0.000875</td>\n",
              "      <td>2.75</td>\n",
              "      <td>0.88</td>\n",
              "      <td>-0.35</td>\n",
              "      <td>1.046</td>\n",
              "      <td>0.334</td>\n",
              "      <td>-0.133</td>\n",
              "      <td>15.509</td>\n",
              "      <td>0</td>\n",
              "      <td>0</td>\n",
              "      <td>1</td>\n",
              "    </tr>\n",
              "    <tr>\n",
              "      <th>...</th>\n",
              "      <td>...</td>\n",
              "      <td>...</td>\n",
              "      <td>...</td>\n",
              "      <td>...</td>\n",
              "      <td>...</td>\n",
              "      <td>...</td>\n",
              "      <td>...</td>\n",
              "      <td>...</td>\n",
              "      <td>...</td>\n",
              "      <td>...</td>\n",
              "      <td>...</td>\n",
              "      <td>...</td>\n",
              "      <td>...</td>\n",
              "      <td>...</td>\n",
              "      <td>...</td>\n",
              "      <td>...</td>\n",
              "      <td>...</td>\n",
              "      <td>...</td>\n",
              "      <td>...</td>\n",
              "      <td>...</td>\n",
              "    </tr>\n",
              "    <tr>\n",
              "      <th>2578</th>\n",
              "      <td>EPIC 251394139</td>\n",
              "      <td>EPIC 251394139.01</td>\n",
              "      <td>HD 80653 b</td>\n",
              "      <td>2</td>\n",
              "      <td>26.286249</td>\n",
              "      <td>2.000000e-02</td>\n",
              "      <td>-1.700000e-03</td>\n",
              "      <td>2.458110e+06</td>\n",
              "      <td>0.003900</td>\n",
              "      <td>-0.004200</td>\n",
              "      <td>4.40</td>\n",
              "      <td>0.12</td>\n",
              "      <td>-0.07</td>\n",
              "      <td>1.760</td>\n",
              "      <td>0.080</td>\n",
              "      <td>-0.080</td>\n",
              "      <td>11.763</td>\n",
              "      <td>0</td>\n",
              "      <td>1</td>\n",
              "      <td>1</td>\n",
              "    </tr>\n",
              "    <tr>\n",
              "      <th>2579</th>\n",
              "      <td>EPIC 251404897</td>\n",
              "      <td>EPIC 251404897.01</td>\n",
              "      <td>HD 80653 b</td>\n",
              "      <td>2</td>\n",
              "      <td>0.660085</td>\n",
              "      <td>2.000000e-02</td>\n",
              "      <td>-1.700000e-03</td>\n",
              "      <td>2.458096e+06</td>\n",
              "      <td>0.003900</td>\n",
              "      <td>-0.004200</td>\n",
              "      <td>4.40</td>\n",
              "      <td>0.12</td>\n",
              "      <td>-0.07</td>\n",
              "      <td>1.760</td>\n",
              "      <td>0.080</td>\n",
              "      <td>-0.080</td>\n",
              "      <td>16.029</td>\n",
              "      <td>0</td>\n",
              "      <td>1</td>\n",
              "      <td>1</td>\n",
              "    </tr>\n",
              "    <tr>\n",
              "      <th>2580</th>\n",
              "      <td>EPIC 251411166</td>\n",
              "      <td>EPIC 251411166.01</td>\n",
              "      <td>HD 80653 b</td>\n",
              "      <td>2</td>\n",
              "      <td>3.374330</td>\n",
              "      <td>2.000000e-02</td>\n",
              "      <td>-1.700000e-03</td>\n",
              "      <td>2.458096e+06</td>\n",
              "      <td>0.003900</td>\n",
              "      <td>-0.004200</td>\n",
              "      <td>4.40</td>\n",
              "      <td>0.12</td>\n",
              "      <td>-0.07</td>\n",
              "      <td>1.760</td>\n",
              "      <td>0.080</td>\n",
              "      <td>-0.080</td>\n",
              "      <td>14.179</td>\n",
              "      <td>0</td>\n",
              "      <td>1</td>\n",
              "      <td>1</td>\n",
              "    </tr>\n",
              "    <tr>\n",
              "      <th>2581</th>\n",
              "      <td>EPIC 251809286</td>\n",
              "      <td>EPIC 251809286.01</td>\n",
              "      <td>HD 80653 b</td>\n",
              "      <td>2</td>\n",
              "      <td>9.485826</td>\n",
              "      <td>2.000000e-02</td>\n",
              "      <td>-1.700000e-03</td>\n",
              "      <td>2.458098e+06</td>\n",
              "      <td>0.003900</td>\n",
              "      <td>-0.004200</td>\n",
              "      <td>4.40</td>\n",
              "      <td>0.12</td>\n",
              "      <td>-0.07</td>\n",
              "      <td>1.760</td>\n",
              "      <td>0.080</td>\n",
              "      <td>-0.080</td>\n",
              "      <td>14.179</td>\n",
              "      <td>0</td>\n",
              "      <td>1</td>\n",
              "      <td>1</td>\n",
              "    </tr>\n",
              "    <tr>\n",
              "      <th>2582</th>\n",
              "      <td>EPIC 251809628</td>\n",
              "      <td>EPIC 251809628.01</td>\n",
              "      <td>HD 80653 b</td>\n",
              "      <td>2</td>\n",
              "      <td>7.220585</td>\n",
              "      <td>2.000000e-02</td>\n",
              "      <td>-1.700000e-03</td>\n",
              "      <td>2.458100e+06</td>\n",
              "      <td>0.003900</td>\n",
              "      <td>-0.004200</td>\n",
              "      <td>4.40</td>\n",
              "      <td>0.12</td>\n",
              "      <td>-0.07</td>\n",
              "      <td>1.760</td>\n",
              "      <td>0.080</td>\n",
              "      <td>-0.080</td>\n",
              "      <td>14.179</td>\n",
              "      <td>0</td>\n",
              "      <td>1</td>\n",
              "      <td>1</td>\n",
              "    </tr>\n",
              "  </tbody>\n",
              "</table>\n",
              "<p>12147 rows × 20 columns</p>\n",
              "</div>"
            ],
            "text/plain": [
              "                  id           can_name  ... FALSE POSITIVE  obj\n",
              "0           10797460          K00752.01  ...              0    1\n",
              "1           10797460          K00752.02  ...              0    2\n",
              "2           10811496          K00753.01  ...              0    1\n",
              "3           10848459          K00754.01  ...              1    1\n",
              "4           10854555          K00755.01  ...              0    1\n",
              "...              ...                ...  ...            ...  ...\n",
              "2578  EPIC 251394139  EPIC 251394139.01  ...              1    1\n",
              "2579  EPIC 251404897  EPIC 251404897.01  ...              1    1\n",
              "2580  EPIC 251411166  EPIC 251411166.01  ...              1    1\n",
              "2581  EPIC 251809286  EPIC 251809286.01  ...              1    1\n",
              "2582  EPIC 251809628  EPIC 251809628.01  ...              1    1\n",
              "\n",
              "[12147 rows x 20 columns]"
            ]
          },
          "metadata": {
            "tags": []
          },
          "execution_count": 71
        }
      ]
    },
    {
      "cell_type": "code",
      "metadata": {
        "colab": {
          "base_uri": "https://localhost:8080/",
          "height": 334
        },
        "id": "tJ1ICL6F0gQQ",
        "outputId": "3b32b5e9-0f47-422e-e2b2-189c8333ab20"
      },
      "source": [
        "final_df.describe()"
      ],
      "execution_count": 72,
      "outputs": [
        {
          "output_type": "execute_result",
          "data": {
            "text/html": [
              "<div>\n",
              "<style scoped>\n",
              "    .dataframe tbody tr th:only-of-type {\n",
              "        vertical-align: middle;\n",
              "    }\n",
              "\n",
              "    .dataframe tbody tr th {\n",
              "        vertical-align: top;\n",
              "    }\n",
              "\n",
              "    .dataframe thead th {\n",
              "        text-align: right;\n",
              "    }\n",
              "</style>\n",
              "<table border=\"1\" class=\"dataframe\">\n",
              "  <thead>\n",
              "    <tr style=\"text-align: right;\">\n",
              "      <th></th>\n",
              "      <th>disp</th>\n",
              "      <th>pl_orbper</th>\n",
              "      <th>pl_orbpererr1</th>\n",
              "      <th>pl_orbpererr2</th>\n",
              "      <th>pl_tranmid</th>\n",
              "      <th>pl_tranmiderr1</th>\n",
              "      <th>pl_tranmiderr2</th>\n",
              "      <th>pl_rade</th>\n",
              "      <th>pl_radeerr1</th>\n",
              "      <th>pl_radeerr2</th>\n",
              "      <th>st_rad</th>\n",
              "      <th>st_raderr1</th>\n",
              "      <th>st_raderr2</th>\n",
              "      <th>kep_mag</th>\n",
              "      <th>CONFIRMED</th>\n",
              "      <th>FALSE POSITIVE</th>\n",
              "      <th>obj</th>\n",
              "    </tr>\n",
              "  </thead>\n",
              "  <tbody>\n",
              "    <tr>\n",
              "      <th>count</th>\n",
              "      <td>12147.000000</td>\n",
              "      <td>12147.000000</td>\n",
              "      <td>12147.000000</td>\n",
              "      <td>12147.000000</td>\n",
              "      <td>1.214700e+04</td>\n",
              "      <td>12147.000000</td>\n",
              "      <td>12147.000000</td>\n",
              "      <td>12147.000000</td>\n",
              "      <td>12147.000000</td>\n",
              "      <td>12147.000000</td>\n",
              "      <td>12147.000000</td>\n",
              "      <td>12147.000000</td>\n",
              "      <td>12147.000000</td>\n",
              "      <td>12147.000000</td>\n",
              "      <td>12147.000000</td>\n",
              "      <td>12147.00000</td>\n",
              "      <td>12147.000000</td>\n",
              "    </tr>\n",
              "    <tr>\n",
              "      <th>mean</th>\n",
              "      <td>1.115831</td>\n",
              "      <td>69.401835</td>\n",
              "      <td>2.988960</td>\n",
              "      <td>-2.097207</td>\n",
              "      <td>5.225117e+05</td>\n",
              "      <td>0.006482</td>\n",
              "      <td>-0.006480</td>\n",
              "      <td>81.179342</td>\n",
              "      <td>14.600519</td>\n",
              "      <td>-26.217959</td>\n",
              "      <td>1.628231</td>\n",
              "      <td>0.325269</td>\n",
              "      <td>-0.363034</td>\n",
              "      <td>14.010072</td>\n",
              "      <td>0.030543</td>\n",
              "      <td>0.41854</td>\n",
              "      <td>1.190747</td>\n",
              "    </tr>\n",
              "    <tr>\n",
              "      <th>std</th>\n",
              "      <td>0.842535</td>\n",
              "      <td>1408.893837</td>\n",
              "      <td>287.709929</td>\n",
              "      <td>203.204160</td>\n",
              "      <td>1.005475e+06</td>\n",
              "      <td>0.013231</td>\n",
              "      <td>0.013225</td>\n",
              "      <td>2678.977900</td>\n",
              "      <td>340.683971</td>\n",
              "      <td>1039.466306</td>\n",
              "      <td>5.883727</td>\n",
              "      <td>0.898165</td>\n",
              "      <td>2.210112</td>\n",
              "      <td>1.512015</td>\n",
              "      <td>0.172082</td>\n",
              "      <td>0.49334</td>\n",
              "      <td>0.557204</td>\n",
              "    </tr>\n",
              "    <tr>\n",
              "      <th>min</th>\n",
              "      <td>0.000000</td>\n",
              "      <td>0.175660</td>\n",
              "      <td>0.000000</td>\n",
              "      <td>-22320.000000</td>\n",
              "      <td>1.083333e-03</td>\n",
              "      <td>0.000000</td>\n",
              "      <td>-0.420833</td>\n",
              "      <td>0.080000</td>\n",
              "      <td>0.000000</td>\n",
              "      <td>-77200.000000</td>\n",
              "      <td>0.109000</td>\n",
              "      <td>0.000000</td>\n",
              "      <td>-116.137000</td>\n",
              "      <td>5.954000</td>\n",
              "      <td>0.000000</td>\n",
              "      <td>0.00000</td>\n",
              "      <td>1.000000</td>\n",
              "    </tr>\n",
              "    <tr>\n",
              "      <th>25%</th>\n",
              "      <td>0.000000</td>\n",
              "      <td>2.688520</td>\n",
              "      <td>0.000009</td>\n",
              "      <td>-0.000570</td>\n",
              "      <td>5.763333e-02</td>\n",
              "      <td>0.001019</td>\n",
              "      <td>-0.006398</td>\n",
              "      <td>1.490000</td>\n",
              "      <td>0.220000</td>\n",
              "      <td>-1.770000</td>\n",
              "      <td>0.800000</td>\n",
              "      <td>0.078000</td>\n",
              "      <td>-0.209000</td>\n",
              "      <td>13.008000</td>\n",
              "      <td>0.000000</td>\n",
              "      <td>0.00000</td>\n",
              "      <td>1.000000</td>\n",
              "    </tr>\n",
              "    <tr>\n",
              "      <th>50%</th>\n",
              "      <td>1.000000</td>\n",
              "      <td>8.508333</td>\n",
              "      <td>0.000066</td>\n",
              "      <td>-0.000066</td>\n",
              "      <td>1.011458e-01</td>\n",
              "      <td>0.002771</td>\n",
              "      <td>-0.002771</td>\n",
              "      <td>2.470000</td>\n",
              "      <td>0.470000</td>\n",
              "      <td>-0.320000</td>\n",
              "      <td>0.971000</td>\n",
              "      <td>0.209000</td>\n",
              "      <td>-0.097000</td>\n",
              "      <td>14.179000</td>\n",
              "      <td>0.000000</td>\n",
              "      <td>0.00000</td>\n",
              "      <td>1.000000</td>\n",
              "    </tr>\n",
              "    <tr>\n",
              "      <th>75%</th>\n",
              "      <td>2.000000</td>\n",
              "      <td>27.994488</td>\n",
              "      <td>0.000570</td>\n",
              "      <td>-0.000009</td>\n",
              "      <td>3.406458e-01</td>\n",
              "      <td>0.006375</td>\n",
              "      <td>-0.001029</td>\n",
              "      <td>11.500000</td>\n",
              "      <td>1.990000</td>\n",
              "      <td>-0.150000</td>\n",
              "      <td>1.308000</td>\n",
              "      <td>0.341000</td>\n",
              "      <td>-0.058000</td>\n",
              "      <td>15.198000</td>\n",
              "      <td>0.000000</td>\n",
              "      <td>1.00000</td>\n",
              "      <td>1.000000</td>\n",
              "    </tr>\n",
              "    <tr>\n",
              "      <th>max</th>\n",
              "      <td>2.000000</td>\n",
              "      <td>129995.778400</td>\n",
              "      <td>31600.000000</td>\n",
              "      <td>0.000000</td>\n",
              "      <td>2.458118e+06</td>\n",
              "      <td>0.420833</td>\n",
              "      <td>0.000000</td>\n",
              "      <td>200346.000000</td>\n",
              "      <td>21600.000000</td>\n",
              "      <td>0.000000</td>\n",
              "      <td>229.908000</td>\n",
              "      <td>33.091000</td>\n",
              "      <td>0.000000</td>\n",
              "      <td>20.003000</td>\n",
              "      <td>1.000000</td>\n",
              "      <td>1.00000</td>\n",
              "      <td>7.000000</td>\n",
              "    </tr>\n",
              "  </tbody>\n",
              "</table>\n",
              "</div>"
            ],
            "text/plain": [
              "               disp      pl_orbper  ...  FALSE POSITIVE           obj\n",
              "count  12147.000000   12147.000000  ...     12147.00000  12147.000000\n",
              "mean       1.115831      69.401835  ...         0.41854      1.190747\n",
              "std        0.842535    1408.893837  ...         0.49334      0.557204\n",
              "min        0.000000       0.175660  ...         0.00000      1.000000\n",
              "25%        0.000000       2.688520  ...         0.00000      1.000000\n",
              "50%        1.000000       8.508333  ...         0.00000      1.000000\n",
              "75%        2.000000      27.994488  ...         1.00000      1.000000\n",
              "max        2.000000  129995.778400  ...         1.00000      7.000000\n",
              "\n",
              "[8 rows x 17 columns]"
            ]
          },
          "metadata": {
            "tags": []
          },
          "execution_count": 72
        }
      ]
    },
    {
      "cell_type": "code",
      "metadata": {
        "colab": {
          "base_uri": "https://localhost:8080/",
          "height": 384
        },
        "id": "Q502Da8xonMI",
        "outputId": "f3af3765-ac9b-4f5e-8763-15a08dc3d4b6"
      },
      "source": [
        "import numpy as np\n",
        "import pandas as pd\n",
        "import matplotlib.pyplot as plt\n",
        "import seaborn as sns\n",
        "\n",
        "#check distribution of classes\n",
        "plt.figure(figsize=(6,4))\n",
        "colors = [\"0\", \"1\", \"2\"]\n",
        "sns.countplot('disp', data=final_df)\n",
        "plt.title('Class Distributions \\n (0: Candidate || 1: Confirmed || 2: False Positive)', fontsize=14)"
      ],
      "execution_count": 73,
      "outputs": [
        {
          "output_type": "stream",
          "text": [
            "/usr/local/lib/python3.6/dist-packages/seaborn/_decorators.py:43: FutureWarning: Pass the following variable as a keyword arg: x. From version 0.12, the only valid positional argument will be `data`, and passing other arguments without an explicit keyword will result in an error or misinterpretation.\n",
            "  FutureWarning\n"
          ],
          "name": "stderr"
        },
        {
          "output_type": "execute_result",
          "data": {
            "text/plain": [
              "Text(0.5, 1.0, 'Class Distributions \\n (0: Candidate || 1: Confirmed || 2: False Positive)')"
            ]
          },
          "metadata": {
            "tags": []
          },
          "execution_count": 73
        },
        {
          "output_type": "display_data",
          "data": {
            "image/png": "[encoded data removed]",
            "text/plain": [
              "<Figure size 432x288 with 1 Axes>"
            ]
          },
          "metadata": {
            "tags": [],
            "needs_background": "light"
          }
        }
      ]
    },
    {
      "cell_type": "code",
      "metadata": {
        "id": "A1Z1BFOC8D_7"
      },
      "source": [
        "#seperate target and features\n",
        "X = final_df[['pl_orbper','pl_orbpererr1', 'pl_orbpererr2', 'pl_tranmid', 'pl_tranmiderr1', 'pl_tranmiderr2' ,'pl_rade','pl_radeerr1','pl_radeerr2','st_rad', 'st_raderr1', 'st_raderr2', 'kep_mag', 'CONFIRMED', 'FALSE POSITIVE', 'obj']]\n",
        "y = final_df[['disp']]"
      ],
      "execution_count": 74,
      "outputs": []
    },
    {
      "cell_type": "code",
      "metadata": {
        "id": "_T8-TW1RJNgO"
      },
      "source": [
        "#this does not create equal proportions of classes\n",
        "#final_train = final_df.iloc[0:11147]\n",
        "#final_test = final_df.iloc[11147:12148]\n",
        "\n",
        "#so we use train-test-split"
      ],
      "execution_count": 75,
      "outputs": []
    },
    {
      "cell_type": "code",
      "metadata": {
        "id": "OP7JiE_881to"
      },
      "source": [
        "#split train and test data\n",
        "X_train, X_test, y_train, y_test = train_test_split(X,y,test_size = 0.1)"
      ],
      "execution_count": 76,
      "outputs": []
    },
    {
      "cell_type": "code",
      "metadata": {
        "colab": {
          "base_uri": "https://localhost:8080/",
          "height": 456
        },
        "id": "uz9XBNnoKOCO",
        "outputId": "e15e7c7a-06bc-4e2e-a47d-79de935ddc2b"
      },
      "source": [
        "X_train"
      ],
      "execution_count": 77,
      "outputs": [
        {
          "output_type": "execute_result",
          "data": {
            "text/html": [
              "<div>\n",
              "<style scoped>\n",
              "    .dataframe tbody tr th:only-of-type {\n",
              "        vertical-align: middle;\n",
              "    }\n",
              "\n",
              "    .dataframe tbody tr th {\n",
              "        vertical-align: top;\n",
              "    }\n",
              "\n",
              "    .dataframe thead th {\n",
              "        text-align: right;\n",
              "    }\n",
              "</style>\n",
              "<table border=\"1\" class=\"dataframe\">\n",
              "  <thead>\n",
              "    <tr style=\"text-align: right;\">\n",
              "      <th></th>\n",
              "      <th>pl_orbper</th>\n",
              "      <th>pl_orbpererr1</th>\n",
              "      <th>pl_orbpererr2</th>\n",
              "      <th>pl_tranmid</th>\n",
              "      <th>pl_tranmiderr1</th>\n",
              "      <th>pl_tranmiderr2</th>\n",
              "      <th>pl_rade</th>\n",
              "      <th>pl_radeerr1</th>\n",
              "      <th>pl_radeerr2</th>\n",
              "      <th>st_rad</th>\n",
              "      <th>st_raderr1</th>\n",
              "      <th>st_raderr2</th>\n",
              "      <th>kep_mag</th>\n",
              "      <th>CONFIRMED</th>\n",
              "      <th>FALSE POSITIVE</th>\n",
              "      <th>obj</th>\n",
              "    </tr>\n",
              "  </thead>\n",
              "  <tbody>\n",
              "    <tr>\n",
              "      <th>6777</th>\n",
              "      <td>578.216230</td>\n",
              "      <td>1.610000e-02</td>\n",
              "      <td>-1.610000e-02</td>\n",
              "      <td>5.639583e-02</td>\n",
              "      <td>0.010563</td>\n",
              "      <td>-0.010563</td>\n",
              "      <td>3.54</td>\n",
              "      <td>1.620</td>\n",
              "      <td>-1.440</td>\n",
              "      <td>3.244</td>\n",
              "      <td>1.486</td>\n",
              "      <td>-1.318</td>\n",
              "      <td>11.619</td>\n",
              "      <td>0</td>\n",
              "      <td>0</td>\n",
              "      <td>1</td>\n",
              "    </tr>\n",
              "    <tr>\n",
              "      <th>6709</th>\n",
              "      <td>37.537859</td>\n",
              "      <td>1.280000e-03</td>\n",
              "      <td>-1.280000e-03</td>\n",
              "      <td>1.356875e-01</td>\n",
              "      <td>0.011833</td>\n",
              "      <td>-0.011833</td>\n",
              "      <td>1.77</td>\n",
              "      <td>0.540</td>\n",
              "      <td>-0.230</td>\n",
              "      <td>1.082</td>\n",
              "      <td>0.331</td>\n",
              "      <td>-0.142</td>\n",
              "      <td>15.769</td>\n",
              "      <td>0</td>\n",
              "      <td>0</td>\n",
              "      <td>1</td>\n",
              "    </tr>\n",
              "    <tr>\n",
              "      <th>2609</th>\n",
              "      <td>2.941943</td>\n",
              "      <td>1.320000e-05</td>\n",
              "      <td>-1.320000e-05</td>\n",
              "      <td>4.283333e-02</td>\n",
              "      <td>0.002646</td>\n",
              "      <td>-0.002646</td>\n",
              "      <td>1.22</td>\n",
              "      <td>0.100</td>\n",
              "      <td>-0.120</td>\n",
              "      <td>0.758</td>\n",
              "      <td>0.062</td>\n",
              "      <td>-0.075</td>\n",
              "      <td>15.290</td>\n",
              "      <td>0</td>\n",
              "      <td>0</td>\n",
              "      <td>1</td>\n",
              "    </tr>\n",
              "    <tr>\n",
              "      <th>2565</th>\n",
              "      <td>11.349445</td>\n",
              "      <td>2.000000e-02</td>\n",
              "      <td>-1.700000e-03</td>\n",
              "      <td>2.458102e+06</td>\n",
              "      <td>0.003900</td>\n",
              "      <td>-0.004200</td>\n",
              "      <td>4.40</td>\n",
              "      <td>0.120</td>\n",
              "      <td>-0.070</td>\n",
              "      <td>0.920</td>\n",
              "      <td>0.010</td>\n",
              "      <td>-0.010</td>\n",
              "      <td>11.636</td>\n",
              "      <td>0</td>\n",
              "      <td>1</td>\n",
              "      <td>1</td>\n",
              "    </tr>\n",
              "    <tr>\n",
              "      <th>5253</th>\n",
              "      <td>0.933489</td>\n",
              "      <td>2.510000e-07</td>\n",
              "      <td>-2.510000e-07</td>\n",
              "      <td>2.955500e-02</td>\n",
              "      <td>0.000138</td>\n",
              "      <td>-0.000138</td>\n",
              "      <td>48.01</td>\n",
              "      <td>13.300</td>\n",
              "      <td>-10.900</td>\n",
              "      <td>1.084</td>\n",
              "      <td>0.301</td>\n",
              "      <td>-0.246</td>\n",
              "      <td>16.428</td>\n",
              "      <td>0</td>\n",
              "      <td>1</td>\n",
              "      <td>1</td>\n",
              "    </tr>\n",
              "    <tr>\n",
              "      <th>...</th>\n",
              "      <td>...</td>\n",
              "      <td>...</td>\n",
              "      <td>...</td>\n",
              "      <td>...</td>\n",
              "      <td>...</td>\n",
              "      <td>...</td>\n",
              "      <td>...</td>\n",
              "      <td>...</td>\n",
              "      <td>...</td>\n",
              "      <td>...</td>\n",
              "      <td>...</td>\n",
              "      <td>...</td>\n",
              "      <td>...</td>\n",
              "      <td>...</td>\n",
              "      <td>...</td>\n",
              "      <td>...</td>\n",
              "    </tr>\n",
              "    <tr>\n",
              "      <th>1159</th>\n",
              "      <td>14.643071</td>\n",
              "      <td>1.302000e-03</td>\n",
              "      <td>-1.431000e-03</td>\n",
              "      <td>2.457072e+06</td>\n",
              "      <td>0.003038</td>\n",
              "      <td>-0.002793</td>\n",
              "      <td>66.05</td>\n",
              "      <td>43.415</td>\n",
              "      <td>-14.824</td>\n",
              "      <td>13.180</td>\n",
              "      <td>4.640</td>\n",
              "      <td>-2.660</td>\n",
              "      <td>13.124</td>\n",
              "      <td>0</td>\n",
              "      <td>0</td>\n",
              "      <td>1</td>\n",
              "    </tr>\n",
              "    <tr>\n",
              "      <th>6385</th>\n",
              "      <td>169.330666</td>\n",
              "      <td>2.480000e-03</td>\n",
              "      <td>-2.480000e-03</td>\n",
              "      <td>5.416667e-02</td>\n",
              "      <td>0.006792</td>\n",
              "      <td>-0.006792</td>\n",
              "      <td>16.68</td>\n",
              "      <td>1.170</td>\n",
              "      <td>-4.280</td>\n",
              "      <td>7.052</td>\n",
              "      <td>0.497</td>\n",
              "      <td>-1.811</td>\n",
              "      <td>13.743</td>\n",
              "      <td>0</td>\n",
              "      <td>0</td>\n",
              "      <td>1</td>\n",
              "    </tr>\n",
              "    <tr>\n",
              "      <th>1613</th>\n",
              "      <td>26.866200</td>\n",
              "      <td>5.600000e-03</td>\n",
              "      <td>-5.600000e-03</td>\n",
              "      <td>2.457192e+06</td>\n",
              "      <td>0.002800</td>\n",
              "      <td>-0.003900</td>\n",
              "      <td>3.26</td>\n",
              "      <td>0.160</td>\n",
              "      <td>-0.250</td>\n",
              "      <td>1.290</td>\n",
              "      <td>0.050</td>\n",
              "      <td>-0.030</td>\n",
              "      <td>11.750</td>\n",
              "      <td>0</td>\n",
              "      <td>0</td>\n",
              "      <td>3</td>\n",
              "    </tr>\n",
              "    <tr>\n",
              "      <th>3525</th>\n",
              "      <td>44.699656</td>\n",
              "      <td>1.150000e-04</td>\n",
              "      <td>-1.150000e-04</td>\n",
              "      <td>1.297688e-01</td>\n",
              "      <td>0.001479</td>\n",
              "      <td>-0.001479</td>\n",
              "      <td>3.05</td>\n",
              "      <td>0.470</td>\n",
              "      <td>-0.320</td>\n",
              "      <td>1.046</td>\n",
              "      <td>0.161</td>\n",
              "      <td>-0.111</td>\n",
              "      <td>13.967</td>\n",
              "      <td>0</td>\n",
              "      <td>0</td>\n",
              "      <td>1</td>\n",
              "    </tr>\n",
              "    <tr>\n",
              "      <th>989</th>\n",
              "      <td>19.091800</td>\n",
              "      <td>6.400000e-03</td>\n",
              "      <td>-6.400000e-03</td>\n",
              "      <td>2.457078e+06</td>\n",
              "      <td>0.100000</td>\n",
              "      <td>-0.100000</td>\n",
              "      <td>2.01</td>\n",
              "      <td>0.300</td>\n",
              "      <td>-0.300</td>\n",
              "      <td>0.870</td>\n",
              "      <td>0.100</td>\n",
              "      <td>-0.100</td>\n",
              "      <td>12.388</td>\n",
              "      <td>1</td>\n",
              "      <td>0</td>\n",
              "      <td>1</td>\n",
              "    </tr>\n",
              "  </tbody>\n",
              "</table>\n",
              "<p>10932 rows × 16 columns</p>\n",
              "</div>"
            ],
            "text/plain": [
              "       pl_orbper  pl_orbpererr1  pl_orbpererr2  ...  CONFIRMED  FALSE POSITIVE  obj\n",
              "6777  578.216230   1.610000e-02  -1.610000e-02  ...          0               0    1\n",
              "6709   37.537859   1.280000e-03  -1.280000e-03  ...          0               0    1\n",
              "2609    2.941943   1.320000e-05  -1.320000e-05  ...          0               0    1\n",
              "2565   11.349445   2.000000e-02  -1.700000e-03  ...          0               1    1\n",
              "5253    0.933489   2.510000e-07  -2.510000e-07  ...          0               1    1\n",
              "...          ...            ...            ...  ...        ...             ...  ...\n",
              "1159   14.643071   1.302000e-03  -1.431000e-03  ...          0               0    1\n",
              "6385  169.330666   2.480000e-03  -2.480000e-03  ...          0               0    1\n",
              "1613   26.866200   5.600000e-03  -5.600000e-03  ...          0               0    3\n",
              "3525   44.699656   1.150000e-04  -1.150000e-04  ...          0               0    1\n",
              "989    19.091800   6.400000e-03  -6.400000e-03  ...          1               0    1\n",
              "\n",
              "[10932 rows x 16 columns]"
            ]
          },
          "metadata": {
            "tags": []
          },
          "execution_count": 77
        }
      ]
    },
    {
      "cell_type": "code",
      "metadata": {
        "colab": {
          "base_uri": "https://localhost:8080/",
          "height": 456
        },
        "id": "vUP49Vs_KTES",
        "outputId": "40502584-00c7-463c-ef89-24581d2392f6"
      },
      "source": [
        "X_test"
      ],
      "execution_count": 78,
      "outputs": [
        {
          "output_type": "execute_result",
          "data": {
            "text/html": [
              "<div>\n",
              "<style scoped>\n",
              "    .dataframe tbody tr th:only-of-type {\n",
              "        vertical-align: middle;\n",
              "    }\n",
              "\n",
              "    .dataframe tbody tr th {\n",
              "        vertical-align: top;\n",
              "    }\n",
              "\n",
              "    .dataframe thead th {\n",
              "        text-align: right;\n",
              "    }\n",
              "</style>\n",
              "<table border=\"1\" class=\"dataframe\">\n",
              "  <thead>\n",
              "    <tr style=\"text-align: right;\">\n",
              "      <th></th>\n",
              "      <th>pl_orbper</th>\n",
              "      <th>pl_orbpererr1</th>\n",
              "      <th>pl_orbpererr2</th>\n",
              "      <th>pl_tranmid</th>\n",
              "      <th>pl_tranmiderr1</th>\n",
              "      <th>pl_tranmiderr2</th>\n",
              "      <th>pl_rade</th>\n",
              "      <th>pl_radeerr1</th>\n",
              "      <th>pl_radeerr2</th>\n",
              "      <th>st_rad</th>\n",
              "      <th>st_raderr1</th>\n",
              "      <th>st_raderr2</th>\n",
              "      <th>kep_mag</th>\n",
              "      <th>CONFIRMED</th>\n",
              "      <th>FALSE POSITIVE</th>\n",
              "      <th>obj</th>\n",
              "    </tr>\n",
              "  </thead>\n",
              "  <tbody>\n",
              "    <tr>\n",
              "      <th>1188</th>\n",
              "      <td>1.291510</td>\n",
              "      <td>0.000040</td>\n",
              "      <td>-0.000040</td>\n",
              "      <td>2.457143e+06</td>\n",
              "      <td>0.001000</td>\n",
              "      <td>-0.001000</td>\n",
              "      <td>1.960</td>\n",
              "      <td>0.120</td>\n",
              "      <td>-0.120</td>\n",
              "      <td>0.520</td>\n",
              "      <td>0.070</td>\n",
              "      <td>-0.020</td>\n",
              "      <td>13.905</td>\n",
              "      <td>1</td>\n",
              "      <td>0</td>\n",
              "      <td>1</td>\n",
              "    </tr>\n",
              "    <tr>\n",
              "      <th>2276</th>\n",
              "      <td>2.088070</td>\n",
              "      <td>0.000190</td>\n",
              "      <td>-0.000190</td>\n",
              "      <td>2.457302e+06</td>\n",
              "      <td>0.004300</td>\n",
              "      <td>-0.004300</td>\n",
              "      <td>12.400</td>\n",
              "      <td>1.700</td>\n",
              "      <td>-5.800</td>\n",
              "      <td>4.440</td>\n",
              "      <td>0.280</td>\n",
              "      <td>-0.440</td>\n",
              "      <td>14.000</td>\n",
              "      <td>0</td>\n",
              "      <td>0</td>\n",
              "      <td>1</td>\n",
              "    </tr>\n",
              "    <tr>\n",
              "      <th>5082</th>\n",
              "      <td>67.451045</td>\n",
              "      <td>0.000086</td>\n",
              "      <td>-0.000086</td>\n",
              "      <td>1.862229e-01</td>\n",
              "      <td>0.001479</td>\n",
              "      <td>-0.001479</td>\n",
              "      <td>36.700</td>\n",
              "      <td>20.800</td>\n",
              "      <td>-25.400</td>\n",
              "      <td>2.191</td>\n",
              "      <td>1.240</td>\n",
              "      <td>-1.515</td>\n",
              "      <td>13.342</td>\n",
              "      <td>0</td>\n",
              "      <td>1</td>\n",
              "      <td>1</td>\n",
              "    </tr>\n",
              "    <tr>\n",
              "      <th>9128</th>\n",
              "      <td>0.566803</td>\n",
              "      <td>0.000005</td>\n",
              "      <td>-0.000005</td>\n",
              "      <td>7.385417e-02</td>\n",
              "      <td>0.005271</td>\n",
              "      <td>-0.005271</td>\n",
              "      <td>1.080</td>\n",
              "      <td>0.720</td>\n",
              "      <td>-0.710</td>\n",
              "      <td>1.961</td>\n",
              "      <td>1.297</td>\n",
              "      <td>-1.297</td>\n",
              "      <td>13.945</td>\n",
              "      <td>0</td>\n",
              "      <td>1</td>\n",
              "      <td>1</td>\n",
              "    </tr>\n",
              "    <tr>\n",
              "      <th>512</th>\n",
              "      <td>6.429582</td>\n",
              "      <td>0.000290</td>\n",
              "      <td>-0.000307</td>\n",
              "      <td>2.456899e+06</td>\n",
              "      <td>0.002070</td>\n",
              "      <td>-0.002013</td>\n",
              "      <td>2.598</td>\n",
              "      <td>0.331</td>\n",
              "      <td>-0.152</td>\n",
              "      <td>0.820</td>\n",
              "      <td>0.030</td>\n",
              "      <td>-0.030</td>\n",
              "      <td>12.241</td>\n",
              "      <td>1</td>\n",
              "      <td>0</td>\n",
              "      <td>1</td>\n",
              "    </tr>\n",
              "    <tr>\n",
              "      <th>...</th>\n",
              "      <td>...</td>\n",
              "      <td>...</td>\n",
              "      <td>...</td>\n",
              "      <td>...</td>\n",
              "      <td>...</td>\n",
              "      <td>...</td>\n",
              "      <td>...</td>\n",
              "      <td>...</td>\n",
              "      <td>...</td>\n",
              "      <td>...</td>\n",
              "      <td>...</td>\n",
              "      <td>...</td>\n",
              "      <td>...</td>\n",
              "      <td>...</td>\n",
              "      <td>...</td>\n",
              "      <td>...</td>\n",
              "    </tr>\n",
              "    <tr>\n",
              "      <th>1772</th>\n",
              "      <td>2.226450</td>\n",
              "      <td>0.000140</td>\n",
              "      <td>-0.000140</td>\n",
              "      <td>2.457140e+06</td>\n",
              "      <td>0.003100</td>\n",
              "      <td>-0.002900</td>\n",
              "      <td>2.600</td>\n",
              "      <td>0.190</td>\n",
              "      <td>-0.330</td>\n",
              "      <td>0.780</td>\n",
              "      <td>0.010</td>\n",
              "      <td>-0.020</td>\n",
              "      <td>14.916</td>\n",
              "      <td>0</td>\n",
              "      <td>0</td>\n",
              "      <td>1</td>\n",
              "    </tr>\n",
              "    <tr>\n",
              "      <th>5798</th>\n",
              "      <td>2.845740</td>\n",
              "      <td>0.000012</td>\n",
              "      <td>-0.000012</td>\n",
              "      <td>1.516667e-01</td>\n",
              "      <td>0.033333</td>\n",
              "      <td>-0.033333</td>\n",
              "      <td>3.630</td>\n",
              "      <td>0.510</td>\n",
              "      <td>-1.100</td>\n",
              "      <td>2.372</td>\n",
              "      <td>0.331</td>\n",
              "      <td>-0.717</td>\n",
              "      <td>13.591</td>\n",
              "      <td>0</td>\n",
              "      <td>1</td>\n",
              "      <td>1</td>\n",
              "    </tr>\n",
              "    <tr>\n",
              "      <th>781</th>\n",
              "      <td>25.276800</td>\n",
              "      <td>0.002600</td>\n",
              "      <td>-0.002600</td>\n",
              "      <td>2.456994e+06</td>\n",
              "      <td>0.004200</td>\n",
              "      <td>-0.004200</td>\n",
              "      <td>25.000</td>\n",
              "      <td>17.000</td>\n",
              "      <td>-17.000</td>\n",
              "      <td>0.520</td>\n",
              "      <td>0.070</td>\n",
              "      <td>-0.070</td>\n",
              "      <td>16.473</td>\n",
              "      <td>0</td>\n",
              "      <td>1</td>\n",
              "      <td>1</td>\n",
              "    </tr>\n",
              "    <tr>\n",
              "      <th>1496</th>\n",
              "      <td>46.299105</td>\n",
              "      <td>0.000117</td>\n",
              "      <td>-0.000117</td>\n",
              "      <td>1.093354e-01</td>\n",
              "      <td>0.001271</td>\n",
              "      <td>-0.001271</td>\n",
              "      <td>4.330</td>\n",
              "      <td>1.590</td>\n",
              "      <td>-1.940</td>\n",
              "      <td>1.507</td>\n",
              "      <td>0.553</td>\n",
              "      <td>-0.676</td>\n",
              "      <td>14.082</td>\n",
              "      <td>0</td>\n",
              "      <td>0</td>\n",
              "      <td>1</td>\n",
              "    </tr>\n",
              "    <tr>\n",
              "      <th>4318</th>\n",
              "      <td>7.743478</td>\n",
              "      <td>0.000031</td>\n",
              "      <td>-0.000031</td>\n",
              "      <td>5.807917e-02</td>\n",
              "      <td>0.001848</td>\n",
              "      <td>-0.001848</td>\n",
              "      <td>0.620</td>\n",
              "      <td>0.050</td>\n",
              "      <td>-0.030</td>\n",
              "      <td>0.721</td>\n",
              "      <td>0.057</td>\n",
              "      <td>-0.031</td>\n",
              "      <td>8.717</td>\n",
              "      <td>0</td>\n",
              "      <td>0</td>\n",
              "      <td>4</td>\n",
              "    </tr>\n",
              "  </tbody>\n",
              "</table>\n",
              "<p>1215 rows × 16 columns</p>\n",
              "</div>"
            ],
            "text/plain": [
              "      pl_orbper  pl_orbpererr1  pl_orbpererr2  ...  CONFIRMED  FALSE POSITIVE  obj\n",
              "1188   1.291510       0.000040      -0.000040  ...          1               0    1\n",
              "2276   2.088070       0.000190      -0.000190  ...          0               0    1\n",
              "5082  67.451045       0.000086      -0.000086  ...          0               1    1\n",
              "9128   0.566803       0.000005      -0.000005  ...          0               1    1\n",
              "512    6.429582       0.000290      -0.000307  ...          1               0    1\n",
              "...         ...            ...            ...  ...        ...             ...  ...\n",
              "1772   2.226450       0.000140      -0.000140  ...          0               0    1\n",
              "5798   2.845740       0.000012      -0.000012  ...          0               1    1\n",
              "781   25.276800       0.002600      -0.002600  ...          0               1    1\n",
              "1496  46.299105       0.000117      -0.000117  ...          0               0    1\n",
              "4318   7.743478       0.000031      -0.000031  ...          0               0    4\n",
              "\n",
              "[1215 rows x 16 columns]"
            ]
          },
          "metadata": {
            "tags": []
          },
          "execution_count": 78
        }
      ]
    },
    {
      "cell_type": "code",
      "metadata": {
        "colab": {
          "base_uri": "https://localhost:8080/",
          "height": 384
        },
        "id": "s2JP9HthpuRt",
        "outputId": "6defe786-3301-4346-be64-6235cf2d9e9b"
      },
      "source": [
        "#confirm similar distributions\n",
        "plt.figure(figsize=(6,4))\n",
        "colors = [\"0\", \"1\", \"2\"]\n",
        "sns.countplot('disp', data=y_train)\n",
        "plt.title('Class Distributions \\n (0: Candidate || 1: Confirmed || 2: False Positive)', fontsize=14)"
      ],
      "execution_count": 79,
      "outputs": [
        {
          "output_type": "stream",
          "text": [
            "/usr/local/lib/python3.6/dist-packages/seaborn/_decorators.py:43: FutureWarning: Pass the following variable as a keyword arg: x. From version 0.12, the only valid positional argument will be `data`, and passing other arguments without an explicit keyword will result in an error or misinterpretation.\n",
            "  FutureWarning\n"
          ],
          "name": "stderr"
        },
        {
          "output_type": "execute_result",
          "data": {
            "text/plain": [
              "Text(0.5, 1.0, 'Class Distributions \\n (0: Candidate || 1: Confirmed || 2: False Positive)')"
            ]
          },
          "metadata": {
            "tags": []
          },
          "execution_count": 79
        },
        {
          "output_type": "display_data",
          "data": {
            "image/png": "[encoded data removed]",
            "text/plain": [
              "<Figure size 432x288 with 1 Axes>"
            ]
          },
          "metadata": {
            "tags": [],
            "needs_background": "light"
          }
        }
      ]
    },
    {
      "cell_type": "code",
      "metadata": {
        "colab": {
          "base_uri": "https://localhost:8080/",
          "height": 384
        },
        "id": "xHdGalIepvMD",
        "outputId": "7a25b264-779f-488c-dfc1-166674f741e6"
      },
      "source": [
        "plt.figure(figsize=(6,4))\n",
        "colors = [\"0\", \"1\", \"2\"]\n",
        "sns.countplot('disp', data=y_test)\n",
        "plt.title('Class Distributions \\n (0: Candidate || 1: Confirmed || 2: False Positive)', fontsize=14)"
      ],
      "execution_count": 80,
      "outputs": [
        {
          "output_type": "stream",
          "text": [
            "/usr/local/lib/python3.6/dist-packages/seaborn/_decorators.py:43: FutureWarning: Pass the following variable as a keyword arg: x. From version 0.12, the only valid positional argument will be `data`, and passing other arguments without an explicit keyword will result in an error or misinterpretation.\n",
            "  FutureWarning\n"
          ],
          "name": "stderr"
        },
        {
          "output_type": "execute_result",
          "data": {
            "text/plain": [
              "Text(0.5, 1.0, 'Class Distributions \\n (0: Candidate || 1: Confirmed || 2: False Positive)')"
            ]
          },
          "metadata": {
            "tags": []
          },
          "execution_count": 80
        },
        {
          "output_type": "display_data",
          "data": {
            "image/png": "[encoded data removed]",
            "text/plain": [
              "<Figure size 432x288 with 1 Axes>"
            ]
          },
          "metadata": {
            "tags": [],
            "needs_background": "light"
          }
        }
      ]
    },
    {
      "cell_type": "code",
      "metadata": {
        "id": "6YPw273f9RLx"
      },
      "source": [
        "#split train and validation data\n",
        "X_train, X_val, y_train, y_val = train_test_split(X_train,y_train,test_size = 0.2)"
      ],
      "execution_count": 81,
      "outputs": []
    },
    {
      "cell_type": "code",
      "metadata": {
        "colab": {
          "base_uri": "https://localhost:8080/",
          "height": 456
        },
        "id": "FKW2exXHsfXO",
        "outputId": "7d778126-edae-4d62-84c9-81330b6db0b4"
      },
      "source": [
        "X_train"
      ],
      "execution_count": 82,
      "outputs": [
        {
          "output_type": "execute_result",
          "data": {
            "text/html": [
              "<div>\n",
              "<style scoped>\n",
              "    .dataframe tbody tr th:only-of-type {\n",
              "        vertical-align: middle;\n",
              "    }\n",
              "\n",
              "    .dataframe tbody tr th {\n",
              "        vertical-align: top;\n",
              "    }\n",
              "\n",
              "    .dataframe thead th {\n",
              "        text-align: right;\n",
              "    }\n",
              "</style>\n",
              "<table border=\"1\" class=\"dataframe\">\n",
              "  <thead>\n",
              "    <tr style=\"text-align: right;\">\n",
              "      <th></th>\n",
              "      <th>pl_orbper</th>\n",
              "      <th>pl_orbpererr1</th>\n",
              "      <th>pl_orbpererr2</th>\n",
              "      <th>pl_tranmid</th>\n",
              "      <th>pl_tranmiderr1</th>\n",
              "      <th>pl_tranmiderr2</th>\n",
              "      <th>pl_rade</th>\n",
              "      <th>pl_radeerr1</th>\n",
              "      <th>pl_radeerr2</th>\n",
              "      <th>st_rad</th>\n",
              "      <th>st_raderr1</th>\n",
              "      <th>st_raderr2</th>\n",
              "      <th>kep_mag</th>\n",
              "      <th>CONFIRMED</th>\n",
              "      <th>FALSE POSITIVE</th>\n",
              "      <th>obj</th>\n",
              "    </tr>\n",
              "  </thead>\n",
              "  <tbody>\n",
              "    <tr>\n",
              "      <th>7907</th>\n",
              "      <td>0.764598</td>\n",
              "      <td>0.000004</td>\n",
              "      <td>-0.000004</td>\n",
              "      <td>2.331250e-02</td>\n",
              "      <td>0.003104</td>\n",
              "      <td>-0.003104</td>\n",
              "      <td>0.720</td>\n",
              "      <td>0.120</td>\n",
              "      <td>-0.160</td>\n",
              "      <td>1.726</td>\n",
              "      <td>0.308</td>\n",
              "      <td>-0.377</td>\n",
              "      <td>11.215</td>\n",
              "      <td>0</td>\n",
              "      <td>1</td>\n",
              "      <td>1</td>\n",
              "    </tr>\n",
              "    <tr>\n",
              "      <th>3381</th>\n",
              "      <td>14.485848</td>\n",
              "      <td>0.000025</td>\n",
              "      <td>-0.000025</td>\n",
              "      <td>6.534375e-02</td>\n",
              "      <td>0.001935</td>\n",
              "      <td>-0.001935</td>\n",
              "      <td>2.880</td>\n",
              "      <td>0.450</td>\n",
              "      <td>-0.370</td>\n",
              "      <td>1.085</td>\n",
              "      <td>0.170</td>\n",
              "      <td>-0.139</td>\n",
              "      <td>13.946</td>\n",
              "      <td>0</td>\n",
              "      <td>0</td>\n",
              "      <td>1</td>\n",
              "    </tr>\n",
              "    <tr>\n",
              "      <th>5006</th>\n",
              "      <td>36.766236</td>\n",
              "      <td>0.000433</td>\n",
              "      <td>-0.000433</td>\n",
              "      <td>6.885417e-02</td>\n",
              "      <td>0.006854</td>\n",
              "      <td>-0.006854</td>\n",
              "      <td>1.280</td>\n",
              "      <td>0.100</td>\n",
              "      <td>-0.130</td>\n",
              "      <td>0.540</td>\n",
              "      <td>0.044</td>\n",
              "      <td>-0.054</td>\n",
              "      <td>15.903</td>\n",
              "      <td>0</td>\n",
              "      <td>0</td>\n",
              "      <td>1</td>\n",
              "    </tr>\n",
              "    <tr>\n",
              "      <th>1572</th>\n",
              "      <td>14.676650</td>\n",
              "      <td>0.000580</td>\n",
              "      <td>-0.000600</td>\n",
              "      <td>2.457153e+06</td>\n",
              "      <td>0.001500</td>\n",
              "      <td>-0.001500</td>\n",
              "      <td>1.940</td>\n",
              "      <td>0.130</td>\n",
              "      <td>-0.250</td>\n",
              "      <td>0.680</td>\n",
              "      <td>0.030</td>\n",
              "      <td>-0.040</td>\n",
              "      <td>12.619</td>\n",
              "      <td>0</td>\n",
              "      <td>0</td>\n",
              "      <td>1</td>\n",
              "    </tr>\n",
              "    <tr>\n",
              "      <th>8918</th>\n",
              "      <td>2.411941</td>\n",
              "      <td>0.000018</td>\n",
              "      <td>-0.000018</td>\n",
              "      <td>3.722917e-02</td>\n",
              "      <td>0.006063</td>\n",
              "      <td>-0.006063</td>\n",
              "      <td>1.350</td>\n",
              "      <td>0.210</td>\n",
              "      <td>-0.330</td>\n",
              "      <td>1.594</td>\n",
              "      <td>0.245</td>\n",
              "      <td>-0.398</td>\n",
              "      <td>14.106</td>\n",
              "      <td>0</td>\n",
              "      <td>0</td>\n",
              "      <td>1</td>\n",
              "    </tr>\n",
              "    <tr>\n",
              "      <th>...</th>\n",
              "      <td>...</td>\n",
              "      <td>...</td>\n",
              "      <td>...</td>\n",
              "      <td>...</td>\n",
              "      <td>...</td>\n",
              "      <td>...</td>\n",
              "      <td>...</td>\n",
              "      <td>...</td>\n",
              "      <td>...</td>\n",
              "      <td>...</td>\n",
              "      <td>...</td>\n",
              "      <td>...</td>\n",
              "      <td>...</td>\n",
              "      <td>...</td>\n",
              "      <td>...</td>\n",
              "      <td>...</td>\n",
              "    </tr>\n",
              "    <tr>\n",
              "      <th>6254</th>\n",
              "      <td>6.702580</td>\n",
              "      <td>0.000043</td>\n",
              "      <td>-0.000043</td>\n",
              "      <td>9.650000e-02</td>\n",
              "      <td>0.004979</td>\n",
              "      <td>-0.004979</td>\n",
              "      <td>403.010</td>\n",
              "      <td>102.000</td>\n",
              "      <td>-102.000</td>\n",
              "      <td>13.652</td>\n",
              "      <td>3.460</td>\n",
              "      <td>-3.460</td>\n",
              "      <td>13.250</td>\n",
              "      <td>0</td>\n",
              "      <td>1</td>\n",
              "      <td>1</td>\n",
              "    </tr>\n",
              "    <tr>\n",
              "      <th>8246</th>\n",
              "      <td>8.832419</td>\n",
              "      <td>0.000120</td>\n",
              "      <td>-0.000120</td>\n",
              "      <td>4.691667e-02</td>\n",
              "      <td>0.006854</td>\n",
              "      <td>-0.006854</td>\n",
              "      <td>0.980</td>\n",
              "      <td>0.330</td>\n",
              "      <td>-0.180</td>\n",
              "      <td>1.133</td>\n",
              "      <td>0.376</td>\n",
              "      <td>-0.205</td>\n",
              "      <td>13.303</td>\n",
              "      <td>0</td>\n",
              "      <td>0</td>\n",
              "      <td>1</td>\n",
              "    </tr>\n",
              "    <tr>\n",
              "      <th>2167</th>\n",
              "      <td>4.135707</td>\n",
              "      <td>0.000307</td>\n",
              "      <td>-0.000341</td>\n",
              "      <td>2.457302e+06</td>\n",
              "      <td>0.003739</td>\n",
              "      <td>-0.003501</td>\n",
              "      <td>1.600</td>\n",
              "      <td>0.159</td>\n",
              "      <td>-0.108</td>\n",
              "      <td>0.760</td>\n",
              "      <td>0.030</td>\n",
              "      <td>-0.020</td>\n",
              "      <td>12.692</td>\n",
              "      <td>0</td>\n",
              "      <td>0</td>\n",
              "      <td>1</td>\n",
              "    </tr>\n",
              "    <tr>\n",
              "      <th>2487</th>\n",
              "      <td>15.871455</td>\n",
              "      <td>0.002113</td>\n",
              "      <td>-0.001670</td>\n",
              "      <td>2.457587e+06</td>\n",
              "      <td>0.004034</td>\n",
              "      <td>-0.004872</td>\n",
              "      <td>2.661</td>\n",
              "      <td>0.464</td>\n",
              "      <td>-0.309</td>\n",
              "      <td>1.210</td>\n",
              "      <td>0.200</td>\n",
              "      <td>-0.130</td>\n",
              "      <td>11.535</td>\n",
              "      <td>1</td>\n",
              "      <td>0</td>\n",
              "      <td>1</td>\n",
              "    </tr>\n",
              "    <tr>\n",
              "      <th>457</th>\n",
              "      <td>13.060794</td>\n",
              "      <td>0.000105</td>\n",
              "      <td>-0.000105</td>\n",
              "      <td>6.697917e-02</td>\n",
              "      <td>0.004063</td>\n",
              "      <td>-0.004063</td>\n",
              "      <td>1.450</td>\n",
              "      <td>0.380</td>\n",
              "      <td>-0.130</td>\n",
              "      <td>0.876</td>\n",
              "      <td>0.234</td>\n",
              "      <td>-0.078</td>\n",
              "      <td>14.246</td>\n",
              "      <td>0</td>\n",
              "      <td>0</td>\n",
              "      <td>2</td>\n",
              "    </tr>\n",
              "  </tbody>\n",
              "</table>\n",
              "<p>8745 rows × 16 columns</p>\n",
              "</div>"
            ],
            "text/plain": [
              "      pl_orbper  pl_orbpererr1  pl_orbpererr2  ...  CONFIRMED  FALSE POSITIVE  obj\n",
              "7907   0.764598       0.000004      -0.000004  ...          0               1    1\n",
              "3381  14.485848       0.000025      -0.000025  ...          0               0    1\n",
              "5006  36.766236       0.000433      -0.000433  ...          0               0    1\n",
              "1572  14.676650       0.000580      -0.000600  ...          0               0    1\n",
              "8918   2.411941       0.000018      -0.000018  ...          0               0    1\n",
              "...         ...            ...            ...  ...        ...             ...  ...\n",
              "6254   6.702580       0.000043      -0.000043  ...          0               1    1\n",
              "8246   8.832419       0.000120      -0.000120  ...          0               0    1\n",
              "2167   4.135707       0.000307      -0.000341  ...          0               0    1\n",
              "2487  15.871455       0.002113      -0.001670  ...          1               0    1\n",
              "457   13.060794       0.000105      -0.000105  ...          0               0    2\n",
              "\n",
              "[8745 rows x 16 columns]"
            ]
          },
          "metadata": {
            "tags": []
          },
          "execution_count": 82
        }
      ]
    },
    {
      "cell_type": "code",
      "metadata": {
        "colab": {
          "base_uri": "https://localhost:8080/",
          "height": 456
        },
        "id": "usi-h0Rcshem",
        "outputId": "38313433-531c-47c0-bd73-070f656828c0"
      },
      "source": [
        "X_val"
      ],
      "execution_count": 83,
      "outputs": [
        {
          "output_type": "execute_result",
          "data": {
            "text/html": [
              "<div>\n",
              "<style scoped>\n",
              "    .dataframe tbody tr th:only-of-type {\n",
              "        vertical-align: middle;\n",
              "    }\n",
              "\n",
              "    .dataframe tbody tr th {\n",
              "        vertical-align: top;\n",
              "    }\n",
              "\n",
              "    .dataframe thead th {\n",
              "        text-align: right;\n",
              "    }\n",
              "</style>\n",
              "<table border=\"1\" class=\"dataframe\">\n",
              "  <thead>\n",
              "    <tr style=\"text-align: right;\">\n",
              "      <th></th>\n",
              "      <th>pl_orbper</th>\n",
              "      <th>pl_orbpererr1</th>\n",
              "      <th>pl_orbpererr2</th>\n",
              "      <th>pl_tranmid</th>\n",
              "      <th>pl_tranmiderr1</th>\n",
              "      <th>pl_tranmiderr2</th>\n",
              "      <th>pl_rade</th>\n",
              "      <th>pl_radeerr1</th>\n",
              "      <th>pl_radeerr2</th>\n",
              "      <th>st_rad</th>\n",
              "      <th>st_raderr1</th>\n",
              "      <th>st_raderr2</th>\n",
              "      <th>kep_mag</th>\n",
              "      <th>CONFIRMED</th>\n",
              "      <th>FALSE POSITIVE</th>\n",
              "      <th>obj</th>\n",
              "    </tr>\n",
              "  </thead>\n",
              "  <tbody>\n",
              "    <tr>\n",
              "      <th>6234</th>\n",
              "      <td>385.292120</td>\n",
              "      <td>0.014800</td>\n",
              "      <td>-0.014800</td>\n",
              "      <td>4.045208e-01</td>\n",
              "      <td>0.012729</td>\n",
              "      <td>-0.012729</td>\n",
              "      <td>1.57</td>\n",
              "      <td>0.52</td>\n",
              "      <td>-0.23</td>\n",
              "      <td>1.053</td>\n",
              "      <td>0.347</td>\n",
              "      <td>-0.156</td>\n",
              "      <td>13.086</td>\n",
              "      <td>0</td>\n",
              "      <td>0</td>\n",
              "      <td>1</td>\n",
              "    </tr>\n",
              "    <tr>\n",
              "      <th>8074</th>\n",
              "      <td>0.527679</td>\n",
              "      <td>0.000002</td>\n",
              "      <td>-0.000002</td>\n",
              "      <td>2.906250e-02</td>\n",
              "      <td>0.002437</td>\n",
              "      <td>-0.002437</td>\n",
              "      <td>0.79</td>\n",
              "      <td>0.23</td>\n",
              "      <td>-0.07</td>\n",
              "      <td>0.860</td>\n",
              "      <td>0.242</td>\n",
              "      <td>-0.081</td>\n",
              "      <td>15.356</td>\n",
              "      <td>0</td>\n",
              "      <td>1</td>\n",
              "      <td>1</td>\n",
              "    </tr>\n",
              "    <tr>\n",
              "      <th>5841</th>\n",
              "      <td>1.540396</td>\n",
              "      <td>0.000002</td>\n",
              "      <td>-0.000002</td>\n",
              "      <td>3.396875e-02</td>\n",
              "      <td>0.000694</td>\n",
              "      <td>-0.000694</td>\n",
              "      <td>0.94</td>\n",
              "      <td>0.06</td>\n",
              "      <td>-0.04</td>\n",
              "      <td>0.735</td>\n",
              "      <td>0.044</td>\n",
              "      <td>-0.033</td>\n",
              "      <td>12.057</td>\n",
              "      <td>0</td>\n",
              "      <td>1</td>\n",
              "      <td>1</td>\n",
              "    </tr>\n",
              "    <tr>\n",
              "      <th>2275</th>\n",
              "      <td>6.981413</td>\n",
              "      <td>0.000076</td>\n",
              "      <td>-0.000076</td>\n",
              "      <td>1.359792e-01</td>\n",
              "      <td>0.006354</td>\n",
              "      <td>-0.006354</td>\n",
              "      <td>1.42</td>\n",
              "      <td>0.09</td>\n",
              "      <td>-0.13</td>\n",
              "      <td>2.163</td>\n",
              "      <td>0.133</td>\n",
              "      <td>-0.193</td>\n",
              "      <td>11.752</td>\n",
              "      <td>0</td>\n",
              "      <td>0</td>\n",
              "      <td>1</td>\n",
              "    </tr>\n",
              "    <tr>\n",
              "      <th>3800</th>\n",
              "      <td>367.955660</td>\n",
              "      <td>0.014200</td>\n",
              "      <td>-0.014200</td>\n",
              "      <td>4.557708e-01</td>\n",
              "      <td>0.015250</td>\n",
              "      <td>-0.015250</td>\n",
              "      <td>3.62</td>\n",
              "      <td>0.30</td>\n",
              "      <td>-0.29</td>\n",
              "      <td>0.696</td>\n",
              "      <td>0.056</td>\n",
              "      <td>-0.056</td>\n",
              "      <td>15.964</td>\n",
              "      <td>0</td>\n",
              "      <td>1</td>\n",
              "      <td>1</td>\n",
              "    </tr>\n",
              "    <tr>\n",
              "      <th>...</th>\n",
              "      <td>...</td>\n",
              "      <td>...</td>\n",
              "      <td>...</td>\n",
              "      <td>...</td>\n",
              "      <td>...</td>\n",
              "      <td>...</td>\n",
              "      <td>...</td>\n",
              "      <td>...</td>\n",
              "      <td>...</td>\n",
              "      <td>...</td>\n",
              "      <td>...</td>\n",
              "      <td>...</td>\n",
              "      <td>...</td>\n",
              "      <td>...</td>\n",
              "      <td>...</td>\n",
              "      <td>...</td>\n",
              "    </tr>\n",
              "    <tr>\n",
              "      <th>1189</th>\n",
              "      <td>5.409000</td>\n",
              "      <td>0.000040</td>\n",
              "      <td>-0.000040</td>\n",
              "      <td>2.457143e+06</td>\n",
              "      <td>0.001000</td>\n",
              "      <td>-0.001000</td>\n",
              "      <td>1.96</td>\n",
              "      <td>0.12</td>\n",
              "      <td>-0.12</td>\n",
              "      <td>0.520</td>\n",
              "      <td>0.070</td>\n",
              "      <td>-0.020</td>\n",
              "      <td>9.653</td>\n",
              "      <td>0</td>\n",
              "      <td>0</td>\n",
              "      <td>1</td>\n",
              "    </tr>\n",
              "    <tr>\n",
              "      <th>4718</th>\n",
              "      <td>13.015183</td>\n",
              "      <td>0.000140</td>\n",
              "      <td>-0.000140</td>\n",
              "      <td>7.527083e-02</td>\n",
              "      <td>0.005708</td>\n",
              "      <td>-0.005708</td>\n",
              "      <td>1.36</td>\n",
              "      <td>0.12</td>\n",
              "      <td>-0.12</td>\n",
              "      <td>0.643</td>\n",
              "      <td>0.057</td>\n",
              "      <td>-0.057</td>\n",
              "      <td>15.961</td>\n",
              "      <td>0</td>\n",
              "      <td>0</td>\n",
              "      <td>1</td>\n",
              "    </tr>\n",
              "    <tr>\n",
              "      <th>1764</th>\n",
              "      <td>3.170597</td>\n",
              "      <td>0.000010</td>\n",
              "      <td>-0.000010</td>\n",
              "      <td>3.476250e-02</td>\n",
              "      <td>0.001740</td>\n",
              "      <td>-0.001740</td>\n",
              "      <td>1.69</td>\n",
              "      <td>0.18</td>\n",
              "      <td>-0.06</td>\n",
              "      <td>0.843</td>\n",
              "      <td>0.086</td>\n",
              "      <td>-0.033</td>\n",
              "      <td>15.353</td>\n",
              "      <td>0</td>\n",
              "      <td>0</td>\n",
              "      <td>1</td>\n",
              "    </tr>\n",
              "    <tr>\n",
              "      <th>5783</th>\n",
              "      <td>4.174917</td>\n",
              "      <td>0.000131</td>\n",
              "      <td>-0.000131</td>\n",
              "      <td>1.005833e-01</td>\n",
              "      <td>0.013396</td>\n",
              "      <td>-0.013396</td>\n",
              "      <td>0.61</td>\n",
              "      <td>0.25</td>\n",
              "      <td>-0.05</td>\n",
              "      <td>0.940</td>\n",
              "      <td>0.380</td>\n",
              "      <td>-0.081</td>\n",
              "      <td>13.391</td>\n",
              "      <td>0</td>\n",
              "      <td>1</td>\n",
              "      <td>1</td>\n",
              "    </tr>\n",
              "    <tr>\n",
              "      <th>5695</th>\n",
              "      <td>3.690317</td>\n",
              "      <td>0.000004</td>\n",
              "      <td>-0.000004</td>\n",
              "      <td>2.871667e-02</td>\n",
              "      <td>0.001081</td>\n",
              "      <td>-0.001081</td>\n",
              "      <td>20.23</td>\n",
              "      <td>6.41</td>\n",
              "      <td>-2.74</td>\n",
              "      <td>1.054</td>\n",
              "      <td>0.334</td>\n",
              "      <td>-0.143</td>\n",
              "      <td>14.336</td>\n",
              "      <td>0</td>\n",
              "      <td>1</td>\n",
              "      <td>1</td>\n",
              "    </tr>\n",
              "  </tbody>\n",
              "</table>\n",
              "<p>2187 rows × 16 columns</p>\n",
              "</div>"
            ],
            "text/plain": [
              "       pl_orbper  pl_orbpererr1  pl_orbpererr2  ...  CONFIRMED  FALSE POSITIVE  obj\n",
              "6234  385.292120       0.014800      -0.014800  ...          0               0    1\n",
              "8074    0.527679       0.000002      -0.000002  ...          0               1    1\n",
              "5841    1.540396       0.000002      -0.000002  ...          0               1    1\n",
              "2275    6.981413       0.000076      -0.000076  ...          0               0    1\n",
              "3800  367.955660       0.014200      -0.014200  ...          0               1    1\n",
              "...          ...            ...            ...  ...        ...             ...  ...\n",
              "1189    5.409000       0.000040      -0.000040  ...          0               0    1\n",
              "4718   13.015183       0.000140      -0.000140  ...          0               0    1\n",
              "1764    3.170597       0.000010      -0.000010  ...          0               0    1\n",
              "5783    4.174917       0.000131      -0.000131  ...          0               1    1\n",
              "5695    3.690317       0.000004      -0.000004  ...          0               1    1\n",
              "\n",
              "[2187 rows x 16 columns]"
            ]
          },
          "metadata": {
            "tags": []
          },
          "execution_count": 83
        }
      ]
    },
    {
      "cell_type": "code",
      "metadata": {
        "colab": {
          "base_uri": "https://localhost:8080/",
          "height": 384
        },
        "id": "hr8s5Xu_sk71",
        "outputId": "041b6477-4018-431c-ea1a-96012f19f428"
      },
      "source": [
        "#confirm similar distributions\n",
        "plt.figure(figsize=(6,4))\n",
        "colors = [\"0\", \"1\", \"2\"]\n",
        "sns.countplot('disp', data=y_train)\n",
        "plt.title('Class Distributions \\n (0: Candidate || 1: Confirmed || 2: False Positive)', fontsize=14)"
      ],
      "execution_count": 84,
      "outputs": [
        {
          "output_type": "stream",
          "text": [
            "/usr/local/lib/python3.6/dist-packages/seaborn/_decorators.py:43: FutureWarning: Pass the following variable as a keyword arg: x. From version 0.12, the only valid positional argument will be `data`, and passing other arguments without an explicit keyword will result in an error or misinterpretation.\n",
            "  FutureWarning\n"
          ],
          "name": "stderr"
        },
        {
          "output_type": "execute_result",
          "data": {
            "text/plain": [
              "Text(0.5, 1.0, 'Class Distributions \\n (0: Candidate || 1: Confirmed || 2: False Positive)')"
            ]
          },
          "metadata": {
            "tags": []
          },
          "execution_count": 84
        },
        {
          "output_type": "display_data",
          "data": {
            "image/png": "[encoded data removed]",
            "text/plain": [
              "<Figure size 432x288 with 1 Axes>"
            ]
          },
          "metadata": {
            "tags": [],
            "needs_background": "light"
          }
        }
      ]
    },
    {
      "cell_type": "code",
      "metadata": {
        "colab": {
          "base_uri": "https://localhost:8080/",
          "height": 384
        },
        "id": "yyzL3FZBsorC",
        "outputId": "4b55002d-6c64-4544-9d20-993105210d1a"
      },
      "source": [
        "plt.figure(figsize=(6,4))\n",
        "colors = [\"0\", \"1\", \"2\"]\n",
        "sns.countplot('disp', data=y_val)\n",
        "plt.title('Class Distributions \\n (0: Candidate || 1: Confirmed || 2: False Positive)', fontsize=14)"
      ],
      "execution_count": 85,
      "outputs": [
        {
          "output_type": "stream",
          "text": [
            "/usr/local/lib/python3.6/dist-packages/seaborn/_decorators.py:43: FutureWarning: Pass the following variable as a keyword arg: x. From version 0.12, the only valid positional argument will be `data`, and passing other arguments without an explicit keyword will result in an error or misinterpretation.\n",
            "  FutureWarning\n"
          ],
          "name": "stderr"
        },
        {
          "output_type": "execute_result",
          "data": {
            "text/plain": [
              "Text(0.5, 1.0, 'Class Distributions \\n (0: Candidate || 1: Confirmed || 2: False Positive)')"
            ]
          },
          "metadata": {
            "tags": []
          },
          "execution_count": 85
        },
        {
          "output_type": "display_data",
          "data": {
            "image/png": "[encoded data removed]",
            "text/plain": [
              "<Figure size 432x288 with 1 Axes>"
            ]
          },
          "metadata": {
            "tags": [],
            "needs_background": "light"
          }
        }
      ]
    },
    {
      "cell_type": "code",
      "metadata": {
        "id": "1TkyX88k9ees"
      },
      "source": [
        "from sklearn.model_selection import cross_val_score"
      ],
      "execution_count": 86,
      "outputs": []
    },
    {
      "cell_type": "markdown",
      "metadata": {
        "id": "NywXvU35Q6wY"
      },
      "source": [
        "SVM"
      ]
    },
    {
      "cell_type": "code",
      "metadata": {
        "colab": {
          "base_uri": "https://localhost:8080/"
        },
        "id": "K41lm63UQ8eP",
        "outputId": "33192819-f460-4e00-bc16-36185b51ccba"
      },
      "source": [
        "from sklearn import svm\n",
        "\n",
        "clf = svm.SVC(decision_function_shape='ovo')\n",
        "clf.fit(X_train, y_train.values.ravel())"
      ],
      "execution_count": 87,
      "outputs": [
        {
          "output_type": "execute_result",
          "data": {
            "text/plain": [
              "SVC(C=1.0, break_ties=False, cache_size=200, class_weight=None, coef0=0.0,\n",
              "    decision_function_shape='ovo', degree=3, gamma='scale', kernel='rbf',\n",
              "    max_iter=-1, probability=False, random_state=None, shrinking=True,\n",
              "    tol=0.001, verbose=False)"
            ]
          },
          "metadata": {
            "tags": []
          },
          "execution_count": 87
        }
      ]
    },
    {
      "cell_type": "code",
      "metadata": {
        "id": "AkQFhF2BnXrP"
      },
      "source": [
        "y_pred = clf.predict(X_val)"
      ],
      "execution_count": 88,
      "outputs": []
    },
    {
      "cell_type": "code",
      "metadata": {
        "colab": {
          "base_uri": "https://localhost:8080/"
        },
        "id": "xdX36fZ4nkdp",
        "outputId": "b91a8e97-a160-4114-cb53-d5fdb36a55d8"
      },
      "source": [
        "from sklearn.metrics import confusion_matrix\n",
        "from sklearn.metrics import classification_report\n",
        "\n",
        "print(classification_report(y_val, y_pred, digits=3))"
      ],
      "execution_count": 89,
      "outputs": [
        {
          "output_type": "stream",
          "text": [
            "              precision    recall  f1-score   support\n",
            "\n",
            "           0      0.520     0.356     0.423       691\n",
            "           1      0.000     0.000     0.000       575\n",
            "           2      0.509     0.948     0.663       921\n",
            "\n",
            "    accuracy                          0.512      2187\n",
            "   macro avg      0.343     0.435     0.362      2187\n",
            "weighted avg      0.379     0.512     0.413      2187\n",
            "\n"
          ],
          "name": "stdout"
        },
        {
          "output_type": "stream",
          "text": [
            "/usr/local/lib/python3.6/dist-packages/sklearn/metrics/_classification.py:1272: UndefinedMetricWarning: Precision and F-score are ill-defined and being set to 0.0 in labels with no predicted samples. Use `zero_division` parameter to control this behavior.\n",
            "  _warn_prf(average, modifier, msg_start, len(result))\n"
          ],
          "name": "stderr"
        }
      ]
    },
    {
      "cell_type": "code",
      "metadata": {
        "colab": {
          "base_uri": "https://localhost:8080/",
          "height": 296
        },
        "id": "x3KkUAJ4rRSX",
        "outputId": "06e09466-3aff-45a4-f290-7926c252b7c6"
      },
      "source": [
        "from sklearn.metrics import confusion_matrix\n",
        "from sklearn.metrics import classification_report\n",
        "from sklearn.metrics import plot_confusion_matrix\n",
        "\n",
        "plot_confusion_matrix(clf, X_val, y_val, values_format = '')"
      ],
      "execution_count": 90,
      "outputs": [
        {
          "output_type": "execute_result",
          "data": {
            "text/plain": [
              "<sklearn.metrics._plot.confusion_matrix.ConfusionMatrixDisplay at 0x7ff62ce86eb8>"
            ]
          },
          "metadata": {
            "tags": []
          },
          "execution_count": 90
        },
        {
          "output_type": "display_data",
          "data": {
            "image/png": "[encoded data removed]",
            "text/plain": [
              "<Figure size 432x288 with 2 Axes>"
            ]
          },
          "metadata": {
            "tags": [],
            "needs_background": "light"
          }
        }
      ]
    },
    {
      "cell_type": "markdown",
      "metadata": {
        "id": "i-c9uv02Ej1N"
      },
      "source": [
        "\n",
        "Gaussian NB"
      ]
    },
    {
      "cell_type": "code",
      "metadata": {
        "id": "jc2u3Bl5EjW7"
      },
      "source": [
        "from sklearn.naive_bayes import GaussianNB"
      ],
      "execution_count": 91,
      "outputs": []
    },
    {
      "cell_type": "code",
      "metadata": {
        "id": "WQKO54jwEr2p"
      },
      "source": [
        "clf = GaussianNB().fit(X_train.values, y_train.values.ravel())"
      ],
      "execution_count": 92,
      "outputs": []
    },
    {
      "cell_type": "code",
      "metadata": {
        "id": "GwGgjIKTEuO7"
      },
      "source": [
        "y_pred = clf.predict(X_val)"
      ],
      "execution_count": 93,
      "outputs": []
    },
    {
      "cell_type": "code",
      "metadata": {
        "id": "QIT0M8LLEuYi"
      },
      "source": [
        "from sklearn.metrics import confusion_matrix\n",
        "from sklearn.metrics import classification_report"
      ],
      "execution_count": 94,
      "outputs": []
    },
    {
      "cell_type": "code",
      "metadata": {
        "colab": {
          "base_uri": "https://localhost:8080/"
        },
        "id": "GgydrmWJExb1",
        "outputId": "1349732d-c373-46cf-e2b1-dcfe332ef4ef"
      },
      "source": [
        "print(confusion_matrix(y_val, y_pred))"
      ],
      "execution_count": 95,
      "outputs": [
        {
          "output_type": "stream",
          "text": [
            "[[  9 647  35]\n",
            " [  0 574   1]\n",
            " [  0 815 106]]\n"
          ],
          "name": "stdout"
        }
      ]
    },
    {
      "cell_type": "code",
      "metadata": {
        "colab": {
          "base_uri": "https://localhost:8080/",
          "height": 296
        },
        "id": "afnmPRMUExf-",
        "outputId": "7ad9f40d-6c07-4189-b6d6-6a2c36129ba0"
      },
      "source": [
        "from sklearn.metrics import plot_confusion_matrix\n",
        "\n",
        "plot_confusion_matrix(clf, X_val, y_val, values_format = '')"
      ],
      "execution_count": 96,
      "outputs": [
        {
          "output_type": "execute_result",
          "data": {
            "text/plain": [
              "<sklearn.metrics._plot.confusion_matrix.ConfusionMatrixDisplay at 0x7ff611a28b00>"
            ]
          },
          "metadata": {
            "tags": []
          },
          "execution_count": 96
        },
        {
          "output_type": "display_data",
          "data": {
            "image/png": "[encoded data removed]",
            "text/plain": [
              "<Figure size 432x288 with 2 Axes>"
            ]
          },
          "metadata": {
            "tags": [],
            "needs_background": "light"
          }
        }
      ]
    },
    {
      "cell_type": "code",
      "metadata": {
        "colab": {
          "base_uri": "https://localhost:8080/"
        },
        "id": "4TykiEjZExkQ",
        "outputId": "d212ba01-f7a7-482c-8af1-9b5840141f8f"
      },
      "source": [
        "print(classification_report(y_val, y_pred, digits=3))"
      ],
      "execution_count": 97,
      "outputs": [
        {
          "output_type": "stream",
          "text": [
            "              precision    recall  f1-score   support\n",
            "\n",
            "           0      1.000     0.013     0.026       691\n",
            "           1      0.282     0.998     0.440       575\n",
            "           2      0.746     0.115     0.199       921\n",
            "\n",
            "    accuracy                          0.315      2187\n",
            "   macro avg      0.676     0.375     0.222      2187\n",
            "weighted avg      0.704     0.315     0.208      2187\n",
            "\n"
          ],
          "name": "stdout"
        }
      ]
    },
    {
      "cell_type": "markdown",
      "metadata": {
        "id": "x_G5bFauE6Ca"
      },
      "source": [
        "KNeighbours Classifier"
      ]
    },
    {
      "cell_type": "code",
      "metadata": {
        "id": "bAqQ2XKCFDL2"
      },
      "source": [
        "from sklearn.neighbors import KNeighborsClassifier"
      ],
      "execution_count": 98,
      "outputs": []
    },
    {
      "cell_type": "code",
      "metadata": {
        "colab": {
          "base_uri": "https://localhost:8080/"
        },
        "id": "VE_AsnggFDP3",
        "outputId": "28de35cb-4c7c-4cac-ac26-e3407b31d57c"
      },
      "source": [
        "clf = KNeighborsClassifier(n_neighbors=3).fit(X_train, y_train)"
      ],
      "execution_count": 99,
      "outputs": [
        {
          "output_type": "stream",
          "text": [
            "/usr/local/lib/python3.6/dist-packages/ipykernel_launcher.py:1: DataConversionWarning: A column-vector y was passed when a 1d array was expected. Please change the shape of y to (n_samples, ), for example using ravel().\n",
            "  \"\"\"Entry point for launching an IPython kernel.\n"
          ],
          "name": "stderr"
        }
      ]
    },
    {
      "cell_type": "code",
      "metadata": {
        "id": "7WCKD2zpFDUB"
      },
      "source": [
        "y_pred = clf.predict(X_val)"
      ],
      "execution_count": 100,
      "outputs": []
    },
    {
      "cell_type": "code",
      "metadata": {
        "colab": {
          "base_uri": "https://localhost:8080/"
        },
        "id": "rknXuQ1gFDZE",
        "outputId": "8dfdad8c-3893-4cc9-a592-ee84bcd6820d"
      },
      "source": [
        "print(confusion_matrix(y_val, y_pred))"
      ],
      "execution_count": 101,
      "outputs": [
        {
          "output_type": "stream",
          "text": [
            "[[398 212  81]\n",
            " [147 411  17]\n",
            " [104  25 792]]\n"
          ],
          "name": "stdout"
        }
      ]
    },
    {
      "cell_type": "code",
      "metadata": {
        "colab": {
          "base_uri": "https://localhost:8080/",
          "height": 296
        },
        "id": "l4WSoAZVFOSw",
        "outputId": "c819009e-d2a4-4afd-de30-d67172414d8a"
      },
      "source": [
        "plot_confusion_matrix(clf, X_val, y_val, values_format = '')"
      ],
      "execution_count": 102,
      "outputs": [
        {
          "output_type": "execute_result",
          "data": {
            "text/plain": [
              "<sklearn.metrics._plot.confusion_matrix.ConfusionMatrixDisplay at 0x7ff611959c88>"
            ]
          },
          "metadata": {
            "tags": []
          },
          "execution_count": 102
        },
        {
          "output_type": "display_data",
          "data": {
            "image/png": "[encoded data removed]",
            "text/plain": [
              "<Figure size 432x288 with 2 Axes>"
            ]
          },
          "metadata": {
            "tags": [],
            "needs_background": "light"
          }
        }
      ]
    },
    {
      "cell_type": "code",
      "metadata": {
        "colab": {
          "base_uri": "https://localhost:8080/"
        },
        "id": "UeBZjF9bFQaP",
        "outputId": "b790e18c-1201-4ea4-fcf9-982e1663eb20"
      },
      "source": [
        "print(classification_report(y_val, y_pred, digits=3))"
      ],
      "execution_count": 103,
      "outputs": [
        {
          "output_type": "stream",
          "text": [
            "              precision    recall  f1-score   support\n",
            "\n",
            "           0      0.613     0.576     0.594       691\n",
            "           1      0.634     0.715     0.672       575\n",
            "           2      0.890     0.860     0.875       921\n",
            "\n",
            "    accuracy                          0.732      2187\n",
            "   macro avg      0.712     0.717     0.714      2187\n",
            "weighted avg      0.735     0.732     0.733      2187\n",
            "\n"
          ],
          "name": "stdout"
        }
      ]
    },
    {
      "cell_type": "markdown",
      "metadata": {
        "id": "_VE11JouFww1"
      },
      "source": [
        "Logistic Regression with Multinomial\n"
      ]
    },
    {
      "cell_type": "code",
      "metadata": {
        "id": "zLnqZ-Z7GKKn"
      },
      "source": [
        "y_train_regressor = y_train.values.ravel()"
      ],
      "execution_count": 104,
      "outputs": []
    },
    {
      "cell_type": "code",
      "metadata": {
        "id": "4AHZAaeSFzv5"
      },
      "source": [
        "from sklearn.linear_model import LogisticRegression\n",
        "clf = LogisticRegression(multi_class=\"multinomial\").fit(X_train, y_train_regressor)"
      ],
      "execution_count": 105,
      "outputs": []
    },
    {
      "cell_type": "code",
      "metadata": {
        "id": "_3Pij6r7Fz2N"
      },
      "source": [
        "y_pred = clf.predict(X_val)"
      ],
      "execution_count": 106,
      "outputs": []
    },
    {
      "cell_type": "code",
      "metadata": {
        "colab": {
          "base_uri": "https://localhost:8080/"
        },
        "id": "gBFcftRXGEEc",
        "outputId": "15559521-26ad-4348-f1a2-ea0dc3a428c4"
      },
      "source": [
        "print(confusion_matrix(y_val, y_pred))"
      ],
      "execution_count": 107,
      "outputs": [
        {
          "output_type": "stream",
          "text": [
            "[[247   0 444]\n",
            " [179   0 396]\n",
            " [ 51   0 870]]\n"
          ],
          "name": "stdout"
        }
      ]
    },
    {
      "cell_type": "code",
      "metadata": {
        "colab": {
          "base_uri": "https://localhost:8080/",
          "height": 296
        },
        "id": "FCd9tB6MGET3",
        "outputId": "802f71be-c90f-417a-97e2-fcc698985790"
      },
      "source": [
        "plot_confusion_matrix(clf, X_val, y_val, values_format = '')"
      ],
      "execution_count": 108,
      "outputs": [
        {
          "output_type": "execute_result",
          "data": {
            "text/plain": [
              "<sklearn.metrics._plot.confusion_matrix.ConfusionMatrixDisplay at 0x7ff611876a58>"
            ]
          },
          "metadata": {
            "tags": []
          },
          "execution_count": 108
        },
        {
          "output_type": "display_data",
          "data": {
            "image/png": "[encoded data removed]",
            "text/plain": [
              "<Figure size 432x288 with 2 Axes>"
            ]
          },
          "metadata": {
            "tags": [],
            "needs_background": "light"
          }
        }
      ]
    },
    {
      "cell_type": "code",
      "metadata": {
        "colab": {
          "base_uri": "https://localhost:8080/"
        },
        "id": "Pwjph-6ZGElB",
        "outputId": "9a361f5a-52a9-4450-ab1d-85db1dc37c69"
      },
      "source": [
        "print(classification_report(y_val, y_pred, digits=3))"
      ],
      "execution_count": 109,
      "outputs": [
        {
          "output_type": "stream",
          "text": [
            "              precision    recall  f1-score   support\n",
            "\n",
            "           0      0.518     0.357     0.423       691\n",
            "           1      0.000     0.000     0.000       575\n",
            "           2      0.509     0.945     0.661       921\n",
            "\n",
            "    accuracy                          0.511      2187\n",
            "   macro avg      0.342     0.434     0.361      2187\n",
            "weighted avg      0.378     0.511     0.412      2187\n",
            "\n"
          ],
          "name": "stdout"
        },
        {
          "output_type": "stream",
          "text": [
            "/usr/local/lib/python3.6/dist-packages/sklearn/metrics/_classification.py:1272: UndefinedMetricWarning: Precision and F-score are ill-defined and being set to 0.0 in labels with no predicted samples. Use `zero_division` parameter to control this behavior.\n",
            "  _warn_prf(average, modifier, msg_start, len(result))\n"
          ],
          "name": "stderr"
        }
      ]
    },
    {
      "cell_type": "markdown",
      "metadata": {
        "id": "N3kI-UDZH9Vu"
      },
      "source": [
        "LogisticRegressionCV with multinomial"
      ]
    },
    {
      "cell_type": "code",
      "metadata": {
        "id": "58pK4QXuH8a2"
      },
      "source": [
        "from sklearn.linear_model import LogisticRegressionCV"
      ],
      "execution_count": 110,
      "outputs": []
    },
    {
      "cell_type": "code",
      "metadata": {
        "id": "bl14n4dQIAa2"
      },
      "source": [
        "clf = LogisticRegressionCV(multi_class=\"multinomial\", cv=5, random_state=0, max_iter=500).fit(X_train, y_train_regressor)"
      ],
      "execution_count": 111,
      "outputs": []
    },
    {
      "cell_type": "code",
      "metadata": {
        "id": "JBiDLYsKIM_9"
      },
      "source": [
        "y_pred = clf.predict(X_val)"
      ],
      "execution_count": 112,
      "outputs": []
    },
    {
      "cell_type": "code",
      "metadata": {
        "colab": {
          "base_uri": "https://localhost:8080/"
        },
        "id": "EIk3kuxSIOm9",
        "outputId": "e7d75496-d146-4455-b2c7-da71a0054f0f"
      },
      "source": [
        "print(confusion_matrix(y_val, y_pred))"
      ],
      "execution_count": 113,
      "outputs": [
        {
          "output_type": "stream",
          "text": [
            "[[246   0 445]\n",
            " [179   0 396]\n",
            " [ 48   0 873]]\n"
          ],
          "name": "stdout"
        }
      ]
    },
    {
      "cell_type": "code",
      "metadata": {
        "colab": {
          "base_uri": "https://localhost:8080/"
        },
        "id": "-kZXBYo7IQ42",
        "outputId": "7b1e652f-69a1-4327-d2f2-fd7b6f14f577"
      },
      "source": [
        "print(classification_report(y_val, y_pred, digits=3))"
      ],
      "execution_count": 114,
      "outputs": [
        {
          "output_type": "stream",
          "text": [
            "              precision    recall  f1-score   support\n",
            "\n",
            "           0      0.520     0.356     0.423       691\n",
            "           1      0.000     0.000     0.000       575\n",
            "           2      0.509     0.948     0.663       921\n",
            "\n",
            "    accuracy                          0.512      2187\n",
            "   macro avg      0.343     0.435     0.362      2187\n",
            "weighted avg      0.379     0.512     0.413      2187\n",
            "\n"
          ],
          "name": "stdout"
        },
        {
          "output_type": "stream",
          "text": [
            "/usr/local/lib/python3.6/dist-packages/sklearn/metrics/_classification.py:1272: UndefinedMetricWarning: Precision and F-score are ill-defined and being set to 0.0 in labels with no predicted samples. Use `zero_division` parameter to control this behavior.\n",
            "  _warn_prf(average, modifier, msg_start, len(result))\n"
          ],
          "name": "stderr"
        }
      ]
    },
    {
      "cell_type": "code",
      "metadata": {
        "colab": {
          "base_uri": "https://localhost:8080/",
          "height": 296
        },
        "id": "oDOfvWggsy2A",
        "outputId": "0774ca14-82fa-49e7-951a-be6292ec068b"
      },
      "source": [
        "plot_confusion_matrix(clf, X_val, y_val, values_format = '')"
      ],
      "execution_count": 115,
      "outputs": [
        {
          "output_type": "execute_result",
          "data": {
            "text/plain": [
              "<sklearn.metrics._plot.confusion_matrix.ConfusionMatrixDisplay at 0x7ff61213f2e8>"
            ]
          },
          "metadata": {
            "tags": []
          },
          "execution_count": 115
        },
        {
          "output_type": "display_data",
          "data": {
            "image/png": "[encoded data removed]",
            "text/plain": [
              "<Figure size 432x288 with 2 Axes>"
            ]
          },
          "metadata": {
            "tags": [],
            "needs_background": "light"
          }
        }
      ]
    },
    {
      "cell_type": "markdown",
      "metadata": {
        "id": "VzfOk1HIIdcm"
      },
      "source": [
        "Ridge Classifier"
      ]
    },
    {
      "cell_type": "code",
      "metadata": {
        "id": "Pixx7BuEIg7k"
      },
      "source": [
        "from sklearn.linear_model import RidgeClassifier"
      ],
      "execution_count": 116,
      "outputs": []
    },
    {
      "cell_type": "code",
      "metadata": {
        "id": "NZ2FRVZqIhBw"
      },
      "source": [
        "clf = RidgeClassifier().fit(X_train, y_train_regressor)"
      ],
      "execution_count": 117,
      "outputs": []
    },
    {
      "cell_type": "code",
      "metadata": {
        "id": "98BOmV4ZIhFo"
      },
      "source": [
        "y_pred = clf.predict(X_val)"
      ],
      "execution_count": 118,
      "outputs": []
    },
    {
      "cell_type": "code",
      "metadata": {
        "colab": {
          "base_uri": "https://localhost:8080/"
        },
        "id": "btiUfgMwIhJi",
        "outputId": "23ceb4c2-c1b7-4dad-84eb-3e1fb55d91cc"
      },
      "source": [
        "print(confusion_matrix(y_val, y_pred))"
      ],
      "execution_count": 119,
      "outputs": [
        {
          "output_type": "stream",
          "text": [
            "[[596  95   0]\n",
            " [340 231   4]\n",
            " [  3   1 917]]\n"
          ],
          "name": "stdout"
        }
      ]
    },
    {
      "cell_type": "code",
      "metadata": {
        "colab": {
          "base_uri": "https://localhost:8080/"
        },
        "id": "EgLtZ5ewIoqa",
        "outputId": "22773609-9500-4235-db77-7cb71a8f1ee0"
      },
      "source": [
        "print(classification_report(y_val, y_pred, digits=3))"
      ],
      "execution_count": 120,
      "outputs": [
        {
          "output_type": "stream",
          "text": [
            "              precision    recall  f1-score   support\n",
            "\n",
            "           0      0.635     0.863     0.731       691\n",
            "           1      0.706     0.402     0.512       575\n",
            "           2      0.996     0.996     0.996       921\n",
            "\n",
            "    accuracy                          0.797      2187\n",
            "   macro avg      0.779     0.753     0.746      2187\n",
            "weighted avg      0.806     0.797     0.785      2187\n",
            "\n"
          ],
          "name": "stdout"
        }
      ]
    },
    {
      "cell_type": "code",
      "metadata": {
        "colab": {
          "base_uri": "https://localhost:8080/",
          "height": 296
        },
        "id": "CFcpFqcgs5Km",
        "outputId": "572daebc-0e38-408e-a3fd-f613499dc067"
      },
      "source": [
        "plot_confusion_matrix(clf, X_val, y_val, values_format = '')"
      ],
      "execution_count": 121,
      "outputs": [
        {
          "output_type": "execute_result",
          "data": {
            "text/plain": [
              "<sklearn.metrics._plot.confusion_matrix.ConfusionMatrixDisplay at 0x7ff611953208>"
            ]
          },
          "metadata": {
            "tags": []
          },
          "execution_count": 121
        },
        {
          "output_type": "display_data",
          "data": {
            "image/png": "[encoded data removed]",
            "text/plain": [
              "<Figure size 432x288 with 2 Axes>"
            ]
          },
          "metadata": {
            "tags": [],
            "needs_background": "light"
          }
        }
      ]
    },
    {
      "cell_type": "markdown",
      "metadata": {
        "id": "PoifB1RFIw-9"
      },
      "source": [
        "Ridge Classifier CV"
      ]
    },
    {
      "cell_type": "code",
      "metadata": {
        "id": "fxQl9C4aIy1y"
      },
      "source": [
        "from sklearn.linear_model import RidgeClassifierCV"
      ],
      "execution_count": 122,
      "outputs": []
    },
    {
      "cell_type": "code",
      "metadata": {
        "colab": {
          "base_uri": "https://localhost:8080/"
        },
        "id": "IEYzO6YCI0Gc",
        "outputId": "9e507260-562e-40f0-be41-12899b2abdb9"
      },
      "source": [
        "clf = RidgeClassifierCV(alphas=[1e-3, 1e-2, 1e-1, 1]).fit(X_train, y_train)"
      ],
      "execution_count": 123,
      "outputs": [
        {
          "output_type": "stream",
          "text": [
            "/usr/local/lib/python3.6/dist-packages/sklearn/linear_model/_ridge.py:1853: DataConversionWarning: A column-vector y was passed when a 1d array was expected. Please change the shape of y to (n_samples, ), for example using ravel().\n",
            "  y = column_or_1d(y, warn=True)\n"
          ],
          "name": "stderr"
        }
      ]
    },
    {
      "cell_type": "code",
      "metadata": {
        "id": "qbRVET-0I0K5"
      },
      "source": [
        "y_pred = clf.predict(X_val)"
      ],
      "execution_count": 124,
      "outputs": []
    },
    {
      "cell_type": "code",
      "metadata": {
        "colab": {
          "base_uri": "https://localhost:8080/"
        },
        "id": "sYg_BRxFJAv-",
        "outputId": "3fe3bbcf-8c80-4907-e91e-9eb7652e8cc6"
      },
      "source": [
        "print(confusion_matrix(y_val, y_pred))"
      ],
      "execution_count": 125,
      "outputs": [
        {
          "output_type": "stream",
          "text": [
            "[[246   0 445]\n",
            " [179   0 396]\n",
            " [ 48   0 873]]\n"
          ],
          "name": "stdout"
        }
      ]
    },
    {
      "cell_type": "code",
      "metadata": {
        "colab": {
          "base_uri": "https://localhost:8080/"
        },
        "id": "-5kGx2yyJDAw",
        "outputId": "cb6c7b08-a4fa-4148-a6bb-533b3f1b07a9"
      },
      "source": [
        "print(classification_report(y_val, y_pred, digits=3))"
      ],
      "execution_count": 126,
      "outputs": [
        {
          "output_type": "stream",
          "text": [
            "              precision    recall  f1-score   support\n",
            "\n",
            "           0      0.520     0.356     0.423       691\n",
            "           1      0.000     0.000     0.000       575\n",
            "           2      0.509     0.948     0.663       921\n",
            "\n",
            "    accuracy                          0.512      2187\n",
            "   macro avg      0.343     0.435     0.362      2187\n",
            "weighted avg      0.379     0.512     0.413      2187\n",
            "\n"
          ],
          "name": "stdout"
        },
        {
          "output_type": "stream",
          "text": [
            "/usr/local/lib/python3.6/dist-packages/sklearn/metrics/_classification.py:1272: UndefinedMetricWarning: Precision and F-score are ill-defined and being set to 0.0 in labels with no predicted samples. Use `zero_division` parameter to control this behavior.\n",
            "  _warn_prf(average, modifier, msg_start, len(result))\n"
          ],
          "name": "stderr"
        }
      ]
    },
    {
      "cell_type": "code",
      "metadata": {
        "colab": {
          "base_uri": "https://localhost:8080/",
          "height": 296
        },
        "id": "BysUUbUVs_oS",
        "outputId": "796fe59f-92c7-4e00-a73b-4f141055b6b7"
      },
      "source": [
        "plot_confusion_matrix(clf, X_val, y_val, values_format = '')"
      ],
      "execution_count": 127,
      "outputs": [
        {
          "output_type": "execute_result",
          "data": {
            "text/plain": [
              "<sklearn.metrics._plot.confusion_matrix.ConfusionMatrixDisplay at 0x7ff60ef4dfd0>"
            ]
          },
          "metadata": {
            "tags": []
          },
          "execution_count": 127
        },
        {
          "output_type": "display_data",
          "data": {
            "image/png": "[encoded data removed]",
            "text/plain": [
              "<Figure size 432x288 with 2 Axes>"
            ]
          },
          "metadata": {
            "tags": [],
            "needs_background": "light"
          }
        }
      ]
    },
    {
      "cell_type": "markdown",
      "metadata": {
        "id": "lLwYMW1IuHjY"
      },
      "source": [
        "Bernoulli NB"
      ]
    },
    {
      "cell_type": "code",
      "metadata": {
        "id": "Gjwo9I_fuKZt"
      },
      "source": [
        "from sklearn.naive_bayes import BernoulliNB"
      ],
      "execution_count": 128,
      "outputs": []
    },
    {
      "cell_type": "code",
      "metadata": {
        "colab": {
          "base_uri": "https://localhost:8080/"
        },
        "id": "F6oPliu5uL3C",
        "outputId": "6651d5b4-0bdd-4799-b202-cdf4008be563"
      },
      "source": [
        "clf = BernoulliNB().fit(X_train, y_train)"
      ],
      "execution_count": 129,
      "outputs": [
        {
          "output_type": "stream",
          "text": [
            "/usr/local/lib/python3.6/dist-packages/sklearn/utils/validation.py:760: DataConversionWarning: A column-vector y was passed when a 1d array was expected. Please change the shape of y to (n_samples, ), for example using ravel().\n",
            "  y = column_or_1d(y, warn=True)\n"
          ],
          "name": "stderr"
        }
      ]
    },
    {
      "cell_type": "code",
      "metadata": {
        "id": "qO2AHNJ9vdE8"
      },
      "source": [
        "y_pred = clf.predict(X_val)"
      ],
      "execution_count": 130,
      "outputs": []
    },
    {
      "cell_type": "code",
      "metadata": {
        "id": "N9eVT-eAvhku"
      },
      "source": [
        "from sklearn.metrics import confusion_matrix\n",
        "from sklearn.metrics import classification_report"
      ],
      "execution_count": 131,
      "outputs": []
    },
    {
      "cell_type": "code",
      "metadata": {
        "colab": {
          "base_uri": "https://localhost:8080/"
        },
        "id": "Dire1GW7vlKp",
        "outputId": "a4859874-082b-4a2b-f7ac-cc5bea01222f"
      },
      "source": [
        "print(confusion_matrix(y_val, y_pred))"
      ],
      "execution_count": 132,
      "outputs": [
        {
          "output_type": "stream",
          "text": [
            "[[686   5   0]\n",
            " [500  71   4]\n",
            " [  3   1 917]]\n"
          ],
          "name": "stdout"
        }
      ]
    },
    {
      "cell_type": "code",
      "metadata": {
        "colab": {
          "base_uri": "https://localhost:8080/",
          "height": 296
        },
        "id": "kEI2mAmdvlPN",
        "outputId": "a691184c-80ad-4e3a-e1ed-a1ee6d749027"
      },
      "source": [
        "from sklearn.metrics import plot_confusion_matrix\n",
        "\n",
        "plot_confusion_matrix(clf, X_val, y_val, values_format = '')"
      ],
      "execution_count": 133,
      "outputs": [
        {
          "output_type": "execute_result",
          "data": {
            "text/plain": [
              "<sklearn.metrics._plot.confusion_matrix.ConfusionMatrixDisplay at 0x7ff60eee5390>"
            ]
          },
          "metadata": {
            "tags": []
          },
          "execution_count": 133
        },
        {
          "output_type": "display_data",
          "data": {
            "image/png": "[encoded data removed]",
            "text/plain": [
              "<Figure size 432x288 with 2 Axes>"
            ]
          },
          "metadata": {
            "tags": [],
            "needs_background": "light"
          }
        }
      ]
    },
    {
      "cell_type": "code",
      "metadata": {
        "colab": {
          "base_uri": "https://localhost:8080/"
        },
        "id": "pBqVQCn5vqvM",
        "outputId": "ff5b1261-0e2f-4057-ab87-f4aa87f86f71"
      },
      "source": [
        "print(classification_report(y_val, y_pred, digits=3))"
      ],
      "execution_count": 134,
      "outputs": [
        {
          "output_type": "stream",
          "text": [
            "              precision    recall  f1-score   support\n",
            "\n",
            "           0      0.577     0.993     0.730       691\n",
            "           1      0.922     0.123     0.218       575\n",
            "           2      0.996     0.996     0.996       921\n",
            "\n",
            "    accuracy                          0.765      2187\n",
            "   macro avg      0.832     0.704     0.648      2187\n",
            "weighted avg      0.844     0.765     0.707      2187\n",
            "\n"
          ],
          "name": "stdout"
        }
      ]
    },
    {
      "cell_type": "markdown",
      "metadata": {
        "id": "prouXY5vxnkn"
      },
      "source": [
        "Bagging Extra Tree Classifier"
      ]
    },
    {
      "cell_type": "code",
      "metadata": {
        "colab": {
          "base_uri": "https://localhost:8080/"
        },
        "id": "Iv9G557Ixprl",
        "outputId": "037489c6-5077-4aaa-b706-954087fbc251"
      },
      "source": [
        "from sklearn.ensemble import BaggingClassifier\n",
        "from sklearn.tree import ExtraTreeClassifier\n",
        "\n",
        "extra_tree = ExtraTreeClassifier(random_state=0)\n",
        "cls = BaggingClassifier(extra_tree, random_state=0).fit(X_train, y_train)"
      ],
      "execution_count": 135,
      "outputs": [
        {
          "output_type": "stream",
          "text": [
            "/usr/local/lib/python3.6/dist-packages/sklearn/ensemble/_bagging.py:645: DataConversionWarning: A column-vector y was passed when a 1d array was expected. Please change the shape of y to (n_samples, ), for example using ravel().\n",
            "  y = column_or_1d(y, warn=True)\n"
          ],
          "name": "stderr"
        }
      ]
    },
    {
      "cell_type": "code",
      "metadata": {
        "id": "V2m6gG9rx3Lq"
      },
      "source": [
        "y_pred = cls.predict(X_val)"
      ],
      "execution_count": 136,
      "outputs": []
    },
    {
      "cell_type": "code",
      "metadata": {
        "colab": {
          "base_uri": "https://localhost:8080/"
        },
        "id": "k84v88DYx9oX",
        "outputId": "7a9addba-ca2b-47f5-a95e-786aab447211"
      },
      "source": [
        "print(confusion_matrix(y_val, y_pred))"
      ],
      "execution_count": 137,
      "outputs": [
        {
          "output_type": "stream",
          "text": [
            "[[576 115   0]\n",
            " [147 424   4]\n",
            " [  2   2 917]]\n"
          ],
          "name": "stdout"
        }
      ]
    },
    {
      "cell_type": "code",
      "metadata": {
        "colab": {
          "base_uri": "https://localhost:8080/"
        },
        "id": "LnILjR_4x9rN",
        "outputId": "09880ebe-4ce8-495c-d6c5-54126d7de94d"
      },
      "source": [
        "print(classification_report(y_val, y_pred, digits=3))"
      ],
      "execution_count": 138,
      "outputs": [
        {
          "output_type": "stream",
          "text": [
            "              precision    recall  f1-score   support\n",
            "\n",
            "           0      0.794     0.834     0.814       691\n",
            "           1      0.784     0.737     0.760       575\n",
            "           2      0.996     0.996     0.996       921\n",
            "\n",
            "    accuracy                          0.877      2187\n",
            "   macro avg      0.858     0.856     0.856      2187\n",
            "weighted avg      0.876     0.877     0.876      2187\n",
            "\n"
          ],
          "name": "stdout"
        }
      ]
    },
    {
      "cell_type": "code",
      "metadata": {
        "colab": {
          "base_uri": "https://localhost:8080/",
          "height": 296
        },
        "id": "vUCTkWZftLBn",
        "outputId": "3464b0ca-f3bb-4bab-990d-5d5e6c3e0351"
      },
      "source": [
        "from sklearn.metrics import plot_confusion_matrix\n",
        "\n",
        "plot_confusion_matrix(clf, X_val, y_val, values_format = '')"
      ],
      "execution_count": 139,
      "outputs": [
        {
          "output_type": "execute_result",
          "data": {
            "text/plain": [
              "<sklearn.metrics._plot.confusion_matrix.ConfusionMatrixDisplay at 0x7ff60ed11c18>"
            ]
          },
          "metadata": {
            "tags": []
          },
          "execution_count": 139
        },
        {
          "output_type": "display_data",
          "data": {
            "image/png": "[encoded data removed]",
            "text/plain": [
              "<Figure size 432x288 with 2 Axes>"
            ]
          },
          "metadata": {
            "tags": [],
            "needs_background": "light"
          }
        }
      ]
    },
    {
      "cell_type": "markdown",
      "metadata": {
        "id": "st4Y15XSv9Oj"
      },
      "source": [
        "DecisionTreeClassifier"
      ]
    },
    {
      "cell_type": "code",
      "metadata": {
        "id": "lAUG6DArwNA_"
      },
      "source": [
        "from sklearn.tree import DecisionTreeClassifier"
      ],
      "execution_count": 140,
      "outputs": []
    },
    {
      "cell_type": "code",
      "metadata": {
        "id": "DSoW4n38wOSi"
      },
      "source": [
        "clf = DecisionTreeClassifier().fit(X_train, y_train)"
      ],
      "execution_count": 141,
      "outputs": []
    },
    {
      "cell_type": "code",
      "metadata": {
        "id": "vnuSkPu7wRZe"
      },
      "source": [
        "y_pred = clf.predict(X_val)"
      ],
      "execution_count": 142,
      "outputs": []
    },
    {
      "cell_type": "code",
      "metadata": {
        "colab": {
          "base_uri": "https://localhost:8080/"
        },
        "id": "xl0Vo9jSwT6c",
        "outputId": "1c187d97-86e9-4a02-f2db-a8ccafa68415"
      },
      "source": [
        "print(confusion_matrix(y_val, y_pred))"
      ],
      "execution_count": 143,
      "outputs": [
        {
          "output_type": "stream",
          "text": [
            "[[514 177   0]\n",
            " [133 437   5]\n",
            " [  1   5 915]]\n"
          ],
          "name": "stdout"
        }
      ]
    },
    {
      "cell_type": "code",
      "metadata": {
        "colab": {
          "base_uri": "https://localhost:8080/",
          "height": 296
        },
        "id": "hzk0QU0iwV-W",
        "outputId": "abb08eea-86d5-4355-e793-07fc1c3e6339"
      },
      "source": [
        "plot_confusion_matrix(clf, X_val, y_val, values_format = '')"
      ],
      "execution_count": 145,
      "outputs": [
        {
          "output_type": "execute_result",
          "data": {
            "text/plain": [
              "<sklearn.metrics._plot.confusion_matrix.ConfusionMatrixDisplay at 0x7ff6118a18d0>"
            ]
          },
          "metadata": {
            "tags": []
          },
          "execution_count": 145
        },
        {
          "output_type": "display_data",
          "data": {
            "image/png": "[encoded data removed]",
            "text/plain": [
              "<Figure size 432x288 with 2 Axes>"
            ]
          },
          "metadata": {
            "tags": [],
            "needs_background": "light"
          }
        }
      ]
    },
    {
      "cell_type": "code",
      "metadata": {
        "colab": {
          "base_uri": "https://localhost:8080/"
        },
        "id": "ke7KKKROwX_W",
        "outputId": "3f361e83-731c-4838-8d9f-0f79e934a870"
      },
      "source": [
        "print(classification_report(y_val, y_pred, digits=3))"
      ],
      "execution_count": 146,
      "outputs": [
        {
          "output_type": "stream",
          "text": [
            "              precision    recall  f1-score   support\n",
            "\n",
            "           0      0.793     0.744     0.768       691\n",
            "           1      0.706     0.760     0.732       575\n",
            "           2      0.995     0.993     0.994       921\n",
            "\n",
            "    accuracy                          0.853      2187\n",
            "   macro avg      0.831     0.832     0.831      2187\n",
            "weighted avg      0.855     0.853     0.854      2187\n",
            "\n"
          ],
          "name": "stdout"
        }
      ]
    },
    {
      "cell_type": "markdown",
      "metadata": {
        "id": "iYhtp-6vtjO2"
      },
      "source": [
        "XGBoost"
      ]
    },
    {
      "cell_type": "code",
      "metadata": {
        "id": "KFy7azv0KrxE"
      },
      "source": [
        "import pandas as pd\n",
        "import numpy as np\n",
        "import xgboost as xgb\n",
        "from xgboost.sklearn import XGBClassifier\n",
        "from sklearn.model_selection import cross_validate\n",
        "from sklearn import metrics   #Additional scklearn functions\n",
        "from sklearn.model_selection import GridSearchCV   #Perforing grid search\n",
        "\n",
        "import matplotlib.pylab as plt"
      ],
      "execution_count": 147,
      "outputs": []
    },
    {
      "cell_type": "code",
      "metadata": {
        "colab": {
          "base_uri": "https://localhost:8080/"
        },
        "id": "8oGRdMXOv9Us",
        "outputId": "f6785128-9c14-4a0f-cdbd-fc56818225ff"
      },
      "source": [
        "####TEST (WITHOUT PARAMETER TUNING)\n",
        "\n",
        "#CLF_TEST = XGBClassifier(objective= 'multi:softmax', num_class = 3).fit(X_train,y_train.values.ravel())\n",
        "\n",
        "#PRD_TEST = CLF_TEST.predict(X_val)\n",
        "\n",
        "#print(classification_report(y_val, PRD_TEST, digits=3))\n"
      ],
      "execution_count": 149,
      "outputs": [
        {
          "output_type": "stream",
          "text": [
            "              precision    recall  f1-score   support\n",
            "\n",
            "           0      0.826     0.805     0.815       691\n",
            "           1      0.769     0.793     0.781       575\n",
            "           2      0.996     0.996     0.996       921\n",
            "\n",
            "    accuracy                          0.882      2187\n",
            "   macro avg      0.864     0.864     0.864      2187\n",
            "weighted avg      0.883     0.882     0.882      2187\n",
            "\n"
          ],
          "name": "stdout"
        }
      ]
    },
    {
      "cell_type": "code",
      "metadata": {
        "colab": {
          "base_uri": "https://localhost:8080/"
        },
        "id": "LypDQUmIZRU8",
        "outputId": "01662513-ebdf-42a1-8c89-d9d0e1f7a239"
      },
      "source": [
        "#The following set of code hypertunes the XGBoost parameters\n",
        "\n",
        "params = {\n",
        " 'n_estimators':range(50, 400, 50)\n",
        "}\n",
        "gs = GridSearchCV(estimator = XGBClassifier(learning_rate =0.1, gamma=0, subsample=0.8, colsample_bytree=0.8,max_depth=5,\n",
        " min_child_weight=1, objective= 'multi:softmax', num_class = 3), \n",
        " param_grid = params, cv=5)\n",
        "gs.fit(X_train,y_train.values.ravel())\n",
        "gs.cv_results_, gs.best_params_, gs.best_score_"
      ],
      "execution_count": 159,
      "outputs": [
        {
          "output_type": "execute_result",
          "data": {
            "text/plain": [
              "({'mean_fit_time': array([1.22253699, 2.46387119, 3.67494602, 4.84262223, 5.98694139,\n",
              "         7.11221828, 8.23805618]),\n",
              "  'mean_score_time': array([0.01156058, 0.02574992, 0.04103675, 0.05568366, 0.07039027,\n",
              "         0.0838943 , 0.09816236]),\n",
              "  'mean_test_score': array([0.88896512, 0.89536878, 0.89959977, 0.90177244, 0.90268725,\n",
              "         0.90337336, 0.90360206]),\n",
              "  'param_n_estimators': masked_array(data=[50, 100, 150, 200, 250, 300, 350],\n",
              "               mask=[False, False, False, False, False, False, False],\n",
              "         fill_value='?',\n",
              "              dtype=object),\n",
              "  'params': [{'n_estimators': 50},\n",
              "   {'n_estimators': 100},\n",
              "   {'n_estimators': 150},\n",
              "   {'n_estimators': 200},\n",
              "   {'n_estimators': 250},\n",
              "   {'n_estimators': 300},\n",
              "   {'n_estimators': 350}],\n",
              "  'rank_test_score': array([7, 6, 5, 4, 3, 2, 1], dtype=int32),\n",
              "  'split0_test_score': array([0.88965123, 0.89708405, 0.89937107, 0.89994282, 0.90451687,\n",
              "         0.90165809, 0.90222985]),\n",
              "  'split1_test_score': array([0.89822756, 0.90165809, 0.90737564, 0.91080617, 0.90909091,\n",
              "         0.90966266, 0.90737564]),\n",
              "  'split2_test_score': array([0.88279017, 0.89079474, 0.89365352, 0.89536878, 0.89822756,\n",
              "         0.89937107, 0.90165809]),\n",
              "  'split3_test_score': array([0.89251001, 0.89994282, 0.90451687, 0.91023442, 0.9079474 ,\n",
              "         0.91194969, 0.90909091]),\n",
              "  'split4_test_score': array([0.88164666, 0.88736421, 0.89308176, 0.89251001, 0.89365352,\n",
              "         0.89422527, 0.8976558 ]),\n",
              "  'std_fit_time': array([0.01384456, 0.02505583, 0.01480681, 0.0210921 , 0.01505857,\n",
              "         0.01941425, 0.02927568]),\n",
              "  'std_score_time': array([0.0001773 , 0.00030439, 0.00040617, 0.00027136, 0.00086241,\n",
              "         0.00106997, 0.00172435]),\n",
              "  'std_test_score': array([0.00617284, 0.0054482 , 0.00570152, 0.00752809, 0.00589102,\n",
              "         0.00656897, 0.00413249])},\n",
              " {'n_estimators': 350},\n",
              " 0.9036020583190394)"
            ]
          },
          "metadata": {
            "tags": []
          },
          "execution_count": 159
        }
      ]
    },
    {
      "cell_type": "code",
      "metadata": {
        "colab": {
          "base_uri": "https://localhost:8080/"
        },
        "id": "eWKBojvwX4B2",
        "outputId": "11e56b86-21d4-45c2-cfce-00a26019799b"
      },
      "source": [
        "params = {\n",
        " 'max_depth':range(3,10,2),\n",
        " 'min_child_weight':range(1,6,2)\n",
        "}\n",
        "gs = GridSearchCV(estimator = XGBClassifier(learning_rate =0.1, gamma=0, subsample=0.8, colsample_bytree=0.8,max_depth=5,\n",
        " min_child_weight=1, objective= 'multi:softmax', num_class = 3, n_estimators=350), \n",
        " param_grid = params, cv=5)\n",
        "gs.fit(X_train,y_train.values.ravel())\n",
        "gs.cv_results_, gs.best_params_, gs.best_score_"
      ],
      "execution_count": 160,
      "outputs": [
        {
          "output_type": "execute_result",
          "data": {
            "text/plain": [
              "({'mean_fit_time': array([ 5.49014282,  5.32529817,  5.20030556,  8.20882869,  7.76939425,\n",
              "          7.50696306, 10.91348438, 10.18220768,  9.84489651, 13.28700476,\n",
              "         12.24832983, 11.74841104]),\n",
              "  'mean_score_time': array([0.0706224 , 0.06833172, 0.06597939, 0.09717588, 0.09427762,\n",
              "         0.09063931, 0.13423128, 0.12311373, 0.11943064, 0.17260966,\n",
              "         0.1517272 , 0.14504762]),\n",
              "  'mean_test_score': array([0.89879931, 0.89834191, 0.89879931, 0.90360206, 0.90028588,\n",
              "         0.90211549, 0.90360206, 0.90097198, 0.90074328, 0.90348771,\n",
              "         0.90040023, 0.90017153]),\n",
              "  'param_max_depth': masked_array(data=[3, 3, 3, 5, 5, 5, 7, 7, 7, 9, 9, 9],\n",
              "               mask=[False, False, False, False, False, False, False, False,\n",
              "                     False, False, False, False],\n",
              "         fill_value='?',\n",
              "              dtype=object),\n",
              "  'param_min_child_weight': masked_array(data=[1, 3, 5, 1, 3, 5, 1, 3, 5, 1, 3, 5],\n",
              "               mask=[False, False, False, False, False, False, False, False,\n",
              "                     False, False, False, False],\n",
              "         fill_value='?',\n",
              "              dtype=object),\n",
              "  'params': [{'max_depth': 3, 'min_child_weight': 1},\n",
              "   {'max_depth': 3, 'min_child_weight': 3},\n",
              "   {'max_depth': 3, 'min_child_weight': 5},\n",
              "   {'max_depth': 5, 'min_child_weight': 1},\n",
              "   {'max_depth': 5, 'min_child_weight': 3},\n",
              "   {'max_depth': 5, 'min_child_weight': 5},\n",
              "   {'max_depth': 7, 'min_child_weight': 1},\n",
              "   {'max_depth': 7, 'min_child_weight': 3},\n",
              "   {'max_depth': 7, 'min_child_weight': 5},\n",
              "   {'max_depth': 9, 'min_child_weight': 1},\n",
              "   {'max_depth': 9, 'min_child_weight': 3},\n",
              "   {'max_depth': 9, 'min_child_weight': 5}],\n",
              "  'rank_test_score': array([10, 12, 10,  1,  8,  4,  1,  5,  6,  3,  7,  9], dtype=int32),\n",
              "  'split0_test_score': array([0.89251001, 0.89708405, 0.89594054, 0.90222985, 0.9028016 ,\n",
              "         0.90108634, 0.90165809, 0.89536878, 0.89594054, 0.8976558 ,\n",
              "         0.89536878, 0.89536878]),\n",
              "  'split1_test_score': array([0.90508862, 0.90737564, 0.90451687, 0.90737564, 0.9028016 ,\n",
              "         0.9079474 , 0.90680389, 0.90623213, 0.90451687, 0.90909091,\n",
              "         0.90623213, 0.90337336]),\n",
              "  'split2_test_score': array([0.89708405, 0.89308176, 0.89708405, 0.90165809, 0.89365352,\n",
              "         0.8976558 , 0.90051458, 0.90165809, 0.89994282, 0.89994282,\n",
              "         0.89822756, 0.89994282]),\n",
              "  'split3_test_score': array([0.90851915, 0.90108634, 0.90508862, 0.90909091, 0.90737564,\n",
              "         0.90623213, 0.90623213, 0.90451687, 0.90508862, 0.9079474 ,\n",
              "         0.90566038, 0.90337336]),\n",
              "  'split4_test_score': array([0.89079474, 0.89308176, 0.8913665 , 0.8976558 , 0.89479703,\n",
              "         0.8976558 , 0.9028016 , 0.89708405, 0.89822756, 0.9028016 ,\n",
              "         0.89651229, 0.89879931]),\n",
              "  'std_fit_time': array([0.02839833, 0.03974862, 0.04213024, 0.02295467, 0.03622437,\n",
              "         0.02395861, 0.04509739, 0.02734202, 0.03177259, 0.06520479,\n",
              "         0.03828423, 0.02414945]),\n",
              "  'std_score_time': array([0.00072669, 0.0003741 , 0.00111532, 0.00058393, 0.00103107,\n",
              "         0.00071725, 0.00174286, 0.00108062, 0.003067  , 0.00294135,\n",
              "         0.00176755, 0.00509263]),\n",
              "  'std_test_score': array([0.00693688, 0.00540483, 0.00526512, 0.00413249, 0.00523523,\n",
              "         0.00428473, 0.00249485, 0.00417655, 0.00355409, 0.0044347 ,\n",
              "         0.00462239, 0.00301679])},\n",
              " {'max_depth': 5, 'min_child_weight': 1},\n",
              " 0.9036020583190394)"
            ]
          },
          "metadata": {
            "tags": []
          },
          "execution_count": 160
        }
      ]
    },
    {
      "cell_type": "code",
      "metadata": {
        "colab": {
          "base_uri": "https://localhost:8080/"
        },
        "id": "FT3cjnxld5n0",
        "outputId": "3a1765d7-4d75-44a9-a927-4711ccb42b7a"
      },
      "source": [
        "params = { \n",
        " 'max_depth':[5,8,9],\n",
        " 'min_child_weight':[0,1,2]\n",
        "}\n",
        "gs = GridSearchCV(estimator = XGBClassifier(learning_rate =0.1, gamma=0, subsample=0.8, colsample_bytree=0.8,max_depth=5,\n",
        " min_child_weight=1, objective= 'multi:softmax', num_class = 3, n_estimators=350), \n",
        " param_grid = params, cv=5)\n",
        "gs.fit(X_train,y_train.values.ravel())\n",
        "gs.cv_results_, gs.best_params_, gs.best_score_"
      ],
      "execution_count": 187,
      "outputs": [
        {
          "output_type": "execute_result",
          "data": {
            "text/plain": [
              "({'mean_fit_time': array([ 9.01717997,  8.03469729,  7.72102952, 14.6488564 , 11.83097968,\n",
              "         11.36201677, 16.52091913, 12.96607347, 12.32602086]),\n",
              "  'mean_score_time': array([0.1058938 , 0.09637794, 0.09355688, 0.20556579, 0.15021467,\n",
              "         0.14027081, 0.2468657 , 0.1705349 , 0.1548861 ]),\n",
              "  'mean_test_score': array([0.90371641, 0.90360206, 0.90188679, 0.90245855, 0.90417381,\n",
              "         0.90245855, 0.90394511, 0.90348771, 0.90200114]),\n",
              "  'param_max_depth': masked_array(data=[5, 5, 5, 8, 8, 8, 9, 9, 9],\n",
              "               mask=[False, False, False, False, False, False, False, False,\n",
              "                     False],\n",
              "         fill_value='?',\n",
              "              dtype=object),\n",
              "  'param_min_child_weight': masked_array(data=[0, 1, 2, 0, 1, 2, 0, 1, 2],\n",
              "               mask=[False, False, False, False, False, False, False, False,\n",
              "                     False],\n",
              "         fill_value='?',\n",
              "              dtype=object),\n",
              "  'params': [{'max_depth': 5, 'min_child_weight': 0},\n",
              "   {'max_depth': 5, 'min_child_weight': 1},\n",
              "   {'max_depth': 5, 'min_child_weight': 2},\n",
              "   {'max_depth': 8, 'min_child_weight': 0},\n",
              "   {'max_depth': 8, 'min_child_weight': 1},\n",
              "   {'max_depth': 8, 'min_child_weight': 2},\n",
              "   {'max_depth': 9, 'min_child_weight': 0},\n",
              "   {'max_depth': 9, 'min_child_weight': 1},\n",
              "   {'max_depth': 9, 'min_child_weight': 2}],\n",
              "  'rank_test_score': array([3, 4, 9, 6, 1, 6, 2, 5, 8], dtype=int32),\n",
              "  'split0_test_score': array([0.90165809, 0.90222985, 0.89937107, 0.89937107, 0.8976558 ,\n",
              "         0.89879931, 0.89879931, 0.8976558 , 0.89994282]),\n",
              "  'split1_test_score': array([0.90851915, 0.90737564, 0.90966266, 0.9079474 , 0.91252144,\n",
              "         0.90623213, 0.91080617, 0.90909091, 0.90680389]),\n",
              "  'split2_test_score': array([0.90051458, 0.90165809, 0.89937107, 0.9028016 , 0.90222985,\n",
              "         0.89879931, 0.90337336, 0.89994282, 0.90108634]),\n",
              "  'split3_test_score': array([0.90909091, 0.90909091, 0.90451687, 0.90451687, 0.90737564,\n",
              "         0.90623213, 0.90508862, 0.9079474 , 0.90394511]),\n",
              "  'split4_test_score': array([0.89879931, 0.8976558 , 0.89651229, 0.8976558 , 0.90108634,\n",
              "         0.90222985, 0.90165809, 0.9028016 , 0.89822756]),\n",
              "  'std_fit_time': array([0.04635695, 0.0663624 , 0.06232549, 0.05931431, 0.03847494,\n",
              "         0.0677749 , 0.08901495, 0.07227228, 0.05514635]),\n",
              "  'std_score_time': array([0.00315694, 0.00171884, 0.00104026, 0.0051122 , 0.00388356,\n",
              "         0.00200041, 0.00667312, 0.00226947, 0.00110458]),\n",
              "  'std_test_score': array([0.00425718, 0.00413249, 0.00466743, 0.00366281, 0.00521019,\n",
              "         0.00332602, 0.00401045, 0.0044347 , 0.00303838])},\n",
              " {'max_depth': 8, 'min_child_weight': 1},\n",
              " 0.9041738136077759)"
            ]
          },
          "metadata": {
            "tags": []
          },
          "execution_count": 187
        }
      ]
    },
    {
      "cell_type": "code",
      "metadata": {
        "colab": {
          "base_uri": "https://localhost:8080/"
        },
        "id": "-m1JQPIrgwlP",
        "outputId": "64ef9ec4-9fd4-4d6a-9ed4-e31614fa4efb"
      },
      "source": [
        "params = {\n",
        " 'gamma':[i/10.0 for i in range(0,5)]\n",
        "}\n",
        "gs = GridSearchCV(estimator = XGBClassifier(learning_rate =0.1, gamma=0, subsample=0.8, colsample_bytree=0.8,max_depth=8,\n",
        " min_child_weight=1, objective= 'multi:softmax', num_class = 3, n_estimators=350), \n",
        " param_grid = params, cv=5)\n",
        "gs.fit(X_train,y_train.values.ravel())\n",
        "gs.cv_results_, gs.best_params_, gs.best_score_"
      ],
      "execution_count": 162,
      "outputs": [
        {
          "output_type": "execute_result",
          "data": {
            "text/plain": [
              "({'mean_fit_time': array([12.15294952, 12.2458497 , 12.38778219, 12.42145176, 12.44640355]),\n",
              "  'mean_score_time': array([0.15273199, 0.14294329, 0.13123541, 0.12401953, 0.11609817]),\n",
              "  'mean_test_score': array([0.90417381, 0.90314465, 0.90165809, 0.90200114, 0.90371641]),\n",
              "  'param_gamma': masked_array(data=[0.0, 0.1, 0.2, 0.3, 0.4],\n",
              "               mask=[False, False, False, False, False],\n",
              "         fill_value='?',\n",
              "              dtype=object),\n",
              "  'params': [{'gamma': 0.0},\n",
              "   {'gamma': 0.1},\n",
              "   {'gamma': 0.2},\n",
              "   {'gamma': 0.3},\n",
              "   {'gamma': 0.4}],\n",
              "  'rank_test_score': array([1, 3, 5, 4, 2], dtype=int32),\n",
              "  'split0_test_score': array([0.8976558 , 0.8976558 , 0.89422527, 0.89937107, 0.89937107]),\n",
              "  'split1_test_score': array([0.91252144, 0.90737564, 0.9079474 , 0.90851915, 0.91538022]),\n",
              "  'split2_test_score': array([0.90222985, 0.90108634, 0.9028016 , 0.89822756, 0.89879931]),\n",
              "  'split3_test_score': array([0.90737564, 0.90680389, 0.90337336, 0.90451687, 0.90680389]),\n",
              "  'split4_test_score': array([0.90108634, 0.9028016 , 0.89994282, 0.89937107, 0.89822756]),\n",
              "  'std_fit_time': array([0.04249694, 0.0451717 , 0.01176156, 0.03269668, 0.04307181]),\n",
              "  'std_score_time': array([0.00146318, 0.00176802, 0.00106179, 0.00275571, 0.00193801]),\n",
              "  'std_test_score': array([0.00521019, 0.00362693, 0.0045165 , 0.00392142, 0.00661459])},\n",
              " {'gamma': 0.0},\n",
              " 0.9041738136077759)"
            ]
          },
          "metadata": {
            "tags": []
          },
          "execution_count": 162
        }
      ]
    },
    {
      "cell_type": "code",
      "metadata": {
        "colab": {
          "base_uri": "https://localhost:8080/"
        },
        "id": "iX6aeDdwiW3i",
        "outputId": "fc7081c3-c85e-4240-c021-faf1ae2ba09a"
      },
      "source": [
        "params = {\n",
        " 'n_estimators':range(50, 400, 50)\n",
        "}\n",
        "gs = GridSearchCV(estimator = XGBClassifier(learning_rate =0.1, gamma=0, subsample=0.8, colsample_bytree=0.8,max_depth=8,\n",
        " min_child_weight=1, objective= 'multi:softmax', num_class = 3), \n",
        " param_grid = params, cv=5)\n",
        "gs.fit(X_train,y_train.values.ravel())\n",
        "gs.cv_results_, gs.best_params_, gs.best_score_"
      ],
      "execution_count": 163,
      "outputs": [
        {
          "output_type": "execute_result",
          "data": {
            "text/plain": [
              "({'mean_fit_time': array([ 1.89849215,  3.70795207,  5.51625509,  7.26598353,  8.92809854,\n",
              "         10.6107131 , 12.20872092]),\n",
              "  'mean_score_time': array([0.01757674, 0.03685942, 0.0575201 , 0.07871199, 0.10170546,\n",
              "         0.12762871, 0.15309219]),\n",
              "  'mean_test_score': array([0.8974271 , 0.90383076, 0.90474557, 0.90360206, 0.90531732,\n",
              "         0.90440252, 0.90417381]),\n",
              "  'param_n_estimators': masked_array(data=[50, 100, 150, 200, 250, 300, 350],\n",
              "               mask=[False, False, False, False, False, False, False],\n",
              "         fill_value='?',\n",
              "              dtype=object),\n",
              "  'params': [{'n_estimators': 50},\n",
              "   {'n_estimators': 100},\n",
              "   {'n_estimators': 150},\n",
              "   {'n_estimators': 200},\n",
              "   {'n_estimators': 250},\n",
              "   {'n_estimators': 300},\n",
              "   {'n_estimators': 350}],\n",
              "  'rank_test_score': array([7, 5, 2, 6, 1, 3, 4], dtype=int32),\n",
              "  'split0_test_score': array([0.89422527, 0.89651229, 0.89994282, 0.89708405, 0.89879931,\n",
              "         0.89822756, 0.8976558 ]),\n",
              "  'split1_test_score': array([0.91080617, 0.91538022, 0.91023442, 0.91252144, 0.91423671,\n",
              "         0.91252144, 0.91252144]),\n",
              "  'split2_test_score': array([0.89365352, 0.90108634, 0.90108634, 0.90051458, 0.90165809,\n",
              "         0.90337336, 0.90222985]),\n",
              "  'split3_test_score': array([0.89708405, 0.90737564, 0.90909091, 0.90623213, 0.9079474 ,\n",
              "         0.90737564, 0.90737564]),\n",
              "  'split4_test_score': array([0.8913665 , 0.89879931, 0.90337336, 0.90165809, 0.90394511,\n",
              "         0.90051458, 0.90108634]),\n",
              "  'std_fit_time': array([0.01491628, 0.01399821, 0.023557  , 0.0260481 , 0.02413902,\n",
              "         0.03176012, 0.0598933 ]),\n",
              "  'std_score_time': array([0.00026855, 0.00050939, 0.00028636, 0.00028654, 0.00270391,\n",
              "         0.00323405, 0.00269174]),\n",
              "  'std_test_score': array([0.00693311, 0.00681709, 0.00417968, 0.0053342 , 0.00537085,\n",
              "         0.00508059, 0.00521019])},\n",
              " {'n_estimators': 250},\n",
              " 0.9053173241852486)"
            ]
          },
          "metadata": {
            "tags": []
          },
          "execution_count": 163
        }
      ]
    },
    {
      "cell_type": "code",
      "metadata": {
        "colab": {
          "base_uri": "https://localhost:8080/"
        },
        "id": "6zbck0N9jwja",
        "outputId": "a4baccfb-7dc4-48d6-c819-6fd05a8e64f1"
      },
      "source": [
        "params = {  \n",
        " 'subsample':[i/10.0 for i in range(6,10)],\n",
        " 'colsample_bytree':[i/10.0 for i in range(6,10)]\n",
        "}\n",
        "gs = GridSearchCV(estimator = XGBClassifier(learning_rate =0.1, gamma=0, subsample=0.8, colsample_bytree=0.8,max_depth=8,\n",
        " min_child_weight=1, objective= 'multi:softmax', num_class = 3, n_estimators=250), \n",
        " param_grid = params, cv=5)\n",
        "gs.fit(X_train,y_train.values.ravel())\n",
        "gs.cv_results_, gs.best_params_, gs.best_score_"
      ],
      "execution_count": 164,
      "outputs": [
        {
          "output_type": "execute_result",
          "data": {
            "text/plain": [
              "({'mean_fit_time': array([7.70042429, 7.70080447, 7.58690567, 7.39978957, 8.61223569,\n",
              "         8.60661936, 8.4996964 , 8.29381137, 9.08125067, 9.13172054,\n",
              "         9.00787835, 8.83575482, 9.97813654, 9.99735084, 9.83690639,\n",
              "         9.59424267]),\n",
              "  'mean_score_time': array([0.10835509, 0.10683894, 0.10531807, 0.1048214 , 0.10479178,\n",
              "         0.10570412, 0.10394087, 0.10127683, 0.10389771, 0.10467372,\n",
              "         0.10273566, 0.09985852, 0.10226679, 0.10038161, 0.09873128,\n",
              "         0.09646921]),\n",
              "  'mean_test_score': array([0.90211549, 0.9025729 , 0.90200114, 0.90383076, 0.90188679,\n",
              "         0.90485992, 0.90463122, 0.90337336, 0.90245855, 0.90371641,\n",
              "         0.90531732, 0.90337336, 0.90211549, 0.9023442 , 0.90291595,\n",
              "         0.90337336]),\n",
              "  'param_colsample_bytree': masked_array(data=[0.6, 0.6, 0.6, 0.6, 0.7, 0.7, 0.7, 0.7, 0.8, 0.8, 0.8,\n",
              "                     0.8, 0.9, 0.9, 0.9, 0.9],\n",
              "               mask=[False, False, False, False, False, False, False, False,\n",
              "                     False, False, False, False, False, False, False, False],\n",
              "         fill_value='?',\n",
              "              dtype=object),\n",
              "  'param_subsample': masked_array(data=[0.6, 0.7, 0.8, 0.9, 0.6, 0.7, 0.8, 0.9, 0.6, 0.7, 0.8,\n",
              "                     0.9, 0.6, 0.7, 0.8, 0.9],\n",
              "               mask=[False, False, False, False, False, False, False, False,\n",
              "                     False, False, False, False, False, False, False, False],\n",
              "         fill_value='?',\n",
              "              dtype=object),\n",
              "  'params': [{'colsample_bytree': 0.6, 'subsample': 0.6},\n",
              "   {'colsample_bytree': 0.6, 'subsample': 0.7},\n",
              "   {'colsample_bytree': 0.6, 'subsample': 0.8},\n",
              "   {'colsample_bytree': 0.6, 'subsample': 0.9},\n",
              "   {'colsample_bytree': 0.7, 'subsample': 0.6},\n",
              "   {'colsample_bytree': 0.7, 'subsample': 0.7},\n",
              "   {'colsample_bytree': 0.7, 'subsample': 0.8},\n",
              "   {'colsample_bytree': 0.7, 'subsample': 0.9},\n",
              "   {'colsample_bytree': 0.8, 'subsample': 0.6},\n",
              "   {'colsample_bytree': 0.8, 'subsample': 0.7},\n",
              "   {'colsample_bytree': 0.8, 'subsample': 0.8},\n",
              "   {'colsample_bytree': 0.8, 'subsample': 0.9},\n",
              "   {'colsample_bytree': 0.9, 'subsample': 0.6},\n",
              "   {'colsample_bytree': 0.9, 'subsample': 0.7},\n",
              "   {'colsample_bytree': 0.9, 'subsample': 0.8},\n",
              "   {'colsample_bytree': 0.9, 'subsample': 0.9}],\n",
              "  'rank_test_score': array([13, 10, 15,  4, 16,  2,  3,  8, 11,  5,  1,  6, 13, 12,  9,  6],\n",
              "        dtype=int32),\n",
              "  'split0_test_score': array([0.89536878, 0.8976558 , 0.8976558 , 0.89879931, 0.89479703,\n",
              "         0.89822756, 0.89879931, 0.89937107, 0.89822756, 0.90165809,\n",
              "         0.89879931, 0.90051458, 0.89879931, 0.89651229, 0.90222985,\n",
              "         0.90508862]),\n",
              "  'split1_test_score': array([0.90508862, 0.90680389, 0.90737564, 0.91080617, 0.90451687,\n",
              "         0.91080617, 0.90851915, 0.91194969, 0.90508862, 0.90737564,\n",
              "         0.91423671, 0.90909091, 0.90966266, 0.90566038, 0.90566038,\n",
              "         0.9028016 ]),\n",
              "  'split2_test_score': array([0.89822756, 0.90051458, 0.90165809, 0.89879931, 0.9028016 ,\n",
              "         0.90451687, 0.90909091, 0.89822756, 0.90108634, 0.89937107,\n",
              "         0.90165809, 0.90108634, 0.8976558 , 0.90222985, 0.90051458,\n",
              "         0.89994282]),\n",
              "  'split3_test_score': array([0.90851915, 0.90566038, 0.90623213, 0.9079474 , 0.90680389,\n",
              "         0.91023442, 0.90737564, 0.9079474 , 0.90851915, 0.90737564,\n",
              "         0.9079474 , 0.90851915, 0.90680389, 0.90566038, 0.90909091,\n",
              "         0.9079474 ]),\n",
              "  'split4_test_score': array([0.90337336, 0.90222985, 0.89708405, 0.9028016 , 0.90051458,\n",
              "         0.90051458, 0.89937107, 0.89937107, 0.89937107, 0.9028016 ,\n",
              "         0.90394511, 0.8976558 , 0.8976558 , 0.90165809, 0.89708405,\n",
              "         0.90108634]),\n",
              "  'std_fit_time': array([0.02073987, 0.0155837 , 0.02005411, 0.03789781, 0.05114243,\n",
              "         0.03295132, 0.04452469, 0.04297464, 0.04504447, 0.02830851,\n",
              "         0.04411486, 0.04566711, 0.04423773, 0.04894895, 0.03253311,\n",
              "         0.0369362 ]),\n",
              "  'std_score_time': array([0.00185891, 0.00045459, 0.00071432, 0.00069424, 0.0006542 ,\n",
              "         0.00265834, 0.00210563, 0.00179595, 0.00050428, 0.00343844,\n",
              "         0.00270464, 0.00155517, 0.00156418, 0.00180197, 0.0014722 ,\n",
              "         0.00121818]),\n",
              "  'std_test_score': array([0.00473419, 0.00334562, 0.00424179, 0.00484341, 0.00410073,\n",
              "         0.00504442, 0.00456546, 0.00553157, 0.00382008, 0.00318545,\n",
              "         0.00537085, 0.00458831, 0.00509344, 0.00336122, 0.00414513,\n",
              "         0.00287019])},\n",
              " {'colsample_bytree': 0.8, 'subsample': 0.8},\n",
              " 0.9053173241852486)"
            ]
          },
          "metadata": {
            "tags": []
          },
          "execution_count": 164
        }
      ]
    },
    {
      "cell_type": "code",
      "metadata": {
        "colab": {
          "base_uri": "https://localhost:8080/"
        },
        "id": "KS9Wvcs7pFEb",
        "outputId": "764e7c3e-93c1-4e2e-f2fa-f4c5aac528f7"
      },
      "source": [
        "params = { \n",
        " 'reg_alpha':[0, 0.001, 0.005, 0.01, 0.05]\n",
        "}\n",
        "gs = GridSearchCV(estimator = XGBClassifier(learning_rate =0.1, gamma=0, subsample=0.8, colsample_bytree=0.8,max_depth=8,\n",
        " min_child_weight=1, objective= 'multi:softmax', num_class = 3, n_estimators=250), \n",
        " param_grid = params, cv=5)\n",
        "gs.fit(X_train,y_train.values.ravel())\n",
        "gs.cv_results_, gs.best_params_, gs.best_score_"
      ],
      "execution_count": 165,
      "outputs": [
        {
          "output_type": "execute_result",
          "data": {
            "text/plain": [
              "({'mean_fit_time': array([8.93305779, 8.97781906, 9.04144878, 9.00265837, 9.08563161]),\n",
              "  'mean_score_time': array([0.10094895, 0.10087113, 0.10179548, 0.10092416, 0.10102558]),\n",
              "  'mean_test_score': array([0.90531732, 0.90337336, 0.90348771, 0.90440252, 0.90154374]),\n",
              "  'param_reg_alpha': masked_array(data=[0, 0.001, 0.005, 0.01, 0.05],\n",
              "               mask=[False, False, False, False, False],\n",
              "         fill_value='?',\n",
              "              dtype=object),\n",
              "  'params': [{'reg_alpha': 0},\n",
              "   {'reg_alpha': 0.001},\n",
              "   {'reg_alpha': 0.005},\n",
              "   {'reg_alpha': 0.01},\n",
              "   {'reg_alpha': 0.05}],\n",
              "  'rank_test_score': array([1, 4, 3, 2, 5], dtype=int32),\n",
              "  'split0_test_score': array([0.89879931, 0.89822756, 0.89937107, 0.89536878, 0.89594054]),\n",
              "  'split1_test_score': array([0.91423671, 0.91080617, 0.90966266, 0.91080617, 0.9079474 ]),\n",
              "  'split2_test_score': array([0.90165809, 0.90222985, 0.89994282, 0.90451687, 0.90165809]),\n",
              "  'split3_test_score': array([0.9079474 , 0.9028016 , 0.90680389, 0.90851915, 0.90222985]),\n",
              "  'split4_test_score': array([0.90394511, 0.9028016 , 0.90165809, 0.9028016 , 0.89994282]),\n",
              "  'std_fit_time': array([0.02442935, 0.03133398, 0.04615109, 0.04281929, 0.05373078]),\n",
              "  'std_score_time': array([0.00148637, 0.00037607, 0.0009466 , 0.00065326, 0.00114318]),\n",
              "  'std_test_score': array([0.00537085, 0.00409115, 0.00404938, 0.00533175, 0.00388457])},\n",
              " {'reg_alpha': 0},\n",
              " 0.9053173241852486)"
            ]
          },
          "metadata": {
            "tags": []
          },
          "execution_count": 165
        }
      ]
    },
    {
      "cell_type": "code",
      "metadata": {
        "colab": {
          "base_uri": "https://localhost:8080/"
        },
        "id": "q-GYHemTmk6s",
        "outputId": "bf23cdde-11a0-4657-b022-0f6737593f5f"
      },
      "source": [
        "params = { \n",
        " 'reg_lambda':[1e-5, 1e-2, 0.1, 1, 100]\n",
        "}\n",
        "gs = GridSearchCV(estimator = XGBClassifier(learning_rate =0.1, gamma=0, subsample=0.8, colsample_bytree=0.8,max_depth=8,\n",
        " min_child_weight=1, objective= 'multi:softmax', num_class = 3, n_estimators=250), \n",
        " param_grid = params, cv=5)\n",
        "gs.fit(X_train,y_train.values.ravel())\n",
        "gs.cv_results_, gs.best_params_, gs.best_score_"
      ],
      "execution_count": 167,
      "outputs": [
        {
          "output_type": "execute_result",
          "data": {
            "text/plain": [
              "({'mean_fit_time': array([9.35158539, 8.84790316, 8.79231353, 8.93413606, 9.6789536 ]),\n",
              "  'mean_score_time': array([0.11288304, 0.10208483, 0.10038495, 0.10155773, 0.10441852]),\n",
              "  'mean_test_score': array([0.90394511, 0.90337336, 0.90405946, 0.90531732, 0.89994282]),\n",
              "  'param_reg_lambda': masked_array(data=[1e-05, 0.01, 0.1, 1, 100],\n",
              "               mask=[False, False, False, False, False],\n",
              "         fill_value='?',\n",
              "              dtype=object),\n",
              "  'params': [{'reg_lambda': 1e-05},\n",
              "   {'reg_lambda': 0.01},\n",
              "   {'reg_lambda': 0.1},\n",
              "   {'reg_lambda': 1},\n",
              "   {'reg_lambda': 100}],\n",
              "  'rank_test_score': array([3, 4, 2, 1, 5], dtype=int32),\n",
              "  'split0_test_score': array([0.90222985, 0.89708405, 0.90108634, 0.89879931, 0.89594054]),\n",
              "  'split1_test_score': array([0.90623213, 0.90337336, 0.90909091, 0.91423671, 0.90680389]),\n",
              "  'split2_test_score': array([0.90508862, 0.90451687, 0.89879931, 0.90165809, 0.89822756]),\n",
              "  'split3_test_score': array([0.90680389, 0.90680389, 0.90737564, 0.9079474 , 0.90737564]),\n",
              "  'split4_test_score': array([0.89937107, 0.90508862, 0.90394511, 0.90394511, 0.8913665 ]),\n",
              "  'std_fit_time': array([0.08330222, 0.02916372, 0.04503753, 0.03958382, 0.06260097]),\n",
              "  'std_score_time': array([0.00314285, 0.00073949, 0.00032749, 0.00125332, 0.00180624]),\n",
              "  'std_test_score': array([0.00277758, 0.00333388, 0.00381665, 0.00537085, 0.00624235])},\n",
              " {'reg_lambda': 1},\n",
              " 0.9053173241852486)"
            ]
          },
          "metadata": {
            "tags": []
          },
          "execution_count": 167
        }
      ]
    },
    {
      "cell_type": "code",
      "metadata": {
        "colab": {
          "base_uri": "https://localhost:8080/"
        },
        "id": "GWiNn_3tZqXD",
        "outputId": "79af57d4-a42c-4068-eef4-40957233b13a"
      },
      "source": [
        "param_s = { \n",
        " 'reg_lambda':[0, 0.001, 0.005, 0.01, 0.05]\n",
        "}\n",
        "gs = GridSearchCV(estimator = XGBClassifier(learning_rate =0.1, gamma=0, subsample=0.8, colsample_bytree=0.8,max_depth=8,\n",
        " min_child_weight=1, objective= 'multi:softmax', num_class = 3, n_estimators=250), \n",
        " param_grid = params, cv=5)\n",
        "gs.fit(X_train,y_train.values.ravel())\n",
        "gs.cv_results_, gs.best_params_, gs.best_score_"
      ],
      "execution_count": 168,
      "outputs": [
        {
          "output_type": "execute_result",
          "data": {
            "text/plain": [
              "({'mean_fit_time': array([8.28001065, 9.02372532, 8.91887307, 8.88265934, 8.79320426]),\n",
              "  'mean_score_time': array([0.09691443, 0.10707936, 0.10334554, 0.10343952, 0.10187368]),\n",
              "  'mean_test_score': array([0.9030303 , 0.90451687, 0.90348771, 0.90337336, 0.90451687]),\n",
              "  'param_reg_lambda': masked_array(data=[0, 0.001, 0.005, 0.01, 0.05],\n",
              "               mask=[False, False, False, False, False],\n",
              "         fill_value='?',\n",
              "              dtype=object),\n",
              "  'params': [{'reg_lambda': 0},\n",
              "   {'reg_lambda': 0.001},\n",
              "   {'reg_lambda': 0.005},\n",
              "   {'reg_lambda': 0.01},\n",
              "   {'reg_lambda': 0.05}],\n",
              "  'rank_test_score': array([5, 1, 3, 4, 1], dtype=int32),\n",
              "  'split0_test_score': array([0.90108634, 0.89822756, 0.89422527, 0.89708405, 0.90165809]),\n",
              "  'split1_test_score': array([0.90737564, 0.91137793, 0.91080617, 0.90337336, 0.91194969]),\n",
              "  'split2_test_score': array([0.89937107, 0.90337336, 0.90165809, 0.90451687, 0.90108634]),\n",
              "  'split3_test_score': array([0.9079474 , 0.90566038, 0.9079474 , 0.90680389, 0.9079474 ]),\n",
              "  'split4_test_score': array([0.89937107, 0.90394511, 0.9028016 , 0.90508862, 0.89994282]),\n",
              "  'std_fit_time': array([2.16516809, 0.03334076, 0.04094714, 0.03834866, 0.03681666]),\n",
              "  'std_score_time': array([0.03063056, 0.00316969, 0.00080163, 0.00110435, 0.00204432]),\n",
              "  'std_test_score': array([0.00383716, 0.00423253, 0.00571069, 0.00333388, 0.00464496])},\n",
              " {'reg_lambda': 0.001},\n",
              " 0.9045168667810177)"
            ]
          },
          "metadata": {
            "tags": []
          },
          "execution_count": 168
        }
      ]
    },
    {
      "cell_type": "code",
      "metadata": {
        "colab": {
          "base_uri": "https://localhost:8080/"
        },
        "id": "YYP9n_t7raJz",
        "outputId": "fa777b94-cc49-4bb8-e045-ae857894199b"
      },
      "source": [
        "params = {\n",
        " 'n_estimators':range(50, 400, 50)\n",
        "}\n",
        "gs = GridSearchCV(estimator = XGBClassifier(learning_rate =0.1, gamma=0, subsample=0.8, colsample_bytree=0.8,max_depth=8,\n",
        " min_child_weight=1, objective= 'multi:softmax', num_class = 3, n_estimators=250, reg_lambda = 1), \n",
        " param_grid = params, cv=5)\n",
        "gs.fit(X_train,y_train.values.ravel())\n",
        "gs.cv_results_, gs.best_params_, gs.best_score_"
      ],
      "execution_count": 169,
      "outputs": [
        {
          "output_type": "execute_result",
          "data": {
            "text/plain": [
              "({'mean_fit_time': array([ 1.88638825,  3.72103686,  5.49338136,  7.2540504 ,  8.9314703 ,\n",
              "         10.51915779, 12.10499415]),\n",
              "  'mean_score_time': array([0.01765242, 0.03697934, 0.05844502, 0.07896833, 0.10218062,\n",
              "         0.12732573, 0.15323586]),\n",
              "  'mean_test_score': array([0.8974271 , 0.90383076, 0.90474557, 0.90360206, 0.90531732,\n",
              "         0.90440252, 0.90417381]),\n",
              "  'param_n_estimators': masked_array(data=[50, 100, 150, 200, 250, 300, 350],\n",
              "               mask=[False, False, False, False, False, False, False],\n",
              "         fill_value='?',\n",
              "              dtype=object),\n",
              "  'params': [{'n_estimators': 50},\n",
              "   {'n_estimators': 100},\n",
              "   {'n_estimators': 150},\n",
              "   {'n_estimators': 200},\n",
              "   {'n_estimators': 250},\n",
              "   {'n_estimators': 300},\n",
              "   {'n_estimators': 350}],\n",
              "  'rank_test_score': array([7, 5, 2, 6, 1, 3, 4], dtype=int32),\n",
              "  'split0_test_score': array([0.89422527, 0.89651229, 0.89994282, 0.89708405, 0.89879931,\n",
              "         0.89822756, 0.8976558 ]),\n",
              "  'split1_test_score': array([0.91080617, 0.91538022, 0.91023442, 0.91252144, 0.91423671,\n",
              "         0.91252144, 0.91252144]),\n",
              "  'split2_test_score': array([0.89365352, 0.90108634, 0.90108634, 0.90051458, 0.90165809,\n",
              "         0.90337336, 0.90222985]),\n",
              "  'split3_test_score': array([0.89708405, 0.90737564, 0.90909091, 0.90623213, 0.9079474 ,\n",
              "         0.90737564, 0.90737564]),\n",
              "  'split4_test_score': array([0.8913665 , 0.89879931, 0.90337336, 0.90165809, 0.90394511,\n",
              "         0.90051458, 0.90108634]),\n",
              "  'std_fit_time': array([0.01874788, 0.01031934, 0.01030269, 0.02748133, 0.06046746,\n",
              "         0.04539702, 0.02500905]),\n",
              "  'std_score_time': array([0.00034146, 0.00040102, 0.00097659, 0.00042367, 0.0014129 ,\n",
              "         0.00326188, 0.00144521]),\n",
              "  'std_test_score': array([0.00693311, 0.00681709, 0.00417968, 0.0053342 , 0.00537085,\n",
              "         0.00508059, 0.00521019])},\n",
              " {'n_estimators': 250},\n",
              " 0.9053173241852486)"
            ]
          },
          "metadata": {
            "tags": []
          },
          "execution_count": 169
        }
      ]
    },
    {
      "cell_type": "code",
      "metadata": {
        "colab": {
          "base_uri": "https://localhost:8080/"
        },
        "id": "mJQfIzpqu0aY",
        "outputId": "952ce2e8-3e5c-4800-c846-f021ef41efc8"
      },
      "source": [
        "params = {\n",
        " 'learning_rate':[1e-5, 1e-2, 0.1, 1, 100]\n",
        "}\n",
        "gs = GridSearchCV(estimator = XGBClassifier(learning_rate =0.1, gamma=0, subsample=0.8, colsample_bytree=0.8,max_depth=8,\n",
        " min_child_weight=1, objective= 'multi:softmax', num_class = 3, n_estimators=250, reg_lambda = 1), \n",
        " param_grid = params, cv=5)\n",
        "gs.fit(X_train,y_train.values.ravel())\n",
        "gs.cv_results_, gs.best_params_, gs.best_score_"
      ],
      "execution_count": 170,
      "outputs": [
        {
          "output_type": "execute_result",
          "data": {
            "text/plain": [
              "({'mean_fit_time': array([8.96755161, 9.15745053, 8.87843204, 5.82790909, 1.51887436]),\n",
              "  'mean_score_time': array([0.07925434, 0.08226342, 0.10059557, 0.06925611, 0.00841036]),\n",
              "  'mean_test_score': array([0.88393368, 0.89445397, 0.90531732, 0.89605489, 0.32246998]),\n",
              "  'param_learning_rate': masked_array(data=[1e-05, 0.01, 0.1, 1, 100],\n",
              "               mask=[False, False, False, False, False],\n",
              "         fill_value='?',\n",
              "              dtype=object),\n",
              "  'params': [{'learning_rate': 1e-05},\n",
              "   {'learning_rate': 0.01},\n",
              "   {'learning_rate': 0.1},\n",
              "   {'learning_rate': 1},\n",
              "   {'learning_rate': 100}],\n",
              "  'rank_test_score': array([4, 3, 1, 2, 5], dtype=int32),\n",
              "  'split0_test_score': array([0.87993139, 0.89193825, 0.89879931, 0.89365352, 0.30188679]),\n",
              "  'split1_test_score': array([0.89365352, 0.90566038, 0.91423671, 0.90051458, 0.28016009]),\n",
              "  'split2_test_score': array([0.87878788, 0.89079474, 0.90165809, 0.90165809, 0.27958834]),\n",
              "  'split3_test_score': array([0.88736421, 0.89651229, 0.9079474 , 0.89479703, 0.33390509]),\n",
              "  'split4_test_score': array([0.87993139, 0.88736421, 0.90394511, 0.88965123, 0.41680961]),\n",
              "  'std_fit_time': array([0.06231773, 0.07420928, 0.026175  , 0.04249006, 0.01139017]),\n",
              "  'std_score_time': array([0.001164  , 0.00102485, 0.00082602, 0.00064438, 0.00013295]),\n",
              "  'std_test_score': array([0.00574038, 0.00632145, 0.00537085, 0.00446409, 0.05115341])},\n",
              " {'learning_rate': 0.1},\n",
              " 0.9053173241852486)"
            ]
          },
          "metadata": {
            "tags": []
          },
          "execution_count": 170
        }
      ]
    },
    {
      "cell_type": "code",
      "metadata": {
        "id": "lKZZSmCUyVHt"
      },
      "source": [
        "gpredict = gs.predict(X_val)"
      ],
      "execution_count": 171,
      "outputs": []
    },
    {
      "cell_type": "code",
      "metadata": {
        "id": "YCtdj35qycO9"
      },
      "source": [
        "from sklearn.metrics import confusion_matrix\n",
        "from sklearn.metrics import classification_report\n",
        "gcm = confusion_matrix(y_val, gpredict)"
      ],
      "execution_count": 172,
      "outputs": []
    },
    {
      "cell_type": "code",
      "metadata": {
        "colab": {
          "base_uri": "https://localhost:8080/"
        },
        "id": "ZAM6LGmqykVt",
        "outputId": "2b5785a5-8318-4f43-94b1-93931af5ca60"
      },
      "source": [
        "print(gcm)"
      ],
      "execution_count": 173,
      "outputs": [
        {
          "output_type": "stream",
          "text": [
            "[[575 116   0]\n",
            " [ 90 481   4]\n",
            " [  2   2 917]]\n"
          ],
          "name": "stdout"
        }
      ]
    },
    {
      "cell_type": "code",
      "metadata": {
        "colab": {
          "base_uri": "https://localhost:8080/",
          "height": 296
        },
        "id": "rQpD3Clquka5",
        "outputId": "af1cc4fa-8c24-4501-db29-833e1298e35d"
      },
      "source": [
        "plot_confusion_matrix(gs, X_val, y_val, values_format = '', display_labels=['candidate', 'confirmed', 'false positive'])"
      ],
      "execution_count": 179,
      "outputs": [
        {
          "output_type": "execute_result",
          "data": {
            "text/plain": [
              "<sklearn.metrics._plot.confusion_matrix.ConfusionMatrixDisplay at 0x7ff60e929eb8>"
            ]
          },
          "metadata": {
            "tags": []
          },
          "execution_count": 179
        },
        {
          "output_type": "display_data",
          "data": {
            "image/png": "[encoded data removed]",
            "text/plain": [
              "<Figure size 432x288 with 2 Axes>"
            ]
          },
          "metadata": {
            "tags": [],
            "needs_background": "light"
          }
        }
      ]
    },
    {
      "cell_type": "code",
      "metadata": {
        "colab": {
          "base_uri": "https://localhost:8080/"
        },
        "id": "4FVwHEvReRHf",
        "outputId": "891868ac-6bd0-4819-e05d-eabf8787ff30"
      },
      "source": [
        "print(classification_report(y_val, gpredict, digits=3))"
      ],
      "execution_count": 180,
      "outputs": [
        {
          "output_type": "stream",
          "text": [
            "              precision    recall  f1-score   support\n",
            "\n",
            "           0      0.862     0.832     0.847       691\n",
            "           1      0.803     0.837     0.819       575\n",
            "           2      0.996     0.996     0.996       921\n",
            "\n",
            "    accuracy                          0.902      2187\n",
            "   macro avg      0.887     0.888     0.887      2187\n",
            "weighted avg      0.903     0.902     0.902      2187\n",
            "\n"
          ],
          "name": "stdout"
        }
      ]
    },
    {
      "cell_type": "code",
      "metadata": {
        "colab": {
          "base_uri": "https://localhost:8080/"
        },
        "id": "IhsE3oDnepGG",
        "outputId": "2816c611-d8a4-4259-b904-6cd9b5476822"
      },
      "source": [
        "y_pred_final = gs.predict(X_test)\n",
        "\n",
        "cm = confusion_matrix(y_test, y_pred_final)\n",
        "print(cm)"
      ],
      "execution_count": 181,
      "outputs": [
        {
          "output_type": "stream",
          "text": [
            "[[297  53   0]\n",
            " [ 56 282   0]\n",
            " [  1   2 524]]\n"
          ],
          "name": "stdout"
        }
      ]
    },
    {
      "cell_type": "code",
      "metadata": {
        "colab": {
          "base_uri": "https://localhost:8080/",
          "height": 296
        },
        "id": "T0Nl7eDwEi6r",
        "outputId": "2b617c0f-1397-47a9-fa57-29064113b656"
      },
      "source": [
        "plot_confusion_matrix(gs, X_test, y_test, values_format = '', display_labels=['candidate', 'confirmed', 'false positive'])"
      ],
      "execution_count": 183,
      "outputs": [
        {
          "output_type": "execute_result",
          "data": {
            "text/plain": [
              "<sklearn.metrics._plot.confusion_matrix.ConfusionMatrixDisplay at 0x7ff60e7c9198>"
            ]
          },
          "metadata": {
            "tags": []
          },
          "execution_count": 183
        },
        {
          "output_type": "display_data",
          "data": {
            "image/png": "[encoded data removed]",
            "text/plain": [
              "<Figure size 432x288 with 2 Axes>"
            ]
          },
          "metadata": {
            "tags": [],
            "needs_background": "light"
          }
        }
      ]
    },
    {
      "cell_type": "code",
      "metadata": {
        "colab": {
          "base_uri": "https://localhost:8080/"
        },
        "id": "m_xSW3iAeyVp",
        "outputId": "c93c1f6e-eab4-4c0e-c32f-3dc0355f9cee"
      },
      "source": [
        "print(classification_report(y_test, y_pred_final, digits=3))"
      ],
      "execution_count": 184,
      "outputs": [
        {
          "output_type": "stream",
          "text": [
            "              precision    recall  f1-score   support\n",
            "\n",
            "           0      0.839     0.849     0.844       350\n",
            "           1      0.837     0.834     0.836       338\n",
            "           2      1.000     0.994     0.997       527\n",
            "\n",
            "    accuracy                          0.908      1215\n",
            "   macro avg      0.892     0.892     0.892      1215\n",
            "weighted avg      0.908     0.908     0.908      1215\n",
            "\n"
          ],
          "name": "stdout"
        }
      ]
    },
    {
      "cell_type": "code",
      "metadata": {
        "colab": {
          "base_uri": "https://localhost:8080/",
          "height": 1000
        },
        "id": "Vd16KKJqo8AJ",
        "outputId": "2a451733-6740-41b9-bc61-f5e234c7a869"
      },
      "source": [
        "# plot train vs test\n",
        "\n",
        "from xgboost import XGBClassifier\n",
        "from sklearn.model_selection import train_test_split\n",
        "from sklearn.metrics import accuracy_score\n",
        "from matplotlib import pyplot\n",
        "\n",
        "clf = XGBClassifier(learning_rate =0.1, gamma=0, subsample=0.8, colsample_bytree=0.8,max_depth=8,\n",
        " min_child_weight=1, objective= 'multi:softmax', num_class = 3, n_estimators=250, reg_lambda = 1)\n",
        "\n",
        "data = [(X_train, y_train), (X_test, y_test)]\n",
        "\n",
        "clf.fit(X_train, y_train, eval_metric=[\"merror\"], eval_set=data, verbose=True)\n",
        "\n",
        "y_pred = clf.predict(X_test)\n",
        "preds = [round(value) for value in y_pred]\n",
        "\n",
        "accuracy = accuracy_score(y_test, preds)\n",
        "print(\"Accuracy: %.2f%%\" % (accuracy * 100.0))\n",
        "\n",
        "results = clf.evals_result()\n",
        "\n",
        "epochs = len(results['validation_0']['merror'])\n",
        "x_axis = range(0, epochs)\n",
        "\n",
        "fig, ax = pyplot.subplots()\n",
        "ax.plot(x_axis, results['validation_0']['merror'], label='Train')\n",
        "ax.plot(x_axis, results['validation_1']['merror'], label='Test')\n",
        "ax.legend()\n",
        "pyplot.ylabel('merror')\n",
        "pyplot.xlabel('epochs')\n",
        "pyplot.title('XGBoost merror')\n",
        "pyplot.show()"
      ],
      "execution_count": 185,
      "outputs": [
        {
          "output_type": "stream",
          "text": [
            "[0]\tvalidation_0-merror:0.104517\tvalidation_1-merror:0.125103\n",
            "[1]\tvalidation_0-merror:0.094454\tvalidation_1-merror:0.121811\n",
            "[2]\tvalidation_0-merror:0.094454\tvalidation_1-merror:0.116872\n"
          ],
          "name": "stdout"
        },
        {
          "output_type": "stream",
          "text": [
            "/usr/local/lib/python3.6/dist-packages/sklearn/preprocessing/_label.py:235: DataConversionWarning: A column-vector y was passed when a 1d array was expected. Please change the shape of y to (n_samples, ), for example using ravel().\n",
            "  y = column_or_1d(y, warn=True)\n",
            "/usr/local/lib/python3.6/dist-packages/sklearn/preprocessing/_label.py:268: DataConversionWarning: A column-vector y was passed when a 1d array was expected. Please change the shape of y to (n_samples, ), for example using ravel().\n",
            "  y = column_or_1d(y, warn=True)\n"
          ],
          "name": "stderr"
        },
        {
          "output_type": "stream",
          "text": [
            "[3]\tvalidation_0-merror:0.092739\tvalidation_1-merror:0.116049\n",
            "[4]\tvalidation_0-merror:0.092624\tvalidation_1-merror:0.115226\n",
            "[5]\tvalidation_0-merror:0.094568\tvalidation_1-merror:0.118519\n",
            "[6]\tvalidation_0-merror:0.087364\tvalidation_1-merror:0.114403\n",
            "[7]\tvalidation_0-merror:0.08462\tvalidation_1-merror:0.118519\n",
            "[8]\tvalidation_0-merror:0.084048\tvalidation_1-merror:0.115226\n",
            "[9]\tvalidation_0-merror:0.082561\tvalidation_1-merror:0.11358\n",
            "[10]\tvalidation_0-merror:0.082104\tvalidation_1-merror:0.117695\n",
            "[11]\tvalidation_0-merror:0.080046\tvalidation_1-merror:0.117695\n",
            "[12]\tvalidation_0-merror:0.07833\tvalidation_1-merror:0.115226\n",
            "[13]\tvalidation_0-merror:0.077873\tvalidation_1-merror:0.116872\n",
            "[14]\tvalidation_0-merror:0.078102\tvalidation_1-merror:0.115226\n",
            "[15]\tvalidation_0-merror:0.076272\tvalidation_1-merror:0.114403\n",
            "[16]\tvalidation_0-merror:0.076043\tvalidation_1-merror:0.112757\n",
            "[17]\tvalidation_0-merror:0.074443\tvalidation_1-merror:0.11358\n",
            "[18]\tvalidation_0-merror:0.073642\tvalidation_1-merror:0.111934\n",
            "[19]\tvalidation_0-merror:0.072499\tvalidation_1-merror:0.109465\n",
            "[20]\tvalidation_0-merror:0.07227\tvalidation_1-merror:0.109465\n",
            "[21]\tvalidation_0-merror:0.071355\tvalidation_1-merror:0.109465\n",
            "[22]\tvalidation_0-merror:0.070212\tvalidation_1-merror:0.108642\n",
            "[23]\tvalidation_0-merror:0.068839\tvalidation_1-merror:0.10535\n",
            "[24]\tvalidation_0-merror:0.068382\tvalidation_1-merror:0.106996\n",
            "[25]\tvalidation_0-merror:0.06781\tvalidation_1-merror:0.106996\n",
            "[26]\tvalidation_0-merror:0.06781\tvalidation_1-merror:0.106173\n",
            "[27]\tvalidation_0-merror:0.066438\tvalidation_1-merror:0.106996\n",
            "[28]\tvalidation_0-merror:0.065638\tvalidation_1-merror:0.10535\n",
            "[29]\tvalidation_0-merror:0.064494\tvalidation_1-merror:0.106996\n",
            "[30]\tvalidation_0-merror:0.063465\tvalidation_1-merror:0.104527\n",
            "[31]\tvalidation_0-merror:0.061864\tvalidation_1-merror:0.103704\n",
            "[32]\tvalidation_0-merror:0.061178\tvalidation_1-merror:0.102881\n",
            "[33]\tvalidation_0-merror:0.060606\tvalidation_1-merror:0.103704\n",
            "[34]\tvalidation_0-merror:0.059577\tvalidation_1-merror:0.102058\n",
            "[35]\tvalidation_0-merror:0.058891\tvalidation_1-merror:0.102058\n",
            "[36]\tvalidation_0-merror:0.057633\tvalidation_1-merror:0.100412\n",
            "[37]\tvalidation_0-merror:0.057519\tvalidation_1-merror:0.100412\n",
            "[38]\tvalidation_0-merror:0.056832\tvalidation_1-merror:0.099588\n",
            "[39]\tvalidation_0-merror:0.056489\tvalidation_1-merror:0.099588\n",
            "[40]\tvalidation_0-merror:0.055689\tvalidation_1-merror:0.099588\n",
            "[41]\tvalidation_0-merror:0.054889\tvalidation_1-merror:0.098765\n",
            "[42]\tvalidation_0-merror:0.054545\tvalidation_1-merror:0.100412\n",
            "[43]\tvalidation_0-merror:0.053974\tvalidation_1-merror:0.097942\n",
            "[44]\tvalidation_0-merror:0.054088\tvalidation_1-merror:0.097942\n",
            "[45]\tvalidation_0-merror:0.052716\tvalidation_1-merror:0.099588\n",
            "[46]\tvalidation_0-merror:0.051344\tvalidation_1-merror:0.098765\n",
            "[47]\tvalidation_0-merror:0.050658\tvalidation_1-merror:0.098765\n",
            "[48]\tvalidation_0-merror:0.049514\tvalidation_1-merror:0.098765\n",
            "[49]\tvalidation_0-merror:0.048828\tvalidation_1-merror:0.097119\n",
            "[50]\tvalidation_0-merror:0.04837\tvalidation_1-merror:0.098765\n",
            "[51]\tvalidation_0-merror:0.04757\tvalidation_1-merror:0.097942\n",
            "[52]\tvalidation_0-merror:0.047113\tvalidation_1-merror:0.097942\n",
            "[53]\tvalidation_0-merror:0.046541\tvalidation_1-merror:0.097942\n",
            "[54]\tvalidation_0-merror:0.046541\tvalidation_1-merror:0.098765\n",
            "[55]\tvalidation_0-merror:0.045512\tvalidation_1-merror:0.098765\n",
            "[56]\tvalidation_0-merror:0.044597\tvalidation_1-merror:0.099588\n",
            "[57]\tvalidation_0-merror:0.044368\tvalidation_1-merror:0.098765\n",
            "[58]\tvalidation_0-merror:0.044254\tvalidation_1-merror:0.097942\n",
            "[59]\tvalidation_0-merror:0.043453\tvalidation_1-merror:0.098765\n",
            "[60]\tvalidation_0-merror:0.042767\tvalidation_1-merror:0.097942\n",
            "[61]\tvalidation_0-merror:0.040823\tvalidation_1-merror:0.098765\n",
            "[62]\tvalidation_0-merror:0.040595\tvalidation_1-merror:0.098765\n",
            "[63]\tvalidation_0-merror:0.040023\tvalidation_1-merror:0.097942\n",
            "[64]\tvalidation_0-merror:0.038651\tvalidation_1-merror:0.097942\n",
            "[65]\tvalidation_0-merror:0.038765\tvalidation_1-merror:0.098765\n",
            "[66]\tvalidation_0-merror:0.037393\tvalidation_1-merror:0.097942\n",
            "[67]\tvalidation_0-merror:0.036592\tvalidation_1-merror:0.098765\n",
            "[68]\tvalidation_0-merror:0.036592\tvalidation_1-merror:0.098765\n",
            "[69]\tvalidation_0-merror:0.036249\tvalidation_1-merror:0.099588\n",
            "[70]\tvalidation_0-merror:0.035792\tvalidation_1-merror:0.099588\n",
            "[71]\tvalidation_0-merror:0.034991\tvalidation_1-merror:0.099588\n",
            "[72]\tvalidation_0-merror:0.034305\tvalidation_1-merror:0.097942\n",
            "[73]\tvalidation_0-merror:0.034077\tvalidation_1-merror:0.097119\n",
            "[74]\tvalidation_0-merror:0.033276\tvalidation_1-merror:0.097942\n",
            "[75]\tvalidation_0-merror:0.032018\tvalidation_1-merror:0.097119\n",
            "[76]\tvalidation_0-merror:0.031447\tvalidation_1-merror:0.097942\n",
            "[77]\tvalidation_0-merror:0.030875\tvalidation_1-merror:0.097942\n",
            "[78]\tvalidation_0-merror:0.030303\tvalidation_1-merror:0.097942\n",
            "[79]\tvalidation_0-merror:0.029731\tvalidation_1-merror:0.097942\n",
            "[80]\tvalidation_0-merror:0.029045\tvalidation_1-merror:0.097942\n",
            "[81]\tvalidation_0-merror:0.028359\tvalidation_1-merror:0.097942\n",
            "[82]\tvalidation_0-merror:0.027216\tvalidation_1-merror:0.097942\n",
            "[83]\tvalidation_0-merror:0.026644\tvalidation_1-merror:0.097942\n",
            "[84]\tvalidation_0-merror:0.025958\tvalidation_1-merror:0.097119\n",
            "[85]\tvalidation_0-merror:0.025386\tvalidation_1-merror:0.099588\n",
            "[86]\tvalidation_0-merror:0.024585\tvalidation_1-merror:0.097942\n",
            "[87]\tvalidation_0-merror:0.024014\tvalidation_1-merror:0.097942\n",
            "[88]\tvalidation_0-merror:0.023442\tvalidation_1-merror:0.097942\n",
            "[89]\tvalidation_0-merror:0.023213\tvalidation_1-merror:0.097942\n",
            "[90]\tvalidation_0-merror:0.02287\tvalidation_1-merror:0.097119\n",
            "[91]\tvalidation_0-merror:0.022298\tvalidation_1-merror:0.097119\n",
            "[92]\tvalidation_0-merror:0.021727\tvalidation_1-merror:0.097942\n",
            "[93]\tvalidation_0-merror:0.021269\tvalidation_1-merror:0.097942\n",
            "[94]\tvalidation_0-merror:0.020812\tvalidation_1-merror:0.096296\n",
            "[95]\tvalidation_0-merror:0.020812\tvalidation_1-merror:0.095473\n",
            "[96]\tvalidation_0-merror:0.020812\tvalidation_1-merror:0.096296\n",
            "[97]\tvalidation_0-merror:0.020583\tvalidation_1-merror:0.095473\n",
            "[98]\tvalidation_0-merror:0.020126\tvalidation_1-merror:0.096296\n",
            "[99]\tvalidation_0-merror:0.019668\tvalidation_1-merror:0.09465\n",
            "[100]\tvalidation_0-merror:0.019097\tvalidation_1-merror:0.09465\n",
            "[101]\tvalidation_0-merror:0.019211\tvalidation_1-merror:0.095473\n",
            "[102]\tvalidation_0-merror:0.019211\tvalidation_1-merror:0.095473\n",
            "[103]\tvalidation_0-merror:0.018754\tvalidation_1-merror:0.093827\n",
            "[104]\tvalidation_0-merror:0.018868\tvalidation_1-merror:0.095473\n",
            "[105]\tvalidation_0-merror:0.018411\tvalidation_1-merror:0.096296\n",
            "[106]\tvalidation_0-merror:0.017839\tvalidation_1-merror:0.097119\n",
            "[107]\tvalidation_0-merror:0.01761\tvalidation_1-merror:0.097942\n",
            "[108]\tvalidation_0-merror:0.016924\tvalidation_1-merror:0.097942\n",
            "[109]\tvalidation_0-merror:0.015895\tvalidation_1-merror:0.096296\n",
            "[110]\tvalidation_0-merror:0.015437\tvalidation_1-merror:0.096296\n",
            "[111]\tvalidation_0-merror:0.01498\tvalidation_1-merror:0.096296\n",
            "[112]\tvalidation_0-merror:0.014637\tvalidation_1-merror:0.095473\n",
            "[113]\tvalidation_0-merror:0.01418\tvalidation_1-merror:0.095473\n",
            "[114]\tvalidation_0-merror:0.013836\tvalidation_1-merror:0.09465\n",
            "[115]\tvalidation_0-merror:0.013608\tvalidation_1-merror:0.09465\n",
            "[116]\tvalidation_0-merror:0.01315\tvalidation_1-merror:0.093827\n",
            "[117]\tvalidation_0-merror:0.012579\tvalidation_1-merror:0.093827\n",
            "[118]\tvalidation_0-merror:0.012579\tvalidation_1-merror:0.095473\n",
            "[119]\tvalidation_0-merror:0.011549\tvalidation_1-merror:0.095473\n",
            "[120]\tvalidation_0-merror:0.011435\tvalidation_1-merror:0.093827\n",
            "[121]\tvalidation_0-merror:0.011321\tvalidation_1-merror:0.093004\n",
            "[122]\tvalidation_0-merror:0.010749\tvalidation_1-merror:0.093004\n",
            "[123]\tvalidation_0-merror:0.01052\tvalidation_1-merror:0.093004\n",
            "[124]\tvalidation_0-merror:0.010063\tvalidation_1-merror:0.093827\n",
            "[125]\tvalidation_0-merror:0.009491\tvalidation_1-merror:0.095473\n",
            "[126]\tvalidation_0-merror:0.009034\tvalidation_1-merror:0.09465\n",
            "[127]\tvalidation_0-merror:0.008805\tvalidation_1-merror:0.093004\n",
            "[128]\tvalidation_0-merror:0.009034\tvalidation_1-merror:0.093827\n",
            "[129]\tvalidation_0-merror:0.008233\tvalidation_1-merror:0.093827\n",
            "[130]\tvalidation_0-merror:0.008233\tvalidation_1-merror:0.093827\n",
            "[131]\tvalidation_0-merror:0.00789\tvalidation_1-merror:0.093827\n",
            "[132]\tvalidation_0-merror:0.007776\tvalidation_1-merror:0.093827\n",
            "[133]\tvalidation_0-merror:0.007433\tvalidation_1-merror:0.093004\n",
            "[134]\tvalidation_0-merror:0.00709\tvalidation_1-merror:0.093827\n",
            "[135]\tvalidation_0-merror:0.006975\tvalidation_1-merror:0.093827\n",
            "[136]\tvalidation_0-merror:0.00709\tvalidation_1-merror:0.093827\n",
            "[137]\tvalidation_0-merror:0.006289\tvalidation_1-merror:0.093827\n",
            "[138]\tvalidation_0-merror:0.005603\tvalidation_1-merror:0.093004\n",
            "[139]\tvalidation_0-merror:0.005146\tvalidation_1-merror:0.093004\n",
            "[140]\tvalidation_0-merror:0.005031\tvalidation_1-merror:0.093004\n",
            "[141]\tvalidation_0-merror:0.005031\tvalidation_1-merror:0.093004\n",
            "[142]\tvalidation_0-merror:0.005031\tvalidation_1-merror:0.092181\n",
            "[143]\tvalidation_0-merror:0.004688\tvalidation_1-merror:0.092181\n",
            "[144]\tvalidation_0-merror:0.004688\tvalidation_1-merror:0.093004\n",
            "[145]\tvalidation_0-merror:0.00446\tvalidation_1-merror:0.093827\n",
            "[146]\tvalidation_0-merror:0.004231\tvalidation_1-merror:0.093827\n",
            "[147]\tvalidation_0-merror:0.004002\tvalidation_1-merror:0.093827\n",
            "[148]\tvalidation_0-merror:0.004002\tvalidation_1-merror:0.093004\n",
            "[149]\tvalidation_0-merror:0.003888\tvalidation_1-merror:0.093827\n",
            "[150]\tvalidation_0-merror:0.003774\tvalidation_1-merror:0.093004\n",
            "[151]\tvalidation_0-merror:0.003545\tvalidation_1-merror:0.093004\n",
            "[152]\tvalidation_0-merror:0.003431\tvalidation_1-merror:0.092181\n",
            "[153]\tvalidation_0-merror:0.003316\tvalidation_1-merror:0.093827\n",
            "[154]\tvalidation_0-merror:0.003316\tvalidation_1-merror:0.093827\n",
            "[155]\tvalidation_0-merror:0.003202\tvalidation_1-merror:0.093827\n",
            "[156]\tvalidation_0-merror:0.003087\tvalidation_1-merror:0.093827\n",
            "[157]\tvalidation_0-merror:0.002973\tvalidation_1-merror:0.093004\n",
            "[158]\tvalidation_0-merror:0.002744\tvalidation_1-merror:0.093004\n",
            "[159]\tvalidation_0-merror:0.00263\tvalidation_1-merror:0.093827\n",
            "[160]\tvalidation_0-merror:0.002058\tvalidation_1-merror:0.093004\n",
            "[161]\tvalidation_0-merror:0.002173\tvalidation_1-merror:0.093004\n",
            "[162]\tvalidation_0-merror:0.002058\tvalidation_1-merror:0.093827\n",
            "[163]\tvalidation_0-merror:0.002173\tvalidation_1-merror:0.093827\n",
            "[164]\tvalidation_0-merror:0.001944\tvalidation_1-merror:0.09465\n",
            "[165]\tvalidation_0-merror:0.00183\tvalidation_1-merror:0.093827\n",
            "[166]\tvalidation_0-merror:0.00183\tvalidation_1-merror:0.095473\n",
            "[167]\tvalidation_0-merror:0.001715\tvalidation_1-merror:0.095473\n",
            "[168]\tvalidation_0-merror:0.001601\tvalidation_1-merror:0.09465\n",
            "[169]\tvalidation_0-merror:0.001601\tvalidation_1-merror:0.093827\n",
            "[170]\tvalidation_0-merror:0.001487\tvalidation_1-merror:0.092181\n",
            "[171]\tvalidation_0-merror:0.001372\tvalidation_1-merror:0.090535\n",
            "[172]\tvalidation_0-merror:0.001372\tvalidation_1-merror:0.090535\n",
            "[173]\tvalidation_0-merror:0.001258\tvalidation_1-merror:0.091358\n",
            "[174]\tvalidation_0-merror:0.001144\tvalidation_1-merror:0.091358\n",
            "[175]\tvalidation_0-merror:0.001372\tvalidation_1-merror:0.089712\n",
            "[176]\tvalidation_0-merror:0.001144\tvalidation_1-merror:0.090535\n",
            "[177]\tvalidation_0-merror:0.001144\tvalidation_1-merror:0.091358\n",
            "[178]\tvalidation_0-merror:0.001144\tvalidation_1-merror:0.090535\n",
            "[179]\tvalidation_0-merror:0.001144\tvalidation_1-merror:0.091358\n",
            "[180]\tvalidation_0-merror:0.000915\tvalidation_1-merror:0.089712\n",
            "[181]\tvalidation_0-merror:0.000686\tvalidation_1-merror:0.090535\n",
            "[182]\tvalidation_0-merror:0.000686\tvalidation_1-merror:0.089712\n",
            "[183]\tvalidation_0-merror:0.000686\tvalidation_1-merror:0.089712\n",
            "[184]\tvalidation_0-merror:0.000686\tvalidation_1-merror:0.089712\n",
            "[185]\tvalidation_0-merror:0.000572\tvalidation_1-merror:0.089712\n",
            "[186]\tvalidation_0-merror:0.000457\tvalidation_1-merror:0.090535\n",
            "[187]\tvalidation_0-merror:0.000457\tvalidation_1-merror:0.088889\n",
            "[188]\tvalidation_0-merror:0.000457\tvalidation_1-merror:0.090535\n",
            "[189]\tvalidation_0-merror:0.000343\tvalidation_1-merror:0.088889\n",
            "[190]\tvalidation_0-merror:0.000343\tvalidation_1-merror:0.090535\n",
            "[191]\tvalidation_0-merror:0.000343\tvalidation_1-merror:0.090535\n",
            "[192]\tvalidation_0-merror:0.000343\tvalidation_1-merror:0.090535\n",
            "[193]\tvalidation_0-merror:0.000343\tvalidation_1-merror:0.089712\n",
            "[194]\tvalidation_0-merror:0.000343\tvalidation_1-merror:0.090535\n",
            "[195]\tvalidation_0-merror:0.000343\tvalidation_1-merror:0.090535\n",
            "[196]\tvalidation_0-merror:0.000343\tvalidation_1-merror:0.091358\n",
            "[197]\tvalidation_0-merror:0.000229\tvalidation_1-merror:0.090535\n",
            "[198]\tvalidation_0-merror:0.000229\tvalidation_1-merror:0.090535\n",
            "[199]\tvalidation_0-merror:0.000229\tvalidation_1-merror:0.091358\n",
            "[200]\tvalidation_0-merror:0.000229\tvalidation_1-merror:0.091358\n",
            "[201]\tvalidation_0-merror:0.000229\tvalidation_1-merror:0.091358\n",
            "[202]\tvalidation_0-merror:0.000229\tvalidation_1-merror:0.092181\n",
            "[203]\tvalidation_0-merror:0.000229\tvalidation_1-merror:0.091358\n",
            "[204]\tvalidation_0-merror:0.000229\tvalidation_1-merror:0.091358\n",
            "[205]\tvalidation_0-merror:0.000229\tvalidation_1-merror:0.091358\n",
            "[206]\tvalidation_0-merror:0.000229\tvalidation_1-merror:0.091358\n",
            "[207]\tvalidation_0-merror:0.000229\tvalidation_1-merror:0.091358\n",
            "[208]\tvalidation_0-merror:0.000229\tvalidation_1-merror:0.091358\n",
            "[209]\tvalidation_0-merror:0.000229\tvalidation_1-merror:0.091358\n",
            "[210]\tvalidation_0-merror:0.000229\tvalidation_1-merror:0.091358\n",
            "[211]\tvalidation_0-merror:0.000229\tvalidation_1-merror:0.091358\n",
            "[212]\tvalidation_0-merror:0.000229\tvalidation_1-merror:0.091358\n",
            "[213]\tvalidation_0-merror:0.000229\tvalidation_1-merror:0.093004\n",
            "[214]\tvalidation_0-merror:0.000114\tvalidation_1-merror:0.093004\n",
            "[215]\tvalidation_0-merror:0.000114\tvalidation_1-merror:0.091358\n",
            "[216]\tvalidation_0-merror:0.000114\tvalidation_1-merror:0.092181\n",
            "[217]\tvalidation_0-merror:0.000114\tvalidation_1-merror:0.093004\n",
            "[218]\tvalidation_0-merror:0\tvalidation_1-merror:0.093004\n",
            "[219]\tvalidation_0-merror:0\tvalidation_1-merror:0.093004\n",
            "[220]\tvalidation_0-merror:0.000114\tvalidation_1-merror:0.093004\n",
            "[221]\tvalidation_0-merror:0.000114\tvalidation_1-merror:0.093827\n",
            "[222]\tvalidation_0-merror:0.000114\tvalidation_1-merror:0.093827\n",
            "[223]\tvalidation_0-merror:0.000114\tvalidation_1-merror:0.093827\n",
            "[224]\tvalidation_0-merror:0.000114\tvalidation_1-merror:0.093827\n",
            "[225]\tvalidation_0-merror:0\tvalidation_1-merror:0.093827\n",
            "[226]\tvalidation_0-merror:0\tvalidation_1-merror:0.093827\n",
            "[227]\tvalidation_0-merror:0\tvalidation_1-merror:0.09465\n",
            "[228]\tvalidation_0-merror:0\tvalidation_1-merror:0.093827\n",
            "[229]\tvalidation_0-merror:0\tvalidation_1-merror:0.093827\n",
            "[230]\tvalidation_0-merror:0\tvalidation_1-merror:0.093827\n",
            "[231]\tvalidation_0-merror:0\tvalidation_1-merror:0.09465\n",
            "[232]\tvalidation_0-merror:0\tvalidation_1-merror:0.093827\n",
            "[233]\tvalidation_0-merror:0\tvalidation_1-merror:0.092181\n",
            "[234]\tvalidation_0-merror:0\tvalidation_1-merror:0.092181\n",
            "[235]\tvalidation_0-merror:0\tvalidation_1-merror:0.092181\n",
            "[236]\tvalidation_0-merror:0\tvalidation_1-merror:0.092181\n",
            "[237]\tvalidation_0-merror:0\tvalidation_1-merror:0.092181\n",
            "[238]\tvalidation_0-merror:0\tvalidation_1-merror:0.092181\n",
            "[239]\tvalidation_0-merror:0\tvalidation_1-merror:0.092181\n",
            "[240]\tvalidation_0-merror:0\tvalidation_1-merror:0.093004\n",
            "[241]\tvalidation_0-merror:0\tvalidation_1-merror:0.093827\n",
            "[242]\tvalidation_0-merror:0\tvalidation_1-merror:0.093827\n",
            "[243]\tvalidation_0-merror:0\tvalidation_1-merror:0.093827\n",
            "[244]\tvalidation_0-merror:0\tvalidation_1-merror:0.091358\n",
            "[245]\tvalidation_0-merror:0\tvalidation_1-merror:0.093004\n",
            "[246]\tvalidation_0-merror:0\tvalidation_1-merror:0.093004\n",
            "[247]\tvalidation_0-merror:0\tvalidation_1-merror:0.092181\n",
            "[248]\tvalidation_0-merror:0\tvalidation_1-merror:0.092181\n",
            "[249]\tvalidation_0-merror:0\tvalidation_1-merror:0.092181\n",
            "Accuracy: 90.78%\n"
          ],
          "name": "stdout"
        },
        {
          "output_type": "display_data",
          "data": {
            "image/png": "[encoded data removed]",
            "text/plain": [
              "<Figure size 432x288 with 1 Axes>"
            ]
          },
          "metadata": {
            "tags": [],
            "needs_background": "light"
          }
        }
      ]
    },
    {
      "cell_type": "code",
      "metadata": {
        "id": "2fosPlUg4Yfy"
      },
      "source": [
        "X_train_drop = X_train.drop(columns=['FALSE POSITIVE'])\n",
        "X_val_drop = X_val.drop(columns=['FALSE POSITIVE'])"
      ],
      "execution_count": null,
      "outputs": []
    },
    {
      "cell_type": "code",
      "metadata": {
        "colab": {
          "base_uri": "https://localhost:8080/"
        },
        "id": "dBEu30TD43fq",
        "outputId": "847b1ad8-73c6-4f6b-eda1-f9e81fbce00f"
      },
      "source": [
        "clf1 = xgb.XGBClassifier(learning_rate =0.1, gamma=0, subsample=0.9, colsample_bytree=0.9,max_depth=8,\n",
        " min_child_weight=0, objective= 'multi:softmax', num_class = 3, n_estimators=150, reg_alpha = 0.001).fit(X_train_drop, y_train.values.ravel())\n",
        "\n",
        "\n",
        "clf1.fit(X_train_drop, y_train)\n",
        "\n",
        "y_pred_drop = clf1.predict(X_val_drop)"
      ],
      "execution_count": null,
      "outputs": [
        {
          "output_type": "stream",
          "text": [
            "/usr/local/lib/python3.6/dist-packages/sklearn/preprocessing/_label.py:235: DataConversionWarning: A column-vector y was passed when a 1d array was expected. Please change the shape of y to (n_samples, ), for example using ravel().\n",
            "  y = column_or_1d(y, warn=True)\n",
            "/usr/local/lib/python3.6/dist-packages/sklearn/preprocessing/_label.py:268: DataConversionWarning: A column-vector y was passed when a 1d array was expected. Please change the shape of y to (n_samples, ), for example using ravel().\n",
            "  y = column_or_1d(y, warn=True)\n"
          ],
          "name": "stderr"
        }
      ]
    },
    {
      "cell_type": "code",
      "metadata": {
        "colab": {
          "base_uri": "https://localhost:8080/"
        },
        "id": "05jff6eM5AWy",
        "outputId": "8d8ecad9-8ad5-49ad-ba3c-d5f942bbae86"
      },
      "source": [
        "cm_drop = confusion_matrix(y_val, y_pred_drop)\n",
        "print(cm_drop)"
      ],
      "execution_count": null,
      "outputs": [
        {
          "output_type": "stream",
          "text": [
            "[[408  95 136]\n",
            " [103 502  23]\n",
            " [116  41 763]]\n"
          ],
          "name": "stdout"
        }
      ]
    },
    {
      "cell_type": "code",
      "metadata": {
        "colab": {
          "base_uri": "https://localhost:8080/"
        },
        "id": "FkTI79jw5FLa",
        "outputId": "b50dccad-fc15-4f21-ccf9-97f7ca389950"
      },
      "source": [
        "print(classification_report(y_val, y_pred_drop, digits=3))"
      ],
      "execution_count": null,
      "outputs": [
        {
          "output_type": "stream",
          "text": [
            "              precision    recall  f1-score   support\n",
            "\n",
            "           0      0.651     0.638     0.645       639\n",
            "           1      0.787     0.799     0.793       628\n",
            "           2      0.828     0.829     0.828       920\n",
            "\n",
            "    accuracy                          0.765      2187\n",
            "   macro avg      0.755     0.756     0.755      2187\n",
            "weighted avg      0.764     0.765     0.765      2187\n",
            "\n"
          ],
          "name": "stdout"
        }
      ]
    },
    {
      "cell_type": "code",
      "metadata": {
        "colab": {
          "base_uri": "https://localhost:8080/",
          "height": 534
        },
        "id": "XJUtDHaxwUfU",
        "outputId": "b4068162-7dd8-4f2d-efbf-eed79780a021"
      },
      "source": [
        "#plot feature importance without False Positive\n",
        "\n",
        "from matplotlib import pyplot\n",
        "importance = clf1.feature_importances_\n",
        "\n",
        "for i,v in enumerate(importance):\n",
        "\tprint('Feature: %0d, Score: %.5f' % (i,v))\n",
        "\n",
        "pyplot.bar([x for x in range(len(importance))], importance)\n",
        "pyplot.xlabel('Features')\n",
        "pyplot.ylabel('Scores')\n",
        "pyplot.show()"
      ],
      "execution_count": null,
      "outputs": [
        {
          "output_type": "stream",
          "text": [
            "Feature: 0, Score: 0.03868\n",
            "Feature: 1, Score: 0.04067\n",
            "Feature: 2, Score: 0.09340\n",
            "Feature: 3, Score: 0.06688\n",
            "Feature: 4, Score: 0.05802\n",
            "Feature: 5, Score: 0.16095\n",
            "Feature: 6, Score: 0.09201\n",
            "Feature: 7, Score: 0.04662\n",
            "Feature: 8, Score: 0.04245\n",
            "Feature: 9, Score: 0.03462\n",
            "Feature: 10, Score: 0.04859\n",
            "Feature: 11, Score: 0.03003\n",
            "Feature: 12, Score: 0.03134\n",
            "Feature: 13, Score: 0.16242\n",
            "Feature: 14, Score: 0.05333\n"
          ],
          "name": "stdout"
        },
        {
          "output_type": "display_data",
          "data": {
            "image/png": "[encoded data removed]",
            "text/plain": [
              "<Figure size 432x288 with 1 Axes>"
            ]
          },
          "metadata": {
            "tags": [],
            "needs_background": "light"
          }
        }
      ]
    },
    {
      "cell_type": "code",
      "metadata": {
        "colab": {
          "base_uri": "https://localhost:8080/"
        },
        "id": "6yt0nsQVw2ce",
        "outputId": "765708a0-0e17-44ad-c43c-f7c883583f4a"
      },
      "source": [
        "X_train_drop.info()"
      ],
      "execution_count": null,
      "outputs": [
        {
          "output_type": "stream",
          "text": [
            "<class 'pandas.core.frame.DataFrame'>\n",
            "Int64Index: 8745 entries, 4414 to 1296\n",
            "Data columns (total 15 columns):\n",
            " #   Column          Non-Null Count  Dtype  \n",
            "---  ------          --------------  -----  \n",
            " 0   pl_orbper       8745 non-null   float64\n",
            " 1   pl_orbpererr1   8745 non-null   float64\n",
            " 2   pl_orbpererr2   8745 non-null   float64\n",
            " 3   pl_tranmid      8745 non-null   float64\n",
            " 4   pl_tranmiderr1  8745 non-null   float64\n",
            " 5   pl_tranmiderr2  8745 non-null   float64\n",
            " 6   pl_rade         8745 non-null   float64\n",
            " 7   pl_radeerr1     8745 non-null   float64\n",
            " 8   pl_radeerr2     8745 non-null   float64\n",
            " 9   st_rad          8745 non-null   float64\n",
            " 10  st_raderr1      8745 non-null   float64\n",
            " 11  st_raderr2      8745 non-null   float64\n",
            " 12  kep_mag         8745 non-null   float64\n",
            " 13  CONFIRMED       8745 non-null   uint8  \n",
            " 14  obj             8745 non-null   int64  \n",
            "dtypes: float64(13), int64(1), uint8(1)\n",
            "memory usage: 1.0 MB\n"
          ],
          "name": "stdout"
        }
      ]
    },
    {
      "cell_type": "code",
      "metadata": {
        "colab": {
          "base_uri": "https://localhost:8080/",
          "height": 630
        },
        "id": "qO0ZAG3Nxee-",
        "outputId": "65fdb0be-850b-4e0e-a062-933c0f47b84d"
      },
      "source": [
        "final_train.corr()"
      ],
      "execution_count": null,
      "outputs": [
        {
          "output_type": "execute_result",
          "data": {
            "text/html": [
              "<div>\n",
              "<style scoped>\n",
              "    .dataframe tbody tr th:only-of-type {\n",
              "        vertical-align: middle;\n",
              "    }\n",
              "\n",
              "    .dataframe tbody tr th {\n",
              "        vertical-align: top;\n",
              "    }\n",
              "\n",
              "    .dataframe thead th {\n",
              "        text-align: right;\n",
              "    }\n",
              "</style>\n",
              "<table border=\"1\" class=\"dataframe\">\n",
              "  <thead>\n",
              "    <tr style=\"text-align: right;\">\n",
              "      <th></th>\n",
              "      <th>disp</th>\n",
              "      <th>pl_orbper</th>\n",
              "      <th>pl_orbpererr1</th>\n",
              "      <th>pl_orbpererr2</th>\n",
              "      <th>pl_tranmid</th>\n",
              "      <th>pl_tranmiderr1</th>\n",
              "      <th>pl_tranmiderr2</th>\n",
              "      <th>pl_rade</th>\n",
              "      <th>pl_radeerr1</th>\n",
              "      <th>pl_radeerr2</th>\n",
              "      <th>st_rad</th>\n",
              "      <th>st_raderr1</th>\n",
              "      <th>st_raderr2</th>\n",
              "      <th>kep_mag</th>\n",
              "      <th>CONFIRMED</th>\n",
              "      <th>FALSE POSITIVE</th>\n",
              "      <th>obj</th>\n",
              "    </tr>\n",
              "  </thead>\n",
              "  <tbody>\n",
              "    <tr>\n",
              "      <th>disp</th>\n",
              "      <td>1.000000</td>\n",
              "      <td>-0.019486</td>\n",
              "      <td>-0.014809</td>\n",
              "      <td>0.014765</td>\n",
              "      <td>-0.268654</td>\n",
              "      <td>0.016652</td>\n",
              "      <td>-0.016520</td>\n",
              "      <td>0.015243</td>\n",
              "      <td>0.011446</td>\n",
              "      <td>-0.014023</td>\n",
              "      <td>0.043963</td>\n",
              "      <td>0.075005</td>\n",
              "      <td>-0.043685</td>\n",
              "      <td>0.033166</td>\n",
              "      <td>-0.026716</td>\n",
              "      <td>0.892792</td>\n",
              "      <td>-0.154824</td>\n",
              "    </tr>\n",
              "    <tr>\n",
              "      <th>pl_orbper</th>\n",
              "      <td>-0.019486</td>\n",
              "      <td>1.000000</td>\n",
              "      <td>0.541196</td>\n",
              "      <td>-0.541204</td>\n",
              "      <td>-0.001519</td>\n",
              "      <td>0.025303</td>\n",
              "      <td>-0.025318</td>\n",
              "      <td>0.004308</td>\n",
              "      <td>0.002827</td>\n",
              "      <td>-0.004145</td>\n",
              "      <td>-0.001241</td>\n",
              "      <td>-0.000903</td>\n",
              "      <td>0.001625</td>\n",
              "      <td>-0.020610</td>\n",
              "      <td>-0.006634</td>\n",
              "      <td>-0.006964</td>\n",
              "      <td>-0.007914</td>\n",
              "    </tr>\n",
              "    <tr>\n",
              "      <th>pl_orbpererr1</th>\n",
              "      <td>-0.014809</td>\n",
              "      <td>0.541196</td>\n",
              "      <td>1.000000</td>\n",
              "      <td>-0.999984</td>\n",
              "      <td>0.026636</td>\n",
              "      <td>-0.003687</td>\n",
              "      <td>0.003703</td>\n",
              "      <td>-0.000293</td>\n",
              "      <td>-0.000431</td>\n",
              "      <td>0.000268</td>\n",
              "      <td>-0.001602</td>\n",
              "      <td>-0.003190</td>\n",
              "      <td>0.001440</td>\n",
              "      <td>-0.033283</td>\n",
              "      <td>-0.001681</td>\n",
              "      <td>-0.009503</td>\n",
              "      <td>-0.003736</td>\n",
              "    </tr>\n",
              "    <tr>\n",
              "      <th>pl_orbpererr2</th>\n",
              "      <td>0.014765</td>\n",
              "      <td>-0.541204</td>\n",
              "      <td>-0.999984</td>\n",
              "      <td>1.000000</td>\n",
              "      <td>-0.026453</td>\n",
              "      <td>0.003648</td>\n",
              "      <td>-0.003661</td>\n",
              "      <td>0.000290</td>\n",
              "      <td>0.000428</td>\n",
              "      <td>-0.000266</td>\n",
              "      <td>0.001592</td>\n",
              "      <td>0.003173</td>\n",
              "      <td>-0.001432</td>\n",
              "      <td>0.033238</td>\n",
              "      <td>0.001669</td>\n",
              "      <td>0.009486</td>\n",
              "      <td>0.003732</td>\n",
              "    </tr>\n",
              "    <tr>\n",
              "      <th>pl_tranmid</th>\n",
              "      <td>-0.268654</td>\n",
              "      <td>-0.001519</td>\n",
              "      <td>0.026636</td>\n",
              "      <td>-0.026453</td>\n",
              "      <td>1.000000</td>\n",
              "      <td>-0.078702</td>\n",
              "      <td>0.079267</td>\n",
              "      <td>-0.011139</td>\n",
              "      <td>-0.012904</td>\n",
              "      <td>0.008912</td>\n",
              "      <td>-0.033326</td>\n",
              "      <td>-0.069531</td>\n",
              "      <td>0.031813</td>\n",
              "      <td>-0.282911</td>\n",
              "      <td>0.381335</td>\n",
              "      <td>-0.293679</td>\n",
              "      <td>-0.021531</td>\n",
              "    </tr>\n",
              "    <tr>\n",
              "      <th>pl_tranmiderr1</th>\n",
              "      <td>0.016652</td>\n",
              "      <td>0.025303</td>\n",
              "      <td>-0.003687</td>\n",
              "      <td>0.003648</td>\n",
              "      <td>-0.078702</td>\n",
              "      <td>1.000000</td>\n",
              "      <td>-0.999759</td>\n",
              "      <td>0.020071</td>\n",
              "      <td>0.016912</td>\n",
              "      <td>-0.018817</td>\n",
              "      <td>0.017337</td>\n",
              "      <td>0.053227</td>\n",
              "      <td>-0.020820</td>\n",
              "      <td>-0.030053</td>\n",
              "      <td>0.003952</td>\n",
              "      <td>0.089125</td>\n",
              "      <td>-0.017536</td>\n",
              "    </tr>\n",
              "    <tr>\n",
              "      <th>pl_tranmiderr2</th>\n",
              "      <td>-0.016520</td>\n",
              "      <td>-0.025318</td>\n",
              "      <td>0.003703</td>\n",
              "      <td>-0.003661</td>\n",
              "      <td>0.079267</td>\n",
              "      <td>-0.999759</td>\n",
              "      <td>1.000000</td>\n",
              "      <td>-0.020083</td>\n",
              "      <td>-0.016929</td>\n",
              "      <td>0.018829</td>\n",
              "      <td>-0.017399</td>\n",
              "      <td>-0.053494</td>\n",
              "      <td>0.020933</td>\n",
              "      <td>0.029907</td>\n",
              "      <td>-0.003912</td>\n",
              "      <td>-0.089160</td>\n",
              "      <td>0.017549</td>\n",
              "    </tr>\n",
              "    <tr>\n",
              "      <th>pl_rade</th>\n",
              "      <td>0.015243</td>\n",
              "      <td>0.004308</td>\n",
              "      <td>-0.000293</td>\n",
              "      <td>0.000290</td>\n",
              "      <td>-0.011139</td>\n",
              "      <td>0.020071</td>\n",
              "      <td>-0.020083</td>\n",
              "      <td>1.000000</td>\n",
              "      <td>0.722168</td>\n",
              "      <td>-0.987640</td>\n",
              "      <td>0.053534</td>\n",
              "      <td>0.035413</td>\n",
              "      <td>-0.053168</td>\n",
              "      <td>-0.016026</td>\n",
              "      <td>-0.004695</td>\n",
              "      <td>0.021119</td>\n",
              "      <td>-0.008507</td>\n",
              "    </tr>\n",
              "    <tr>\n",
              "      <th>pl_radeerr1</th>\n",
              "      <td>0.011446</td>\n",
              "      <td>0.002827</td>\n",
              "      <td>-0.000431</td>\n",
              "      <td>0.000428</td>\n",
              "      <td>-0.012904</td>\n",
              "      <td>0.016912</td>\n",
              "      <td>-0.016929</td>\n",
              "      <td>0.722168</td>\n",
              "      <td>1.000000</td>\n",
              "      <td>-0.660121</td>\n",
              "      <td>0.044390</td>\n",
              "      <td>0.061528</td>\n",
              "      <td>-0.042495</td>\n",
              "      <td>-0.009016</td>\n",
              "      <td>-0.006531</td>\n",
              "      <td>0.021187</td>\n",
              "      <td>-0.009007</td>\n",
              "    </tr>\n",
              "    <tr>\n",
              "      <th>pl_radeerr2</th>\n",
              "      <td>-0.014023</td>\n",
              "      <td>-0.004145</td>\n",
              "      <td>0.000268</td>\n",
              "      <td>-0.000266</td>\n",
              "      <td>0.008912</td>\n",
              "      <td>-0.018817</td>\n",
              "      <td>0.018829</td>\n",
              "      <td>-0.987640</td>\n",
              "      <td>-0.660121</td>\n",
              "      <td>1.000000</td>\n",
              "      <td>-0.049361</td>\n",
              "      <td>-0.031037</td>\n",
              "      <td>0.053445</td>\n",
              "      <td>0.016792</td>\n",
              "      <td>0.003973</td>\n",
              "      <td>-0.018822</td>\n",
              "      <td>0.007481</td>\n",
              "    </tr>\n",
              "    <tr>\n",
              "      <th>st_rad</th>\n",
              "      <td>0.043963</td>\n",
              "      <td>-0.001241</td>\n",
              "      <td>-0.001602</td>\n",
              "      <td>0.001592</td>\n",
              "      <td>-0.033326</td>\n",
              "      <td>0.017337</td>\n",
              "      <td>-0.017399</td>\n",
              "      <td>0.053534</td>\n",
              "      <td>0.044390</td>\n",
              "      <td>-0.049361</td>\n",
              "      <td>1.000000</td>\n",
              "      <td>0.731408</td>\n",
              "      <td>-0.879753</td>\n",
              "      <td>-0.129227</td>\n",
              "      <td>-0.020517</td>\n",
              "      <td>0.065918</td>\n",
              "      <td>-0.032388</td>\n",
              "    </tr>\n",
              "    <tr>\n",
              "      <th>st_raderr1</th>\n",
              "      <td>0.075005</td>\n",
              "      <td>-0.000903</td>\n",
              "      <td>-0.003190</td>\n",
              "      <td>0.003173</td>\n",
              "      <td>-0.069531</td>\n",
              "      <td>0.053227</td>\n",
              "      <td>-0.053494</td>\n",
              "      <td>0.035413</td>\n",
              "      <td>0.061528</td>\n",
              "      <td>-0.031037</td>\n",
              "      <td>0.731408</td>\n",
              "      <td>1.000000</td>\n",
              "      <td>-0.627483</td>\n",
              "      <td>-0.138673</td>\n",
              "      <td>-0.043069</td>\n",
              "      <td>0.117943</td>\n",
              "      <td>-0.055695</td>\n",
              "    </tr>\n",
              "    <tr>\n",
              "      <th>st_raderr2</th>\n",
              "      <td>-0.043685</td>\n",
              "      <td>0.001625</td>\n",
              "      <td>0.001440</td>\n",
              "      <td>-0.001432</td>\n",
              "      <td>0.031813</td>\n",
              "      <td>-0.020820</td>\n",
              "      <td>0.020933</td>\n",
              "      <td>-0.053168</td>\n",
              "      <td>-0.042495</td>\n",
              "      <td>0.053445</td>\n",
              "      <td>-0.879753</td>\n",
              "      <td>-0.627483</td>\n",
              "      <td>1.000000</td>\n",
              "      <td>0.102871</td>\n",
              "      <td>0.019323</td>\n",
              "      <td>-0.066119</td>\n",
              "      <td>0.032252</td>\n",
              "    </tr>\n",
              "    <tr>\n",
              "      <th>kep_mag</th>\n",
              "      <td>0.033166</td>\n",
              "      <td>-0.020610</td>\n",
              "      <td>-0.033283</td>\n",
              "      <td>0.033238</td>\n",
              "      <td>-0.282911</td>\n",
              "      <td>-0.030053</td>\n",
              "      <td>0.029907</td>\n",
              "      <td>-0.016026</td>\n",
              "      <td>-0.009016</td>\n",
              "      <td>0.016792</td>\n",
              "      <td>-0.129227</td>\n",
              "      <td>-0.138673</td>\n",
              "      <td>0.102871</td>\n",
              "      <td>1.000000</td>\n",
              "      <td>-0.138377</td>\n",
              "      <td>0.045348</td>\n",
              "      <td>-0.007244</td>\n",
              "    </tr>\n",
              "    <tr>\n",
              "      <th>CONFIRMED</th>\n",
              "      <td>-0.026716</td>\n",
              "      <td>-0.006634</td>\n",
              "      <td>-0.001681</td>\n",
              "      <td>0.001669</td>\n",
              "      <td>0.381335</td>\n",
              "      <td>0.003952</td>\n",
              "      <td>-0.003912</td>\n",
              "      <td>-0.004695</td>\n",
              "      <td>-0.006531</td>\n",
              "      <td>0.003973</td>\n",
              "      <td>-0.020517</td>\n",
              "      <td>-0.043069</td>\n",
              "      <td>0.019323</td>\n",
              "      <td>-0.138377</td>\n",
              "      <td>1.000000</td>\n",
              "      <td>-0.139594</td>\n",
              "      <td>0.037515</td>\n",
              "    </tr>\n",
              "    <tr>\n",
              "      <th>FALSE POSITIVE</th>\n",
              "      <td>0.892792</td>\n",
              "      <td>-0.006964</td>\n",
              "      <td>-0.009503</td>\n",
              "      <td>0.009486</td>\n",
              "      <td>-0.293679</td>\n",
              "      <td>0.089125</td>\n",
              "      <td>-0.089160</td>\n",
              "      <td>0.021119</td>\n",
              "      <td>0.021187</td>\n",
              "      <td>-0.018822</td>\n",
              "      <td>0.065918</td>\n",
              "      <td>0.117943</td>\n",
              "      <td>-0.066119</td>\n",
              "      <td>0.045348</td>\n",
              "      <td>-0.139594</td>\n",
              "      <td>1.000000</td>\n",
              "      <td>-0.232943</td>\n",
              "    </tr>\n",
              "    <tr>\n",
              "      <th>obj</th>\n",
              "      <td>-0.154824</td>\n",
              "      <td>-0.007914</td>\n",
              "      <td>-0.003736</td>\n",
              "      <td>0.003732</td>\n",
              "      <td>-0.021531</td>\n",
              "      <td>-0.017536</td>\n",
              "      <td>0.017549</td>\n",
              "      <td>-0.008507</td>\n",
              "      <td>-0.009007</td>\n",
              "      <td>0.007481</td>\n",
              "      <td>-0.032388</td>\n",
              "      <td>-0.055695</td>\n",
              "      <td>0.032252</td>\n",
              "      <td>-0.007244</td>\n",
              "      <td>0.037515</td>\n",
              "      <td>-0.232943</td>\n",
              "      <td>1.000000</td>\n",
              "    </tr>\n",
              "  </tbody>\n",
              "</table>\n",
              "</div>"
            ],
            "text/plain": [
              "                    disp  pl_orbper  ...  FALSE POSITIVE       obj\n",
              "disp            1.000000  -0.019486  ...        0.892792 -0.154824\n",
              "pl_orbper      -0.019486   1.000000  ...       -0.006964 -0.007914\n",
              "pl_orbpererr1  -0.014809   0.541196  ...       -0.009503 -0.003736\n",
              "pl_orbpererr2   0.014765  -0.541204  ...        0.009486  0.003732\n",
              "pl_tranmid     -0.268654  -0.001519  ...       -0.293679 -0.021531\n",
              "pl_tranmiderr1  0.016652   0.025303  ...        0.089125 -0.017536\n",
              "pl_tranmiderr2 -0.016520  -0.025318  ...       -0.089160  0.017549\n",
              "pl_rade         0.015243   0.004308  ...        0.021119 -0.008507\n",
              "pl_radeerr1     0.011446   0.002827  ...        0.021187 -0.009007\n",
              "pl_radeerr2    -0.014023  -0.004145  ...       -0.018822  0.007481\n",
              "st_rad          0.043963  -0.001241  ...        0.065918 -0.032388\n",
              "st_raderr1      0.075005  -0.000903  ...        0.117943 -0.055695\n",
              "st_raderr2     -0.043685   0.001625  ...       -0.066119  0.032252\n",
              "kep_mag         0.033166  -0.020610  ...        0.045348 -0.007244\n",
              "CONFIRMED      -0.026716  -0.006634  ...       -0.139594  0.037515\n",
              "FALSE POSITIVE  0.892792  -0.006964  ...        1.000000 -0.232943\n",
              "obj            -0.154824  -0.007914  ...       -0.232943  1.000000\n",
              "\n",
              "[17 rows x 17 columns]"
            ]
          },
          "metadata": {
            "tags": []
          },
          "execution_count": 288
        }
      ]
    },
    {
      "cell_type": "markdown",
      "metadata": {
        "id": "SZO6ppr3Wnu0"
      },
      "source": [
        "RANDOM FOREST"
      ]
    },
    {
      "cell_type": "code",
      "metadata": {
        "id": "zKh0Q7Un95ED"
      },
      "source": [
        "from sklearn.ensemble import RandomForestClassifier"
      ],
      "execution_count": 150,
      "outputs": []
    },
    {
      "cell_type": "code",
      "metadata": {
        "colab": {
          "base_uri": "https://localhost:8080/"
        },
        "id": "wgsD1E1P9ias",
        "outputId": "dfec8033-fe56-4117-9709-4b7b51ebd46a"
      },
      "source": [
        "clf = RandomForestClassifier().fit(X_train, y_train)"
      ],
      "execution_count": 151,
      "outputs": [
        {
          "output_type": "stream",
          "text": [
            "/usr/local/lib/python3.6/dist-packages/ipykernel_launcher.py:1: DataConversionWarning: A column-vector y was passed when a 1d array was expected. Please change the shape of y to (n_samples,), for example using ravel().\n",
            "  \"\"\"Entry point for launching an IPython kernel.\n"
          ],
          "name": "stderr"
        }
      ]
    },
    {
      "cell_type": "code",
      "metadata": {
        "colab": {
          "base_uri": "https://localhost:8080/"
        },
        "id": "555fCUuTQ43u",
        "outputId": "e91a614d-37b5-450e-f8f5-06a2e3ce1b8f"
      },
      "source": [
        " cv = cross_val_score(clf, X_train, y_train, cv = 10, scoring='accuracy')"
      ],
      "execution_count": 152,
      "outputs": [
        {
          "output_type": "stream",
          "text": [
            "/usr/local/lib/python3.6/dist-packages/sklearn/model_selection/_validation.py:515: DataConversionWarning: A column-vector y was passed when a 1d array was expected. Please change the shape of y to (n_samples,), for example using ravel().\n",
            "  estimator.fit(X_train, y_train, **fit_params)\n",
            "/usr/local/lib/python3.6/dist-packages/sklearn/model_selection/_validation.py:515: DataConversionWarning: A column-vector y was passed when a 1d array was expected. Please change the shape of y to (n_samples,), for example using ravel().\n",
            "  estimator.fit(X_train, y_train, **fit_params)\n",
            "/usr/local/lib/python3.6/dist-packages/sklearn/model_selection/_validation.py:515: DataConversionWarning: A column-vector y was passed when a 1d array was expected. Please change the shape of y to (n_samples,), for example using ravel().\n",
            "  estimator.fit(X_train, y_train, **fit_params)\n",
            "/usr/local/lib/python3.6/dist-packages/sklearn/model_selection/_validation.py:515: DataConversionWarning: A column-vector y was passed when a 1d array was expected. Please change the shape of y to (n_samples,), for example using ravel().\n",
            "  estimator.fit(X_train, y_train, **fit_params)\n",
            "/usr/local/lib/python3.6/dist-packages/sklearn/model_selection/_validation.py:515: DataConversionWarning: A column-vector y was passed when a 1d array was expected. Please change the shape of y to (n_samples,), for example using ravel().\n",
            "  estimator.fit(X_train, y_train, **fit_params)\n",
            "/usr/local/lib/python3.6/dist-packages/sklearn/model_selection/_validation.py:515: DataConversionWarning: A column-vector y was passed when a 1d array was expected. Please change the shape of y to (n_samples,), for example using ravel().\n",
            "  estimator.fit(X_train, y_train, **fit_params)\n",
            "/usr/local/lib/python3.6/dist-packages/sklearn/model_selection/_validation.py:515: DataConversionWarning: A column-vector y was passed when a 1d array was expected. Please change the shape of y to (n_samples,), for example using ravel().\n",
            "  estimator.fit(X_train, y_train, **fit_params)\n",
            "/usr/local/lib/python3.6/dist-packages/sklearn/model_selection/_validation.py:515: DataConversionWarning: A column-vector y was passed when a 1d array was expected. Please change the shape of y to (n_samples,), for example using ravel().\n",
            "  estimator.fit(X_train, y_train, **fit_params)\n",
            "/usr/local/lib/python3.6/dist-packages/sklearn/model_selection/_validation.py:515: DataConversionWarning: A column-vector y was passed when a 1d array was expected. Please change the shape of y to (n_samples,), for example using ravel().\n",
            "  estimator.fit(X_train, y_train, **fit_params)\n",
            "/usr/local/lib/python3.6/dist-packages/sklearn/model_selection/_validation.py:515: DataConversionWarning: A column-vector y was passed when a 1d array was expected. Please change the shape of y to (n_samples,), for example using ravel().\n",
            "  estimator.fit(X_train, y_train, **fit_params)\n"
          ],
          "name": "stderr"
        }
      ]
    },
    {
      "cell_type": "code",
      "metadata": {
        "colab": {
          "base_uri": "https://localhost:8080/"
        },
        "id": "ko6sfjKaRIQJ",
        "outputId": "476a4d7d-3d5b-43f4-8465-025eaab14426"
      },
      "source": [
        "cv"
      ],
      "execution_count": 153,
      "outputs": [
        {
          "output_type": "execute_result",
          "data": {
            "text/plain": [
              "array([0.90057143, 0.89142857, 0.92114286, 0.90057143, 0.89257143,\n",
              "       0.89130435, 0.8993135 , 0.89816934, 0.89359268, 0.89816934])"
            ]
          },
          "metadata": {
            "tags": []
          },
          "execution_count": 153
        }
      ]
    },
    {
      "cell_type": "code",
      "metadata": {
        "id": "biq9XYqe-q0F"
      },
      "source": [
        "y_pred = clf.predict(X_val)"
      ],
      "execution_count": 154,
      "outputs": []
    },
    {
      "cell_type": "code",
      "metadata": {
        "id": "jfFzoK-_AsLy"
      },
      "source": [
        "from sklearn.metrics import confusion_matrix\n",
        "from sklearn.metrics import classification_report"
      ],
      "execution_count": 155,
      "outputs": []
    },
    {
      "cell_type": "code",
      "metadata": {
        "colab": {
          "base_uri": "https://localhost:8080/"
        },
        "id": "3RrZYTd5AvDm",
        "outputId": "a7abd7b2-c041-4ed6-ad9c-9310124576ff"
      },
      "source": [
        "print(confusion_matrix(y_val, y_pred))"
      ],
      "execution_count": 156,
      "outputs": [
        {
          "output_type": "stream",
          "text": [
            "[[576 115   0]\n",
            " [113 458   4]\n",
            " [  1   3 917]]\n"
          ],
          "name": "stdout"
        }
      ]
    },
    {
      "cell_type": "code",
      "metadata": {
        "colab": {
          "base_uri": "https://localhost:8080/"
        },
        "id": "MyaHidQCAxbe",
        "outputId": "46a6fddd-7e15-4d59-cb6a-634cd059a953"
      },
      "source": [
        "print(classification_report(y_val, y_pred, digits=3))"
      ],
      "execution_count": 157,
      "outputs": [
        {
          "output_type": "stream",
          "text": [
            "              precision    recall  f1-score   support\n",
            "\n",
            "           0      0.835     0.834     0.834       691\n",
            "           1      0.795     0.797     0.796       575\n",
            "           2      0.996     0.996     0.996       921\n",
            "\n",
            "    accuracy                          0.892      2187\n",
            "   macro avg      0.875     0.875     0.875      2187\n",
            "weighted avg      0.892     0.892     0.892      2187\n",
            "\n"
          ],
          "name": "stdout"
        }
      ]
    },
    {
      "cell_type": "code",
      "metadata": {
        "colab": {
          "base_uri": "https://localhost:8080/",
          "height": 296
        },
        "id": "vkzsvJwyIh5K",
        "outputId": "336b0853-492a-4841-bd61-f2aefe3d1ad2"
      },
      "source": [
        "from sklearn.metrics import plot_confusion_matrix\n",
        "\n",
        "plot_confusion_matrix(clf, X_val, y_val, values_format = '')"
      ],
      "execution_count": 158,
      "outputs": [
        {
          "output_type": "execute_result",
          "data": {
            "text/plain": [
              "<sklearn.metrics._plot.confusion_matrix.ConfusionMatrixDisplay at 0x7ff60ea34e10>"
            ]
          },
          "metadata": {
            "tags": []
          },
          "execution_count": 158
        },
        {
          "output_type": "display_data",
          "data": {
            "image/png": "[encoded data removed]",
            "text/plain": [
              "<Figure size 432x288 with 2 Axes>"
            ]
          },
          "metadata": {
            "tags": [],
            "needs_background": "light"
          }
        }
      ]
    },
    {
      "cell_type": "code",
      "metadata": {
        "id": "-IIH2b0SUyHd"
      },
      "source": [
        ""
      ],
      "execution_count": null,
      "outputs": []
    }
  ]
}